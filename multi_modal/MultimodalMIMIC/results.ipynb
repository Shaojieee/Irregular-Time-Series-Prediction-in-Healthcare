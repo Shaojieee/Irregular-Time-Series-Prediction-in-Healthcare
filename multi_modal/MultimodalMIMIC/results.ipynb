{
 "cells": [
  {
   "cell_type": "code",
   "execution_count": 2,
   "id": "d8c9936f",
   "metadata": {},
   "outputs": [],
   "source": [
    "import pandas as pd\n",
    "import pickle"
   ]
  },
  {
   "cell_type": "code",
   "execution_count": 9,
   "id": "5edfaacd",
   "metadata": {},
   "outputs": [],
   "source": [
    "batch = pickle.load(open('./run/TS_Text/ihm/TS_Text/TS_48/Atten/Text_48/bioLongformer/1024/cross_attn3/batch/irregular_TS_64/irregular_Text_64/2e-05_2_3_0.0004_6_8_128_1_4/result.pkl', 'rb'))\n",
    "batch_seq = pickle.load(open('./run/TS_Text/ihm/TS_Text/TS_48/Atten/Text_48/bioLongformer/1024/cross_attn3/batch_seq/irregular_TS_64/irregular_Text_64/2e-05_2_3_0.0004_6_8_128_1_4/result.pkl', 'rb'))\n",
    "batch_seq_feature = pickle.load(open('./run/TS_Text/ihm/TS_Text/TS_48/Atten/Text_48/bioLongformer/1024/cross_attn3/batch_seq_feature/irregular_TS_64/irregular_Text_64/2e-05_2_3_0.0004_6_8_128_1_4/result.pkl', 'rb'))"
   ]
  },
  {
   "cell_type": "code",
   "execution_count": 10,
   "id": "4264c113",
   "metadata": {},
   "outputs": [
    {
     "data": {
      "text/plain": [
       "{42: {'auc': {'val': 0.8816615325375433, 'test': 0.8861178085861631},\n",
       "  'auprc': {'val': 0.5815638417168193, 'test': 0.5958450666911196},\n",
       "  'f1': {'val': 0.5341365461847389, 'test': 0.5555555555555555}}}"
      ]
     },
     "execution_count": 10,
     "metadata": {},
     "output_type": "execute_result"
    }
   ],
   "source": [
    "batch"
   ]
  },
  {
   "cell_type": "code",
   "execution_count": 11,
   "id": "6f457755",
   "metadata": {},
   "outputs": [
    {
     "data": {
      "text/plain": [
       "{42: {'auc': {'val': 0.8785064497497113, 'test': 0.8859060009376465},\n",
       "  'auprc': {'val': 0.5742339165914487, 'test': 0.5892350614741192},\n",
       "  'f1': {'val': 0.5396226415094338, 'test': 0.5523156089193825}}}"
      ]
     },
     "execution_count": 11,
     "metadata": {},
     "output_type": "execute_result"
    }
   ],
   "source": [
    "batch_seq"
   ]
  },
  {
   "cell_type": "code",
   "execution_count": 12,
   "id": "3b337e4d",
   "metadata": {},
   "outputs": [
    {
     "data": {
      "text/plain": [
       "{42: {'auc': {'val': 0.870437042741625, 'test': 0.8819636996852187},\n",
       "  'auprc': {'val': 0.5649216680413752, 'test': 0.5763680679527912},\n",
       "  'f1': {'val': 0.4959016393442623, 'test': 0.5362318840579711}}}"
      ]
     },
     "execution_count": 12,
     "metadata": {},
     "output_type": "execute_result"
    }
   ],
   "source": [
    "batch_seq_feature"
   ]
  },
  {
   "cell_type": "code",
   "execution_count": null,
   "id": "e55fb5c1",
   "metadata": {},
   "outputs": [],
   "source": [
    "results = pickle.load(open('./run/TS_Text/ihm/TS_Text/TS_48/Atten/Text_48/bioLongformer/1024/cross_attn3/batch/irregular_TS_64/irregular_Text_64/2e-05_2_3_0.0004_6_8_128_1_4/result.pkl', 'rb'))"
   ]
  }
 ],
 "metadata": {
  "kernelspec": {
   "display_name": "Python [conda env:.conda-fyp_multi_modal] *",
   "language": "python",
   "name": "conda-env-.conda-fyp_multi_modal-py"
  },
  "language_info": {
   "codemirror_mode": {
    "name": "ipython",
    "version": 3
   },
   "file_extension": ".py",
   "mimetype": "text/x-python",
   "name": "python",
   "nbconvert_exporter": "python",
   "pygments_lexer": "ipython3",
   "version": "3.8.12"
  }
 },
 "nbformat": 4,
 "nbformat_minor": 5
}
