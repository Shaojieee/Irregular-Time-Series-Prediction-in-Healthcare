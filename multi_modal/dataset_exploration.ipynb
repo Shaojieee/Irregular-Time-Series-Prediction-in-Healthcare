{
 "cells": [
  {
   "cell_type": "code",
   "execution_count": 79,
   "metadata": {},
   "outputs": [],
   "source": [
    "import pandas as pd\n",
    "import os\n",
    "import sys\n",
    "import pickle\n",
    "import json\n",
    "\n",
    "from tqdm import tqdm\n",
    "\n",
    "sys.path.append('./MultimodalMIMIC')\n",
    "from data import data_perpare\n",
    "\n",
    "sys.path.append('./mimic3-benchmarks')\n",
    "from mimic3benchmark.readers import InHospitalMortalityReader\n",
    "from mimic3models.preprocessing import Normalizer\n",
    "from MultimodalMIMIC.preprocessing import Discretizer_multi\n",
    "from mimic3models import common_utils\n",
    "from text_utils import *"
   ]
  },
  {
   "cell_type": "markdown",
   "metadata": {},
   "source": [
    "# Mimic 3 benchmark"
   ]
  },
  {
   "cell_type": "code",
   "execution_count": 80,
   "metadata": {},
   "outputs": [],
   "source": [
    "listfile = pd.read_csv('./mimic3-benchmarks/data/in-hospital-mortality/val_listfile.csv')"
   ]
  },
  {
   "cell_type": "code",
   "execution_count": 81,
   "metadata": {},
   "outputs": [
    {
     "data": {
      "text/html": [
       "<div>\n",
       "<style scoped>\n",
       "    .dataframe tbody tr th:only-of-type {\n",
       "        vertical-align: middle;\n",
       "    }\n",
       "\n",
       "    .dataframe tbody tr th {\n",
       "        vertical-align: top;\n",
       "    }\n",
       "\n",
       "    .dataframe thead th {\n",
       "        text-align: right;\n",
       "    }\n",
       "</style>\n",
       "<table border=\"1\" class=\"dataframe\">\n",
       "  <thead>\n",
       "    <tr style=\"text-align: right;\">\n",
       "      <th></th>\n",
       "      <th>stay</th>\n",
       "      <th>y_true</th>\n",
       "    </tr>\n",
       "  </thead>\n",
       "  <tbody>\n",
       "    <tr>\n",
       "      <th>0</th>\n",
       "      <td>49750_episode1_timeseries.csv</td>\n",
       "      <td>0</td>\n",
       "    </tr>\n",
       "    <tr>\n",
       "      <th>1</th>\n",
       "      <td>23516_episode1_timeseries.csv</td>\n",
       "      <td>0</td>\n",
       "    </tr>\n",
       "    <tr>\n",
       "      <th>2</th>\n",
       "      <td>18152_episode1_timeseries.csv</td>\n",
       "      <td>0</td>\n",
       "    </tr>\n",
       "    <tr>\n",
       "      <th>3</th>\n",
       "      <td>3808_episode1_timeseries.csv</td>\n",
       "      <td>0</td>\n",
       "    </tr>\n",
       "    <tr>\n",
       "      <th>4</th>\n",
       "      <td>65442_episode1_timeseries.csv</td>\n",
       "      <td>1</td>\n",
       "    </tr>\n",
       "  </tbody>\n",
       "</table>\n",
       "</div>"
      ],
      "text/plain": [
       "                            stay  y_true\n",
       "0  49750_episode1_timeseries.csv       0\n",
       "1  23516_episode1_timeseries.csv       0\n",
       "2  18152_episode1_timeseries.csv       0\n",
       "3   3808_episode1_timeseries.csv       0\n",
       "4  65442_episode1_timeseries.csv       1"
      ]
     },
     "execution_count": 81,
     "metadata": {},
     "output_type": "execute_result"
    }
   ],
   "source": [
    "listfile.head()"
   ]
  },
  {
   "cell_type": "code",
   "execution_count": 82,
   "metadata": {},
   "outputs": [
    {
     "data": {
      "text/plain": [
       "0    2200\n",
       "1     353\n",
       "Name: y_true, dtype: int64"
      ]
     },
     "execution_count": 82,
     "metadata": {},
     "output_type": "execute_result"
    }
   ],
   "source": [
    "listfile['y_true'].value_counts()"
   ]
  },
  {
   "cell_type": "code",
   "execution_count": 83,
   "metadata": {},
   "outputs": [],
   "source": [
    "train_folder = os.listdir('./mimic3-benchmarks/data/in-hospital-mortality/train')"
   ]
  },
  {
   "cell_type": "code",
   "execution_count": 84,
   "metadata": {},
   "outputs": [
    {
     "data": {
      "text/plain": [
       "10592"
      ]
     },
     "execution_count": 84,
     "metadata": {},
     "output_type": "execute_result"
    }
   ],
   "source": [
    "sample, label = listfile.loc[0,'stay'], listfile.loc[0,'y_true']\n",
    "\n",
    "train_folder.index(sample)"
   ]
  },
  {
   "cell_type": "code",
   "execution_count": 85,
   "metadata": {
    "scrolled": true
   },
   "outputs": [
    {
     "name": "stderr",
     "output_type": "stream",
     "text": [
      "100%|██████████| 17904/17904 [01:06<00:00, 267.78it/s]\n"
     ]
    }
   ],
   "source": [
    "lengths = []\n",
    "hours = []\n",
    "for file in tqdm(train_folder):\n",
    "    if 'episode' not in file:\n",
    "        continue\n",
    "    temp = pd.read_csv(f'./mimic3-benchmarks/data/in-hospital-mortality/train/{file}')\n",
    "    hours.append(temp['Hours'].max())\n",
    "    temp = temp.drop(columns=['Hours'])\n",
    "    lengths.append(temp.count(axis=1).sum())"
   ]
  },
  {
   "cell_type": "code",
   "execution_count": 86,
   "metadata": {},
   "outputs": [
    {
     "data": {
      "text/plain": [
       "count    17903.000000\n",
       "mean       446.641792\n",
       "std        470.382317\n",
       "min          1.000000\n",
       "25%        364.000000\n",
       "50%        414.000000\n",
       "75%        489.000000\n",
       "max      19180.000000\n",
       "dtype: float64"
      ]
     },
     "execution_count": 86,
     "metadata": {},
     "output_type": "execute_result"
    }
   ],
   "source": [
    "pd.Series(lengths).describe()"
   ]
  },
  {
   "cell_type": "code",
   "execution_count": 87,
   "metadata": {},
   "outputs": [
    {
     "data": {
      "text/plain": [
       "3971"
      ]
     },
     "execution_count": 87,
     "metadata": {},
     "output_type": "execute_result"
    }
   ],
   "source": [
    "len([x for x in lengths if x>500])"
   ]
  },
  {
   "cell_type": "code",
   "execution_count": 88,
   "metadata": {},
   "outputs": [
    {
     "data": {
      "text/plain": [
       "count    17903.000000\n",
       "mean        47.342311\n",
       "std          1.432299\n",
       "min          2.295556\n",
       "25%         47.245139\n",
       "50%         47.544167\n",
       "75%         47.793194\n",
       "max         48.000000\n",
       "dtype: float64"
      ]
     },
     "execution_count": 88,
     "metadata": {},
     "output_type": "execute_result"
    }
   ],
   "source": [
    "pd.Series(hours).describe()"
   ]
  },
  {
   "cell_type": "code",
   "execution_count": 89,
   "metadata": {},
   "outputs": [],
   "source": [
    "sample_csv = pd.read_csv(f'./mimic3-benchmarks/data/in-hospital-mortality/train/{sample}')"
   ]
  },
  {
   "cell_type": "code",
   "execution_count": 90,
   "metadata": {},
   "outputs": [
    {
     "data": {
      "text/html": [
       "<div>\n",
       "<style scoped>\n",
       "    .dataframe tbody tr th:only-of-type {\n",
       "        vertical-align: middle;\n",
       "    }\n",
       "\n",
       "    .dataframe tbody tr th {\n",
       "        vertical-align: top;\n",
       "    }\n",
       "\n",
       "    .dataframe thead th {\n",
       "        text-align: right;\n",
       "    }\n",
       "</style>\n",
       "<table border=\"1\" class=\"dataframe\">\n",
       "  <thead>\n",
       "    <tr style=\"text-align: right;\">\n",
       "      <th></th>\n",
       "      <th>Hours</th>\n",
       "      <th>Capillary refill rate</th>\n",
       "      <th>Diastolic blood pressure</th>\n",
       "      <th>Fraction inspired oxygen</th>\n",
       "      <th>Glascow coma scale eye opening</th>\n",
       "      <th>Glascow coma scale motor response</th>\n",
       "      <th>Glascow coma scale total</th>\n",
       "      <th>Glascow coma scale verbal response</th>\n",
       "      <th>Glucose</th>\n",
       "      <th>Heart Rate</th>\n",
       "      <th>Height</th>\n",
       "      <th>Mean blood pressure</th>\n",
       "      <th>Oxygen saturation</th>\n",
       "      <th>Respiratory rate</th>\n",
       "      <th>Systolic blood pressure</th>\n",
       "      <th>Temperature</th>\n",
       "      <th>Weight</th>\n",
       "      <th>pH</th>\n",
       "    </tr>\n",
       "  </thead>\n",
       "  <tbody>\n",
       "    <tr>\n",
       "      <th>0</th>\n",
       "      <td>0.098611</td>\n",
       "      <td>NaN</td>\n",
       "      <td>NaN</td>\n",
       "      <td>NaN</td>\n",
       "      <td>NaN</td>\n",
       "      <td>NaN</td>\n",
       "      <td>NaN</td>\n",
       "      <td>NaN</td>\n",
       "      <td>NaN</td>\n",
       "      <td>NaN</td>\n",
       "      <td>NaN</td>\n",
       "      <td>NaN</td>\n",
       "      <td>NaN</td>\n",
       "      <td>NaN</td>\n",
       "      <td>NaN</td>\n",
       "      <td>NaN</td>\n",
       "      <td>NaN</td>\n",
       "      <td>7.37</td>\n",
       "    </tr>\n",
       "    <tr>\n",
       "      <th>1</th>\n",
       "      <td>1.098611</td>\n",
       "      <td>NaN</td>\n",
       "      <td>NaN</td>\n",
       "      <td>NaN</td>\n",
       "      <td>NaN</td>\n",
       "      <td>NaN</td>\n",
       "      <td>NaN</td>\n",
       "      <td>NaN</td>\n",
       "      <td>NaN</td>\n",
       "      <td>NaN</td>\n",
       "      <td>NaN</td>\n",
       "      <td>NaN</td>\n",
       "      <td>NaN</td>\n",
       "      <td>NaN</td>\n",
       "      <td>NaN</td>\n",
       "      <td>NaN</td>\n",
       "      <td>NaN</td>\n",
       "      <td>7.37</td>\n",
       "    </tr>\n",
       "    <tr>\n",
       "      <th>2</th>\n",
       "      <td>1.315278</td>\n",
       "      <td>NaN</td>\n",
       "      <td>91.0</td>\n",
       "      <td>NaN</td>\n",
       "      <td>NaN</td>\n",
       "      <td>NaN</td>\n",
       "      <td>NaN</td>\n",
       "      <td>NaN</td>\n",
       "      <td>NaN</td>\n",
       "      <td>NaN</td>\n",
       "      <td>NaN</td>\n",
       "      <td>107.0</td>\n",
       "      <td>NaN</td>\n",
       "      <td>NaN</td>\n",
       "      <td>154.0</td>\n",
       "      <td>NaN</td>\n",
       "      <td>NaN</td>\n",
       "      <td>NaN</td>\n",
       "    </tr>\n",
       "    <tr>\n",
       "      <th>3</th>\n",
       "      <td>1.331944</td>\n",
       "      <td>NaN</td>\n",
       "      <td>NaN</td>\n",
       "      <td>NaN</td>\n",
       "      <td>NaN</td>\n",
       "      <td>NaN</td>\n",
       "      <td>NaN</td>\n",
       "      <td>NaN</td>\n",
       "      <td>NaN</td>\n",
       "      <td>107.0</td>\n",
       "      <td>NaN</td>\n",
       "      <td>NaN</td>\n",
       "      <td>NaN</td>\n",
       "      <td>32.0</td>\n",
       "      <td>NaN</td>\n",
       "      <td>NaN</td>\n",
       "      <td>NaN</td>\n",
       "      <td>NaN</td>\n",
       "    </tr>\n",
       "    <tr>\n",
       "      <th>4</th>\n",
       "      <td>1.348611</td>\n",
       "      <td>NaN</td>\n",
       "      <td>NaN</td>\n",
       "      <td>NaN</td>\n",
       "      <td>NaN</td>\n",
       "      <td>NaN</td>\n",
       "      <td>NaN</td>\n",
       "      <td>NaN</td>\n",
       "      <td>NaN</td>\n",
       "      <td>NaN</td>\n",
       "      <td>NaN</td>\n",
       "      <td>NaN</td>\n",
       "      <td>99.0</td>\n",
       "      <td>NaN</td>\n",
       "      <td>NaN</td>\n",
       "      <td>NaN</td>\n",
       "      <td>NaN</td>\n",
       "      <td>NaN</td>\n",
       "    </tr>\n",
       "  </tbody>\n",
       "</table>\n",
       "</div>"
      ],
      "text/plain": [
       "      Hours  Capillary refill rate  Diastolic blood pressure  \\\n",
       "0  0.098611                    NaN                       NaN   \n",
       "1  1.098611                    NaN                       NaN   \n",
       "2  1.315278                    NaN                      91.0   \n",
       "3  1.331944                    NaN                       NaN   \n",
       "4  1.348611                    NaN                       NaN   \n",
       "\n",
       "   Fraction inspired oxygen Glascow coma scale eye opening  \\\n",
       "0                       NaN                            NaN   \n",
       "1                       NaN                            NaN   \n",
       "2                       NaN                            NaN   \n",
       "3                       NaN                            NaN   \n",
       "4                       NaN                            NaN   \n",
       "\n",
       "  Glascow coma scale motor response  Glascow coma scale total  \\\n",
       "0                               NaN                       NaN   \n",
       "1                               NaN                       NaN   \n",
       "2                               NaN                       NaN   \n",
       "3                               NaN                       NaN   \n",
       "4                               NaN                       NaN   \n",
       "\n",
       "  Glascow coma scale verbal response  Glucose  Heart Rate  Height  \\\n",
       "0                                NaN      NaN         NaN     NaN   \n",
       "1                                NaN      NaN         NaN     NaN   \n",
       "2                                NaN      NaN         NaN     NaN   \n",
       "3                                NaN      NaN       107.0     NaN   \n",
       "4                                NaN      NaN         NaN     NaN   \n",
       "\n",
       "   Mean blood pressure  Oxygen saturation  Respiratory rate  \\\n",
       "0                  NaN                NaN               NaN   \n",
       "1                  NaN                NaN               NaN   \n",
       "2                107.0                NaN               NaN   \n",
       "3                  NaN                NaN              32.0   \n",
       "4                  NaN               99.0               NaN   \n",
       "\n",
       "   Systolic blood pressure  Temperature  Weight    pH  \n",
       "0                      NaN          NaN     NaN  7.37  \n",
       "1                      NaN          NaN     NaN  7.37  \n",
       "2                    154.0          NaN     NaN   NaN  \n",
       "3                      NaN          NaN     NaN   NaN  \n",
       "4                      NaN          NaN     NaN   NaN  "
      ]
     },
     "execution_count": 90,
     "metadata": {},
     "output_type": "execute_result"
    }
   ],
   "source": [
    "sample_csv.head()"
   ]
  },
  {
   "cell_type": "code",
   "execution_count": 91,
   "metadata": {},
   "outputs": [
    {
     "data": {
      "text/plain": [
       "1.3152777777777778"
      ]
     },
     "execution_count": 91,
     "metadata": {},
     "output_type": "execute_result"
    }
   ],
   "source": [
    "sample_csv.loc[2,\"Hours\"]"
   ]
  },
  {
   "cell_type": "code",
   "execution_count": 92,
   "metadata": {
    "scrolled": true
   },
   "outputs": [
    {
     "data": {
      "text/html": [
       "<div>\n",
       "<style scoped>\n",
       "    .dataframe tbody tr th:only-of-type {\n",
       "        vertical-align: middle;\n",
       "    }\n",
       "\n",
       "    .dataframe tbody tr th {\n",
       "        vertical-align: top;\n",
       "    }\n",
       "\n",
       "    .dataframe thead th {\n",
       "        text-align: right;\n",
       "    }\n",
       "</style>\n",
       "<table border=\"1\" class=\"dataframe\">\n",
       "  <thead>\n",
       "    <tr style=\"text-align: right;\">\n",
       "      <th></th>\n",
       "      <th>Hours</th>\n",
       "      <th>features</th>\n",
       "      <th>value</th>\n",
       "    </tr>\n",
       "  </thead>\n",
       "  <tbody>\n",
       "    <tr>\n",
       "      <th>2</th>\n",
       "      <td>1.315278</td>\n",
       "      <td>Capillary refill rate</td>\n",
       "      <td>NaN</td>\n",
       "    </tr>\n",
       "    <tr>\n",
       "      <th>83</th>\n",
       "      <td>1.315278</td>\n",
       "      <td>Diastolic blood pressure</td>\n",
       "      <td>91.0</td>\n",
       "    </tr>\n",
       "    <tr>\n",
       "      <th>164</th>\n",
       "      <td>1.315278</td>\n",
       "      <td>Fraction inspired oxygen</td>\n",
       "      <td>NaN</td>\n",
       "    </tr>\n",
       "    <tr>\n",
       "      <th>245</th>\n",
       "      <td>1.315278</td>\n",
       "      <td>Glascow coma scale eye opening</td>\n",
       "      <td>NaN</td>\n",
       "    </tr>\n",
       "    <tr>\n",
       "      <th>326</th>\n",
       "      <td>1.315278</td>\n",
       "      <td>Glascow coma scale motor response</td>\n",
       "      <td>NaN</td>\n",
       "    </tr>\n",
       "    <tr>\n",
       "      <th>407</th>\n",
       "      <td>1.315278</td>\n",
       "      <td>Glascow coma scale total</td>\n",
       "      <td>NaN</td>\n",
       "    </tr>\n",
       "    <tr>\n",
       "      <th>488</th>\n",
       "      <td>1.315278</td>\n",
       "      <td>Glascow coma scale verbal response</td>\n",
       "      <td>NaN</td>\n",
       "    </tr>\n",
       "    <tr>\n",
       "      <th>569</th>\n",
       "      <td>1.315278</td>\n",
       "      <td>Glucose</td>\n",
       "      <td>NaN</td>\n",
       "    </tr>\n",
       "    <tr>\n",
       "      <th>650</th>\n",
       "      <td>1.315278</td>\n",
       "      <td>Heart Rate</td>\n",
       "      <td>NaN</td>\n",
       "    </tr>\n",
       "    <tr>\n",
       "      <th>731</th>\n",
       "      <td>1.315278</td>\n",
       "      <td>Height</td>\n",
       "      <td>NaN</td>\n",
       "    </tr>\n",
       "    <tr>\n",
       "      <th>812</th>\n",
       "      <td>1.315278</td>\n",
       "      <td>Mean blood pressure</td>\n",
       "      <td>107.0</td>\n",
       "    </tr>\n",
       "    <tr>\n",
       "      <th>893</th>\n",
       "      <td>1.315278</td>\n",
       "      <td>Oxygen saturation</td>\n",
       "      <td>NaN</td>\n",
       "    </tr>\n",
       "    <tr>\n",
       "      <th>974</th>\n",
       "      <td>1.315278</td>\n",
       "      <td>Respiratory rate</td>\n",
       "      <td>NaN</td>\n",
       "    </tr>\n",
       "    <tr>\n",
       "      <th>1055</th>\n",
       "      <td>1.315278</td>\n",
       "      <td>Systolic blood pressure</td>\n",
       "      <td>154.0</td>\n",
       "    </tr>\n",
       "    <tr>\n",
       "      <th>1136</th>\n",
       "      <td>1.315278</td>\n",
       "      <td>Temperature</td>\n",
       "      <td>NaN</td>\n",
       "    </tr>\n",
       "    <tr>\n",
       "      <th>1217</th>\n",
       "      <td>1.315278</td>\n",
       "      <td>Weight</td>\n",
       "      <td>NaN</td>\n",
       "    </tr>\n",
       "    <tr>\n",
       "      <th>1298</th>\n",
       "      <td>1.315278</td>\n",
       "      <td>pH</td>\n",
       "      <td>NaN</td>\n",
       "    </tr>\n",
       "  </tbody>\n",
       "</table>\n",
       "</div>"
      ],
      "text/plain": [
       "         Hours                            features  value\n",
       "2     1.315278               Capillary refill rate    NaN\n",
       "83    1.315278            Diastolic blood pressure   91.0\n",
       "164   1.315278            Fraction inspired oxygen    NaN\n",
       "245   1.315278      Glascow coma scale eye opening    NaN\n",
       "326   1.315278   Glascow coma scale motor response    NaN\n",
       "407   1.315278            Glascow coma scale total    NaN\n",
       "488   1.315278  Glascow coma scale verbal response    NaN\n",
       "569   1.315278                             Glucose    NaN\n",
       "650   1.315278                          Heart Rate    NaN\n",
       "731   1.315278                              Height    NaN\n",
       "812   1.315278                 Mean blood pressure  107.0\n",
       "893   1.315278                   Oxygen saturation    NaN\n",
       "974   1.315278                    Respiratory rate    NaN\n",
       "1055  1.315278             Systolic blood pressure  154.0\n",
       "1136  1.315278                         Temperature    NaN\n",
       "1217  1.315278                              Weight    NaN\n",
       "1298  1.315278                                  pH    NaN"
      ]
     },
     "execution_count": 92,
     "metadata": {},
     "output_type": "execute_result"
    }
   ],
   "source": [
    "temp = sample_csv.melt(var_name='features', value_name='value', id_vars=['Hours'])\n",
    "temp[temp['Hours']==1.3152777777777778]"
   ]
  },
  {
   "cell_type": "code",
   "execution_count": 93,
   "metadata": {},
   "outputs": [
    {
     "data": {
      "text/plain": [
       "1377"
      ]
     },
     "execution_count": 93,
     "metadata": {},
     "output_type": "execute_result"
    }
   ],
   "source": [
    "len(temp)"
   ]
  },
  {
   "cell_type": "code",
   "execution_count": 94,
   "metadata": {},
   "outputs": [
    {
     "data": {
      "text/html": [
       "<div>\n",
       "<style scoped>\n",
       "    .dataframe tbody tr th:only-of-type {\n",
       "        vertical-align: middle;\n",
       "    }\n",
       "\n",
       "    .dataframe tbody tr th {\n",
       "        vertical-align: top;\n",
       "    }\n",
       "\n",
       "    .dataframe thead th {\n",
       "        text-align: right;\n",
       "    }\n",
       "</style>\n",
       "<table border=\"1\" class=\"dataframe\">\n",
       "  <thead>\n",
       "    <tr style=\"text-align: right;\">\n",
       "      <th></th>\n",
       "      <th>Hours</th>\n",
       "      <th>features</th>\n",
       "      <th>value</th>\n",
       "    </tr>\n",
       "  </thead>\n",
       "  <tbody>\n",
       "    <tr>\n",
       "      <th>0</th>\n",
       "      <td>0.098611</td>\n",
       "      <td>Capillary refill rate</td>\n",
       "      <td>NaN</td>\n",
       "    </tr>\n",
       "    <tr>\n",
       "      <th>1</th>\n",
       "      <td>1.098611</td>\n",
       "      <td>Capillary refill rate</td>\n",
       "      <td>NaN</td>\n",
       "    </tr>\n",
       "    <tr>\n",
       "      <th>2</th>\n",
       "      <td>1.315278</td>\n",
       "      <td>Capillary refill rate</td>\n",
       "      <td>NaN</td>\n",
       "    </tr>\n",
       "    <tr>\n",
       "      <th>3</th>\n",
       "      <td>1.331944</td>\n",
       "      <td>Capillary refill rate</td>\n",
       "      <td>NaN</td>\n",
       "    </tr>\n",
       "    <tr>\n",
       "      <th>4</th>\n",
       "      <td>1.348611</td>\n",
       "      <td>Capillary refill rate</td>\n",
       "      <td>NaN</td>\n",
       "    </tr>\n",
       "    <tr>\n",
       "      <th>...</th>\n",
       "      <td>...</td>\n",
       "      <td>...</td>\n",
       "      <td>...</td>\n",
       "    </tr>\n",
       "    <tr>\n",
       "      <th>1372</th>\n",
       "      <td>44.231944</td>\n",
       "      <td>pH</td>\n",
       "      <td>NaN</td>\n",
       "    </tr>\n",
       "    <tr>\n",
       "      <th>1373</th>\n",
       "      <td>44.881944</td>\n",
       "      <td>pH</td>\n",
       "      <td>NaN</td>\n",
       "    </tr>\n",
       "    <tr>\n",
       "      <th>1374</th>\n",
       "      <td>45.881944</td>\n",
       "      <td>pH</td>\n",
       "      <td>NaN</td>\n",
       "    </tr>\n",
       "    <tr>\n",
       "      <th>1375</th>\n",
       "      <td>46.881944</td>\n",
       "      <td>pH</td>\n",
       "      <td>NaN</td>\n",
       "    </tr>\n",
       "    <tr>\n",
       "      <th>1376</th>\n",
       "      <td>47.881944</td>\n",
       "      <td>pH</td>\n",
       "      <td>NaN</td>\n",
       "    </tr>\n",
       "  </tbody>\n",
       "</table>\n",
       "<p>1377 rows × 3 columns</p>\n",
       "</div>"
      ],
      "text/plain": [
       "          Hours               features value\n",
       "0      0.098611  Capillary refill rate   NaN\n",
       "1      1.098611  Capillary refill rate   NaN\n",
       "2      1.315278  Capillary refill rate   NaN\n",
       "3      1.331944  Capillary refill rate   NaN\n",
       "4      1.348611  Capillary refill rate   NaN\n",
       "...         ...                    ...   ...\n",
       "1372  44.231944                     pH   NaN\n",
       "1373  44.881944                     pH   NaN\n",
       "1374  45.881944                     pH   NaN\n",
       "1375  46.881944                     pH   NaN\n",
       "1376  47.881944                     pH   NaN\n",
       "\n",
       "[1377 rows x 3 columns]"
      ]
     },
     "execution_count": 94,
     "metadata": {},
     "output_type": "execute_result"
    }
   ],
   "source": [
    "temp.head(n=1400)"
   ]
  },
  {
   "cell_type": "code",
   "execution_count": 95,
   "metadata": {},
   "outputs": [],
   "source": [
    "times_inp = np.zeros((5, 100), dtype='float32')\n",
    "times_inp[0,:100] = temp['Hours'].values[:100]"
   ]
  },
  {
   "cell_type": "code",
   "execution_count": 96,
   "metadata": {},
   "outputs": [
    {
     "data": {
      "text/html": [
       "<div>\n",
       "<style scoped>\n",
       "    .dataframe tbody tr th:only-of-type {\n",
       "        vertical-align: middle;\n",
       "    }\n",
       "\n",
       "    .dataframe tbody tr th {\n",
       "        vertical-align: top;\n",
       "    }\n",
       "\n",
       "    .dataframe thead th {\n",
       "        text-align: right;\n",
       "    }\n",
       "</style>\n",
       "<table border=\"1\" class=\"dataframe\">\n",
       "  <thead>\n",
       "    <tr style=\"text-align: right;\">\n",
       "      <th></th>\n",
       "      <th>Hours</th>\n",
       "      <th>features</th>\n",
       "      <th>value</th>\n",
       "    </tr>\n",
       "  </thead>\n",
       "  <tbody>\n",
       "    <tr>\n",
       "      <th>0</th>\n",
       "      <td>0.098611</td>\n",
       "      <td>Capillary refill rate</td>\n",
       "      <td>NaN</td>\n",
       "    </tr>\n",
       "    <tr>\n",
       "      <th>1</th>\n",
       "      <td>1.098611</td>\n",
       "      <td>Capillary refill rate</td>\n",
       "      <td>NaN</td>\n",
       "    </tr>\n",
       "    <tr>\n",
       "      <th>2</th>\n",
       "      <td>1.315278</td>\n",
       "      <td>Capillary refill rate</td>\n",
       "      <td>NaN</td>\n",
       "    </tr>\n",
       "    <tr>\n",
       "      <th>3</th>\n",
       "      <td>1.331944</td>\n",
       "      <td>Capillary refill rate</td>\n",
       "      <td>NaN</td>\n",
       "    </tr>\n",
       "    <tr>\n",
       "      <th>4</th>\n",
       "      <td>1.348611</td>\n",
       "      <td>Capillary refill rate</td>\n",
       "      <td>NaN</td>\n",
       "    </tr>\n",
       "    <tr>\n",
       "      <th>...</th>\n",
       "      <td>...</td>\n",
       "      <td>...</td>\n",
       "      <td>...</td>\n",
       "    </tr>\n",
       "    <tr>\n",
       "      <th>1372</th>\n",
       "      <td>44.231944</td>\n",
       "      <td>pH</td>\n",
       "      <td>NaN</td>\n",
       "    </tr>\n",
       "    <tr>\n",
       "      <th>1373</th>\n",
       "      <td>44.881944</td>\n",
       "      <td>pH</td>\n",
       "      <td>NaN</td>\n",
       "    </tr>\n",
       "    <tr>\n",
       "      <th>1374</th>\n",
       "      <td>45.881944</td>\n",
       "      <td>pH</td>\n",
       "      <td>NaN</td>\n",
       "    </tr>\n",
       "    <tr>\n",
       "      <th>1375</th>\n",
       "      <td>46.881944</td>\n",
       "      <td>pH</td>\n",
       "      <td>NaN</td>\n",
       "    </tr>\n",
       "    <tr>\n",
       "      <th>1376</th>\n",
       "      <td>47.881944</td>\n",
       "      <td>pH</td>\n",
       "      <td>NaN</td>\n",
       "    </tr>\n",
       "  </tbody>\n",
       "</table>\n",
       "<p>1377 rows × 3 columns</p>\n",
       "</div>"
      ],
      "text/plain": [
       "          Hours               features value\n",
       "0      0.098611  Capillary refill rate   NaN\n",
       "1      1.098611  Capillary refill rate   NaN\n",
       "2      1.315278  Capillary refill rate   NaN\n",
       "3      1.331944  Capillary refill rate   NaN\n",
       "4      1.348611  Capillary refill rate   NaN\n",
       "...         ...                    ...   ...\n",
       "1372  44.231944                     pH   NaN\n",
       "1373  44.881944                     pH   NaN\n",
       "1374  45.881944                     pH   NaN\n",
       "1375  46.881944                     pH   NaN\n",
       "1376  47.881944                     pH   NaN\n",
       "\n",
       "[1377 rows x 3 columns]"
      ]
     },
     "execution_count": 96,
     "metadata": {},
     "output_type": "execute_result"
    }
   ],
   "source": [
    "temp"
   ]
  },
  {
   "cell_type": "code",
   "execution_count": 97,
   "metadata": {
    "scrolled": true
   },
   "outputs": [
    {
     "data": {
      "text/plain": [
       "array([[ 0.09861111,  1.0986111 ,  1.3152778 ,  1.3319445 ,  1.3486111 ,\n",
       "         1.3819444 ,  1.6152778 ,  1.8819444 ,  2.1319444 ,  2.148611  ,\n",
       "         2.8819444 ,  3.8819444 ,  3.948611  ,  4.8819447 ,  5.8819447 ,\n",
       "         6.8819447 ,  7.0652776 ,  7.8819447 ,  8.881945  ,  8.965278  ,\n",
       "         8.981944  ,  8.998611  ,  9.148611  ,  9.1652775 ,  9.881945  ,\n",
       "        10.1652775 , 10.281944  , 10.298611  , 10.881945  , 11.881945  ,\n",
       "        12.281944  , 12.881945  , 13.881945  , 14.881945  , 15.881945  ,\n",
       "        16.881945  , 17.581944  , 17.881945  , 18.581944  , 18.881945  ,\n",
       "        19.081944  , 19.881945  , 19.898611  , 20.081944  , 20.881945  ,\n",
       "        20.898611  , 21.881945  , 22.881945  , 23.881945  , 24.881945  ,\n",
       "        25.881945  , 26.881945  , 27.881945  , 28.881945  , 29.881945  ,\n",
       "        29.981945  , 30.881945  , 31.881945  , 32.881943  , 33.881943  ,\n",
       "        34.881943  , 35.881943  , 36.881943  , 37.181946  , 37.881943  ,\n",
       "        38.015278  , 38.881943  , 39.881943  , 40.881943  , 40.898613  ,\n",
       "        40.981945  , 41.881943  , 42.881943  , 43.231945  , 43.881943  ,\n",
       "        44.09861   , 44.231945  , 44.881943  , 45.881943  , 46.881943  ,\n",
       "        47.881943  ,  0.09861111,  1.0986111 ,  1.3152778 ,  1.3319445 ,\n",
       "         1.3486111 ,  1.3819444 ,  1.6152778 ,  1.8819444 ,  2.1319444 ,\n",
       "         2.148611  ,  2.8819444 ,  3.8819444 ,  3.948611  ,  4.8819447 ,\n",
       "         5.8819447 ,  6.8819447 ,  7.0652776 ,  7.8819447 ,  8.881945  ],\n",
       "       [ 0.        ,  0.        ,  0.        ,  0.        ,  0.        ,\n",
       "         0.        ,  0.        ,  0.        ,  0.        ,  0.        ,\n",
       "         0.        ,  0.        ,  0.        ,  0.        ,  0.        ,\n",
       "         0.        ,  0.        ,  0.        ,  0.        ,  0.        ,\n",
       "         0.        ,  0.        ,  0.        ,  0.        ,  0.        ,\n",
       "         0.        ,  0.        ,  0.        ,  0.        ,  0.        ,\n",
       "         0.        ,  0.        ,  0.        ,  0.        ,  0.        ,\n",
       "         0.        ,  0.        ,  0.        ,  0.        ,  0.        ,\n",
       "         0.        ,  0.        ,  0.        ,  0.        ,  0.        ,\n",
       "         0.        ,  0.        ,  0.        ,  0.        ,  0.        ,\n",
       "         0.        ,  0.        ,  0.        ,  0.        ,  0.        ,\n",
       "         0.        ,  0.        ,  0.        ,  0.        ,  0.        ,\n",
       "         0.        ,  0.        ,  0.        ,  0.        ,  0.        ,\n",
       "         0.        ,  0.        ,  0.        ,  0.        ,  0.        ,\n",
       "         0.        ,  0.        ,  0.        ,  0.        ,  0.        ,\n",
       "         0.        ,  0.        ,  0.        ,  0.        ,  0.        ,\n",
       "         0.        ,  0.        ,  0.        ,  0.        ,  0.        ,\n",
       "         0.        ,  0.        ,  0.        ,  0.        ,  0.        ,\n",
       "         0.        ,  0.        ,  0.        ,  0.        ,  0.        ,\n",
       "         0.        ,  0.        ,  0.        ,  0.        ,  0.        ],\n",
       "       [ 0.        ,  0.        ,  0.        ,  0.        ,  0.        ,\n",
       "         0.        ,  0.        ,  0.        ,  0.        ,  0.        ,\n",
       "         0.        ,  0.        ,  0.        ,  0.        ,  0.        ,\n",
       "         0.        ,  0.        ,  0.        ,  0.        ,  0.        ,\n",
       "         0.        ,  0.        ,  0.        ,  0.        ,  0.        ,\n",
       "         0.        ,  0.        ,  0.        ,  0.        ,  0.        ,\n",
       "         0.        ,  0.        ,  0.        ,  0.        ,  0.        ,\n",
       "         0.        ,  0.        ,  0.        ,  0.        ,  0.        ,\n",
       "         0.        ,  0.        ,  0.        ,  0.        ,  0.        ,\n",
       "         0.        ,  0.        ,  0.        ,  0.        ,  0.        ,\n",
       "         0.        ,  0.        ,  0.        ,  0.        ,  0.        ,\n",
       "         0.        ,  0.        ,  0.        ,  0.        ,  0.        ,\n",
       "         0.        ,  0.        ,  0.        ,  0.        ,  0.        ,\n",
       "         0.        ,  0.        ,  0.        ,  0.        ,  0.        ,\n",
       "         0.        ,  0.        ,  0.        ,  0.        ,  0.        ,\n",
       "         0.        ,  0.        ,  0.        ,  0.        ,  0.        ,\n",
       "         0.        ,  0.        ,  0.        ,  0.        ,  0.        ,\n",
       "         0.        ,  0.        ,  0.        ,  0.        ,  0.        ,\n",
       "         0.        ,  0.        ,  0.        ,  0.        ,  0.        ,\n",
       "         0.        ,  0.        ,  0.        ,  0.        ,  0.        ],\n",
       "       [ 0.        ,  0.        ,  0.        ,  0.        ,  0.        ,\n",
       "         0.        ,  0.        ,  0.        ,  0.        ,  0.        ,\n",
       "         0.        ,  0.        ,  0.        ,  0.        ,  0.        ,\n",
       "         0.        ,  0.        ,  0.        ,  0.        ,  0.        ,\n",
       "         0.        ,  0.        ,  0.        ,  0.        ,  0.        ,\n",
       "         0.        ,  0.        ,  0.        ,  0.        ,  0.        ,\n",
       "         0.        ,  0.        ,  0.        ,  0.        ,  0.        ,\n",
       "         0.        ,  0.        ,  0.        ,  0.        ,  0.        ,\n",
       "         0.        ,  0.        ,  0.        ,  0.        ,  0.        ,\n",
       "         0.        ,  0.        ,  0.        ,  0.        ,  0.        ,\n",
       "         0.        ,  0.        ,  0.        ,  0.        ,  0.        ,\n",
       "         0.        ,  0.        ,  0.        ,  0.        ,  0.        ,\n",
       "         0.        ,  0.        ,  0.        ,  0.        ,  0.        ,\n",
       "         0.        ,  0.        ,  0.        ,  0.        ,  0.        ,\n",
       "         0.        ,  0.        ,  0.        ,  0.        ,  0.        ,\n",
       "         0.        ,  0.        ,  0.        ,  0.        ,  0.        ,\n",
       "         0.        ,  0.        ,  0.        ,  0.        ,  0.        ,\n",
       "         0.        ,  0.        ,  0.        ,  0.        ,  0.        ,\n",
       "         0.        ,  0.        ,  0.        ,  0.        ,  0.        ,\n",
       "         0.        ,  0.        ,  0.        ,  0.        ,  0.        ],\n",
       "       [ 0.        ,  0.        ,  0.        ,  0.        ,  0.        ,\n",
       "         0.        ,  0.        ,  0.        ,  0.        ,  0.        ,\n",
       "         0.        ,  0.        ,  0.        ,  0.        ,  0.        ,\n",
       "         0.        ,  0.        ,  0.        ,  0.        ,  0.        ,\n",
       "         0.        ,  0.        ,  0.        ,  0.        ,  0.        ,\n",
       "         0.        ,  0.        ,  0.        ,  0.        ,  0.        ,\n",
       "         0.        ,  0.        ,  0.        ,  0.        ,  0.        ,\n",
       "         0.        ,  0.        ,  0.        ,  0.        ,  0.        ,\n",
       "         0.        ,  0.        ,  0.        ,  0.        ,  0.        ,\n",
       "         0.        ,  0.        ,  0.        ,  0.        ,  0.        ,\n",
       "         0.        ,  0.        ,  0.        ,  0.        ,  0.        ,\n",
       "         0.        ,  0.        ,  0.        ,  0.        ,  0.        ,\n",
       "         0.        ,  0.        ,  0.        ,  0.        ,  0.        ,\n",
       "         0.        ,  0.        ,  0.        ,  0.        ,  0.        ,\n",
       "         0.        ,  0.        ,  0.        ,  0.        ,  0.        ,\n",
       "         0.        ,  0.        ,  0.        ,  0.        ,  0.        ,\n",
       "         0.        ,  0.        ,  0.        ,  0.        ,  0.        ,\n",
       "         0.        ,  0.        ,  0.        ,  0.        ,  0.        ,\n",
       "         0.        ,  0.        ,  0.        ,  0.        ,  0.        ,\n",
       "         0.        ,  0.        ,  0.        ,  0.        ,  0.        ]],\n",
       "      dtype=float32)"
      ]
     },
     "execution_count": 97,
     "metadata": {},
     "output_type": "execute_result"
    }
   ],
   "source": [
    "times_inp"
   ]
  },
  {
   "cell_type": "code",
   "execution_count": 98,
   "metadata": {
    "scrolled": true
   },
   "outputs": [
    {
     "data": {
      "text/html": [
       "<div>\n",
       "<style scoped>\n",
       "    .dataframe tbody tr th:only-of-type {\n",
       "        vertical-align: middle;\n",
       "    }\n",
       "\n",
       "    .dataframe tbody tr th {\n",
       "        vertical-align: top;\n",
       "    }\n",
       "\n",
       "    .dataframe thead th {\n",
       "        text-align: right;\n",
       "    }\n",
       "</style>\n",
       "<table border=\"1\" class=\"dataframe\">\n",
       "  <thead>\n",
       "    <tr style=\"text-align: right;\">\n",
       "      <th></th>\n",
       "      <th>Hours</th>\n",
       "      <th>features</th>\n",
       "      <th>value</th>\n",
       "    </tr>\n",
       "  </thead>\n",
       "  <tbody>\n",
       "    <tr>\n",
       "      <th>248</th>\n",
       "      <td>1.381944</td>\n",
       "      <td>Glascow coma scale eye opening</td>\n",
       "      <td>Spontaneously</td>\n",
       "    </tr>\n",
       "    <tr>\n",
       "      <th>256</th>\n",
       "      <td>4.881944</td>\n",
       "      <td>Glascow coma scale eye opening</td>\n",
       "      <td>Spontaneously</td>\n",
       "    </tr>\n",
       "    <tr>\n",
       "      <th>261</th>\n",
       "      <td>8.881944</td>\n",
       "      <td>Glascow coma scale eye opening</td>\n",
       "      <td>Spontaneously</td>\n",
       "    </tr>\n",
       "    <tr>\n",
       "      <th>274</th>\n",
       "      <td>12.881944</td>\n",
       "      <td>Glascow coma scale eye opening</td>\n",
       "      <td>Spontaneously</td>\n",
       "    </tr>\n",
       "    <tr>\n",
       "      <th>278</th>\n",
       "      <td>16.881944</td>\n",
       "      <td>Glascow coma scale eye opening</td>\n",
       "      <td>Spontaneously</td>\n",
       "    </tr>\n",
       "    <tr>\n",
       "      <th>292</th>\n",
       "      <td>24.881944</td>\n",
       "      <td>Glascow coma scale eye opening</td>\n",
       "      <td>Spontaneously</td>\n",
       "    </tr>\n",
       "    <tr>\n",
       "      <th>296</th>\n",
       "      <td>28.881944</td>\n",
       "      <td>Glascow coma scale eye opening</td>\n",
       "      <td>Spontaneously</td>\n",
       "    </tr>\n",
       "    <tr>\n",
       "      <th>301</th>\n",
       "      <td>32.881944</td>\n",
       "      <td>Glascow coma scale eye opening</td>\n",
       "      <td>Spontaneously</td>\n",
       "    </tr>\n",
       "    <tr>\n",
       "      <th>306</th>\n",
       "      <td>37.181944</td>\n",
       "      <td>Glascow coma scale eye opening</td>\n",
       "      <td>Spontaneously</td>\n",
       "    </tr>\n",
       "    <tr>\n",
       "      <th>313</th>\n",
       "      <td>40.981944</td>\n",
       "      <td>Glascow coma scale eye opening</td>\n",
       "      <td>Spontaneously</td>\n",
       "    </tr>\n",
       "  </tbody>\n",
       "</table>\n",
       "</div>"
      ],
      "text/plain": [
       "         Hours                        features          value\n",
       "248   1.381944  Glascow coma scale eye opening  Spontaneously\n",
       "256   4.881944  Glascow coma scale eye opening  Spontaneously\n",
       "261   8.881944  Glascow coma scale eye opening  Spontaneously\n",
       "274  12.881944  Glascow coma scale eye opening  Spontaneously\n",
       "278  16.881944  Glascow coma scale eye opening  Spontaneously\n",
       "292  24.881944  Glascow coma scale eye opening  Spontaneously\n",
       "296  28.881944  Glascow coma scale eye opening  Spontaneously\n",
       "301  32.881944  Glascow coma scale eye opening  Spontaneously\n",
       "306  37.181944  Glascow coma scale eye opening  Spontaneously\n",
       "313  40.981944  Glascow coma scale eye opening  Spontaneously"
      ]
     },
     "execution_count": 98,
     "metadata": {},
     "output_type": "execute_result"
    }
   ],
   "source": [
    "temp[temp['value']=='Spontaneously']"
   ]
  },
  {
   "cell_type": "code",
   "execution_count": 99,
   "metadata": {},
   "outputs": [
    {
     "name": "stdout",
     "output_type": "stream",
     "text": [
      "<class 'pandas.core.frame.DataFrame'>\n",
      "RangeIndex: 1377 entries, 0 to 1376\n",
      "Data columns (total 3 columns):\n",
      " #   Column    Non-Null Count  Dtype  \n",
      "---  ------    --------------  -----  \n",
      " 0   Hours     1377 non-null   float64\n",
      " 1   features  1377 non-null   object \n",
      " 2   value     376 non-null    object \n",
      "dtypes: float64(1), object(2)\n",
      "memory usage: 32.4+ KB\n"
     ]
    }
   ],
   "source": [
    "temp.info()"
   ]
  },
  {
   "cell_type": "code",
   "execution_count": 100,
   "metadata": {},
   "outputs": [],
   "source": [
    "data = './mimic3-benchmarks/data/in-hospital-mortality'\n",
    "period_length = 48\n",
    "timestep = 1.0\n",
    "imputation = 'previous'\n",
    "__file__ = './MultimodalMIMIC/preprocessing.py'"
   ]
  },
  {
   "cell_type": "code",
   "execution_count": 101,
   "metadata": {},
   "outputs": [],
   "source": [
    "val_reader = InHospitalMortalityReader(dataset_dir=os.path.join(data, 'train'),\n",
    "                                            listfile=os.path.join(data, 'val_listfile.csv'),\n",
    "                                            period_length=period_length)"
   ]
  },
  {
   "cell_type": "code",
   "execution_count": 103,
   "metadata": {},
   "outputs": [],
   "source": [
    "discretizer = Discretizer_multi(timestep=float(timestep),\n",
    "                      store_masks=True,\n",
    "                      impute_strategy='previous',\n",
    "                      start_time='zero')\n",
    "\n",
    "discretizer_header = discretizer.transform(val_reader.read_example(0)[\"X\"])[1].split(',')\n",
    "cont_channels = [i for (i, x) in enumerate(discretizer_header) if x.find(\"->\") == -1]\n",
    "\n",
    "normalizer = Normalizer(fields=cont_channels)  # choose here which columns to standardize\n",
    "normalizer_state = '../mimic3-benchmarks/mimic3models/in_hospital_mortality/ihm_ts{}.input_str-{}.start_time-zero.normalizer'.format(timestep, imputation)\n",
    "normalizer_state = os.path.join(os.path.dirname(__file__), normalizer_state)\n",
    "normalizer.load_params(normalizer_state)"
   ]
  },
  {
   "cell_type": "code",
   "execution_count": 104,
   "metadata": {},
   "outputs": [
    {
     "data": {
      "text/plain": [
       "34"
      ]
     },
     "execution_count": 104,
     "metadata": {},
     "output_type": "execute_result"
    }
   ],
   "source": [
    "len(cont_channels)"
   ]
  },
  {
   "cell_type": "code",
   "execution_count": 105,
   "metadata": {
    "scrolled": true
   },
   "outputs": [
    {
     "data": {
      "text/plain": [
       "'./MultimodalMIMIC/../mimic3-benchmarks/mimic3models/in_hospital_mortality/ihm_ts1.0.input_str-previous.start_time-zero.normalizer'"
      ]
     },
     "execution_count": 105,
     "metadata": {},
     "output_type": "execute_result"
    }
   ],
   "source": [
    "normalizer_state"
   ]
  },
  {
   "cell_type": "code",
   "execution_count": 106,
   "metadata": {
    "scrolled": true
   },
   "outputs": [
    {
     "data": {
      "text/plain": [
       "{'stds': array([4.99566658e-02, 4.99566658e-02, 2.11109641e+02, 1.69005308e-01,\n",
       "        1.50437819e-01, 2.94692386e-01, 2.67486530e-01, 4.89201304e-01,\n",
       "        2.17034645e-01, 2.65211343e-01, 4.30612573e-01, 1.83697659e-01,\n",
       "        1.99881624e-01, 5.52533886e-02, 4.25379791e-02, 1.65512893e-01,\n",
       "        1.80878450e-01, 2.03746876e-01, 1.53151436e-01, 4.55889931e-01,\n",
       "        4.49861250e-02, 4.97725756e-01, 2.59191524e-01, 4.97165089e-02,\n",
       "        1.89678173e-01, 2.21205475e-01, 1.18416298e-01, 7.55246671e-02,\n",
       "        4.52650397e-01, 1.99045650e-01, 1.88674144e-01, 5.85038029e-02,\n",
       "        6.30786672e-02, 1.55073203e-01, 1.36098001e-01, 1.51603537e-01,\n",
       "        1.58810110e-01, 9.89076872e-02, 1.14655232e-01, 1.88075696e-01,\n",
       "        5.06285454e-02, 4.06564187e-01, 3.31297505e-01, 4.70909214e-01,\n",
       "        8.42582868e-02, 4.05775833e-01, 2.03187802e-01, 9.70308927e-02,\n",
       "        5.85278202e-02, 5.71666298e+01, 1.94063061e+01, 5.99642270e+00,\n",
       "        1.75581014e+02, 1.16712100e+03, 6.65640647e+00, 2.19230990e+01,\n",
       "        9.46730254e+00, 2.05304085e+01, 1.90062293e+00, 5.77298997e-02,\n",
       "        2.94134896e-01, 2.42192026e-01, 4.62549729e-01, 4.61994450e-01,\n",
       "        3.86208968e-01, 4.62112071e-01, 4.38184812e-01, 2.63260876e-01,\n",
       "        6.27103684e-02, 2.99180338e-01, 3.08375847e-01, 2.84192918e-01,\n",
       "        2.93916900e-01, 4.68836904e-01, 1.73370065e-01, 3.37499716e-01]),\n",
       " 'means': array([9.97498075e-01, 2.50192456e-03, 6.11747474e+01, 2.91638191e-01,\n",
       "        2.31682742e-02, 9.60736200e-02, 7.75653217e-02, 3.96644195e-01,\n",
       "        4.95601820e-02, 7.61332247e-02, 2.45887674e-01, 3.49675089e-02,\n",
       "        4.16907236e-02, 3.06231037e-03, 1.81276321e-03, 2.81891047e-02,\n",
       "        3.38637187e-02, 4.33959381e-02, 2.40329099e-02, 2.94659636e-01,\n",
       "        2.02786080e-03, 4.52361545e-01, 7.24256215e-02, 2.47786759e-03,\n",
       "        3.73746207e-02, 5.15937033e-02, 1.42247430e-02, 5.73687905e-03,\n",
       "        7.12386225e-01, 4.13270389e-02, 3.69642372e-02, 3.43448580e-03,\n",
       "        3.99487162e-03, 2.46555608e-02, 1.88790586e-02, 2.35376194e-02,\n",
       "        2.58909568e-02, 9.88033782e-03, 1.33233143e-02, 3.67208373e-02,\n",
       "        2.56985011e-03, 2.08957399e-01, 1.25510857e-01, 3.31938029e-01,\n",
       "        7.15057963e-03, 2.07859270e-01, 4.31468777e-02, 9.50533216e-03,\n",
       "        3.43731603e-03, 1.37495478e+02, 8.62587068e+01, 1.69793005e+02,\n",
       "        7.88177433e+01, 9.82863168e+01, 1.92775957e+01, 1.20316522e+02,\n",
       "        3.69323905e+01, 8.19019827e+01, 7.22785885e+00, 3.34391840e-03,\n",
       "        9.04332518e-01, 6.25721709e-02, 3.10136757e-01, 3.08789567e-01,\n",
       "        1.82442376e-01, 3.09074005e-01, 2.59179856e-01, 9.25080945e-01,\n",
       "        3.94817280e-03, 9.00613594e-01, 8.93579054e-01, 9.11381210e-01,\n",
       "        9.04491011e-01, 3.26240773e-01, 3.10193361e-02, 1.31090658e-01])}"
      ]
     },
     "execution_count": 106,
     "metadata": {},
     "output_type": "execute_result"
    }
   ],
   "source": [
    "with open(normalizer_state, \"rb\") as load_file:\n",
    "    dct = pickle.load(load_file, encoding='latin1')\n",
    "dct"
   ]
  },
  {
   "cell_type": "code",
   "execution_count": 107,
   "metadata": {
    "scrolled": false
   },
   "outputs": [
    {
     "data": {
      "text/plain": [
       "dict_keys(['X', 't', 'y', 'header', 'name'])"
      ]
     },
     "execution_count": 107,
     "metadata": {},
     "output_type": "execute_result"
    }
   ],
   "source": [
    "val_reader.read_example(0).keys()"
   ]
  },
  {
   "cell_type": "code",
   "execution_count": 108,
   "metadata": {},
   "outputs": [
    {
     "data": {
      "text/plain": [
       "18"
      ]
     },
     "execution_count": 108,
     "metadata": {},
     "output_type": "execute_result"
    }
   ],
   "source": [
    "len(val_reader.read_example(0)['header'])"
   ]
  },
  {
   "cell_type": "code",
   "execution_count": 109,
   "metadata": {},
   "outputs": [
    {
     "data": {
      "text/plain": [
       "(81, 18)"
      ]
     },
     "execution_count": 109,
     "metadata": {},
     "output_type": "execute_result"
    }
   ],
   "source": [
    "val_reader.read_example(0)['X'].shape"
   ]
  },
  {
   "cell_type": "code",
   "execution_count": 110,
   "metadata": {},
   "outputs": [
    {
     "data": {
      "text/plain": [
       "48"
      ]
     },
     "execution_count": 110,
     "metadata": {},
     "output_type": "execute_result"
    }
   ],
   "source": [
    "val_reader.read_example(0)['t']"
   ]
  },
  {
   "cell_type": "code",
   "execution_count": 112,
   "metadata": {},
   "outputs": [],
   "source": [
    "N = val_reader.get_number_of_examples()\n",
    "ret = common_utils.read_chunk(val_reader, N)\n",
    "irg_data = ret[\"X\"]\n",
    "ts = ret[\"t\"]\n",
    "labels = ret[\"y\"]\n",
    "names = ret[\"name\"]\n",
    "# Saved to `outputdir+\"ts_\"+mode+\".pkl\"`\n",
    "reg_data = [discretizer.transform(X, end=t)[0] for (X, t) in zip(irg_data, ts)]"
   ]
  },
  {
   "cell_type": "code",
   "execution_count": 113,
   "metadata": {},
   "outputs": [],
   "source": [
    "channel_info_file = open('./MultimodalMIMIC/Data/irregular/channel_info.json')\n",
    "dis_config_file=open('./MultimodalMIMIC/Data/irregular/discretizer_config.json')\n",
    "channel_info = json.load(channel_info_file)\n",
    "dis_config=json.load(dis_config_file)\n",
    "# List of variables\n",
    "channel_name=dis_config['id_to_channel']\n",
    "# Dict to check if is categorical\n",
    "is_catg=dis_config['is_categorical_channel']"
   ]
  },
  {
   "cell_type": "code",
   "execution_count": 119,
   "metadata": {},
   "outputs": [
    {
     "name": "stdout",
     "output_type": "stream",
     "text": [
      "[['0.09861111111111112' '' '' ... '' '' '7.37']\n",
      " ['1.0986111111111112' '' '' ... '' '' '7.37']\n",
      " ['1.3152777777777778' '' '91.0' ... '' '' '']\n",
      " ...\n",
      " ['45.88194444444444' '' '86.0' ... '' '' '']\n",
      " ['46.88194444444444' '' '83.0' ... '' '' '']\n",
      " ['47.88194444444444' '' '78.0' ... '' '' '']]\n"
     ]
    }
   ],
   "source": [
    "data_irregular=[]\n",
    "\n",
    "for p_id, x, in enumerate(irg_data):\n",
    "    print(x)\n",
    "    data_i={}\n",
    "    tt=[]\n",
    "    features_list=[]\n",
    "    features_mask_list=[]\n",
    "    for t_idx, feature in enumerate(x):\n",
    "        f_list_per_t=[]\n",
    "        f_mask_per_t=[]\n",
    "        for f_idx, val in enumerate(feature):\n",
    "            if f_idx==0:\n",
    "                tt.append(round(float(val),2))\n",
    "            else:\n",
    "                head=channel_name[f_idx-1]\n",
    "                if val=='':\n",
    "                    f_list_per_t.append(0)\n",
    "                    f_mask_per_t.append(0)\n",
    "                else:\n",
    "                    f_mask_per_t.append(1)\n",
    "                    if is_catg[head]:\n",
    "                        val=channel_info[head]['values'][val]\n",
    "                    f_list_per_t.append(float(round(float(val),2)))\n",
    "        assert len(f_list_per_t)==len(f_mask_per_t)\n",
    "        features_list.append(f_list_per_t)\n",
    "        features_mask_list.append(f_mask_per_t)\n",
    "    assert len(features_list)==len(features_mask_list)==len(tt)\n",
    "    data_i['reg_ts']=reg_data[p_id]\n",
    "    data_i['name']=names[p_id]\n",
    "    data_i['label']=labels[p_id]\n",
    "    data_i['ts_tt']=tt\n",
    "    data_i['irg_ts']=np.array(features_list)\n",
    "    data_i['irg_ts_mask']=np.array(features_mask_list)\n",
    "    data_irregular.append(data_i)\n",
    "    break\n",
    "# with open(dataPath_out, 'wb') as f:\n",
    "#     pickle.dump(data_irregular, f)\n",
    "\n",
    "# channel_info_file.close()\n",
    "# dis_config_file.close()"
   ]
  },
  {
   "cell_type": "code",
   "execution_count": 146,
   "metadata": {},
   "outputs": [],
   "source": [
    "with open('./MultimodalMIMIC/Data/ihm/'+'ts_train.pkl', 'rb') as f:\n",
    "    data=pickle.load(f)\n",
    "\n",
    "irg_f_num=data[0]['irg_ts'].shape[1]\n",
    "reg_f_num=data[0]['reg_ts'].shape[1]\n",
    "irg_feature_list=[[] for _ in range(irg_f_num)]\n",
    "reg_feature_list=[[] for _ in range(reg_f_num)]\n",
    "for p_id, p_data in enumerate(data):\n",
    "    irg_ts=p_data['irg_ts']\n",
    "    irg_ts_mask=p_data['irg_ts_mask']\n",
    "    reg_ts=p_data['reg_ts']\n",
    "\n",
    "    for t_idx, (ts, mask) in enumerate(zip(irg_ts,irg_ts_mask)):\n",
    "        for f_idx, (val, mask_val) in enumerate(zip(ts, mask)):\n",
    "            # print(f_idx)\n",
    "            if mask_val==1:\n",
    "                irg_feature_list[f_idx].append(val)\n",
    "\n",
    "    for ts in reg_ts:\n",
    "        for f_idx, (val, mask_val) in enumerate(zip(ts[:reg_f_num//2], ts[reg_f_num//2:])):\n",
    "            reg_feature_list[f_idx].append(val)"
   ]
  },
  {
   "cell_type": "code",
   "execution_count": null,
   "metadata": {},
   "outputs": [],
   "source": [
    "irg_means=[]\n",
    "irg_stds=[]\n",
    "reg_means=[]\n",
    "reg_stds=[]\n",
    "\n",
    "for irg_vals,reg_vals in zip(irg_feature_list,reg_feature_list):\n",
    "    irg_means.append(stat.mean(irg_vals))\n",
    "    irg_stds.append(stat.stdev(irg_vals))\n",
    "    reg_means.append(stat.mean(reg_vals))\n",
    "    reg_stds.append(stat.stdev(reg_vals))\n",
    "with open(dataPath_out, 'wb') as f:\n",
    "    pickle.dump((irg_means,irg_stds,reg_means,reg_stds), f)"
   ]
  },
  {
   "cell_type": "code",
   "execution_count": 130,
   "metadata": {},
   "outputs": [],
   "source": [
    "with open('./MultimodalMIMIC/Data/ihm/ts_val.pkl', \"rb\") as load_file:\n",
    "    ts_val = pickle.load(load_file)"
   ]
  },
  {
   "cell_type": "code",
   "execution_count": 154,
   "metadata": {},
   "outputs": [
    {
     "data": {
      "text/plain": [
       "2553"
      ]
     },
     "execution_count": 154,
     "metadata": {},
     "output_type": "execute_result"
    }
   ],
   "source": [
    "len(ts_val)"
   ]
  },
  {
   "cell_type": "code",
   "execution_count": 55,
   "metadata": {},
   "outputs": [
    {
     "data": {
      "text/plain": [
       "dict_keys(['reg_ts', 'name', 'label', 'ts_tt', 'irg_ts', 'irg_ts_mask'])"
      ]
     },
     "execution_count": 55,
     "metadata": {},
     "output_type": "execute_result"
    }
   ],
   "source": [
    "ts_val[0].keys()"
   ]
  },
  {
   "cell_type": "code",
   "execution_count": 60,
   "metadata": {},
   "outputs": [
    {
     "data": {
      "text/plain": [
       "'49750_episode1_timeseries.csv'"
      ]
     },
     "execution_count": 60,
     "metadata": {},
     "output_type": "execute_result"
    }
   ],
   "source": [
    "ts_val[0]['name']"
   ]
  },
  {
   "cell_type": "code",
   "execution_count": 56,
   "metadata": {},
   "outputs": [
    {
     "data": {
      "text/plain": [
       "(48, 34)"
      ]
     },
     "execution_count": 56,
     "metadata": {},
     "output_type": "execute_result"
    }
   ],
   "source": [
    "ts_val[0]['reg_ts'].shape"
   ]
  },
  {
   "cell_type": "code",
   "execution_count": 95,
   "metadata": {},
   "outputs": [
    {
     "data": {
      "text/plain": [
       "array([[ 0.  , 59.  ,  0.21, ...,  0.  ,  0.  ,  1.  ],\n",
       "       [ 0.  , 91.  ,  0.21, ...,  1.  ,  1.  ,  1.  ],\n",
       "       [ 0.  , 87.  ,  0.7 , ...,  0.  ,  0.  ,  0.  ],\n",
       "       ...,\n",
       "       [ 0.  , 86.  ,  0.5 , ...,  0.  ,  0.  ,  0.  ],\n",
       "       [ 0.  , 83.  ,  0.5 , ...,  0.  ,  0.  ,  0.  ],\n",
       "       [ 0.  , 78.  ,  0.5 , ...,  0.  ,  0.  ,  0.  ]])"
      ]
     },
     "execution_count": 95,
     "metadata": {},
     "output_type": "execute_result"
    }
   ],
   "source": [
    "ts_val[0]['reg_ts']"
   ]
  },
  {
   "cell_type": "code",
   "execution_count": 57,
   "metadata": {},
   "outputs": [
    {
     "data": {
      "text/plain": [
       "81"
      ]
     },
     "execution_count": 57,
     "metadata": {},
     "output_type": "execute_result"
    }
   ],
   "source": [
    "len(ts_val[0]['ts_tt'])"
   ]
  },
  {
   "cell_type": "code",
   "execution_count": 62,
   "metadata": {},
   "outputs": [
    {
     "data": {
      "text/plain": [
       "(81, 17)"
      ]
     },
     "execution_count": 62,
     "metadata": {},
     "output_type": "execute_result"
    }
   ],
   "source": [
    "ts_val[0]['irg_ts'].shape"
   ]
  },
  {
   "cell_type": "code",
   "execution_count": 63,
   "metadata": {},
   "outputs": [
    {
     "data": {
      "text/plain": [
       "array([[ 0.  ,  0.  ,  0.  , ...,  0.  ,  0.  ,  7.37],\n",
       "       [ 0.  ,  0.  ,  0.  , ...,  0.  ,  0.  ,  7.37],\n",
       "       [ 0.  , 91.  ,  0.  , ...,  0.  ,  0.  ,  0.  ],\n",
       "       ...,\n",
       "       [ 0.  , 86.  ,  0.  , ...,  0.  ,  0.  ,  0.  ],\n",
       "       [ 0.  , 83.  ,  0.  , ...,  0.  ,  0.  ,  0.  ],\n",
       "       [ 0.  , 78.  ,  0.  , ...,  0.  ,  0.  ,  0.  ]])"
      ]
     },
     "execution_count": 63,
     "metadata": {},
     "output_type": "execute_result"
    }
   ],
   "source": [
    "ts_val[0]['irg_ts']"
   ]
  },
  {
   "cell_type": "code",
   "execution_count": 65,
   "metadata": {},
   "outputs": [
    {
     "data": {
      "text/plain": [
       "array([[0, 0, 0, ..., 0, 0, 1],\n",
       "       [0, 0, 0, ..., 0, 0, 1],\n",
       "       [0, 1, 0, ..., 0, 0, 0],\n",
       "       ...,\n",
       "       [0, 1, 0, ..., 0, 0, 0],\n",
       "       [0, 1, 0, ..., 0, 0, 0],\n",
       "       [0, 1, 0, ..., 0, 0, 0]])"
      ]
     },
     "execution_count": 65,
     "metadata": {},
     "output_type": "execute_result"
    }
   ],
   "source": [
    "ts_val[0]['irg_ts_mask']"
   ]
  },
  {
   "cell_type": "code",
   "execution_count": 59,
   "metadata": {
    "scrolled": true
   },
   "outputs": [
    {
     "data": {
      "text/plain": [
       "[0.1,\n",
       " 1.1,\n",
       " 1.32,\n",
       " 1.33,\n",
       " 1.35,\n",
       " 1.38,\n",
       " 1.62,\n",
       " 1.88,\n",
       " 2.13,\n",
       " 2.15,\n",
       " 2.88,\n",
       " 3.88,\n",
       " 3.95,\n",
       " 4.88,\n",
       " 5.88,\n",
       " 6.88,\n",
       " 7.07,\n",
       " 7.88,\n",
       " 8.88,\n",
       " 8.97,\n",
       " 8.98,\n",
       " 9.0,\n",
       " 9.15,\n",
       " 9.17,\n",
       " 9.88,\n",
       " 10.17,\n",
       " 10.28,\n",
       " 10.3,\n",
       " 10.88,\n",
       " 11.88,\n",
       " 12.28,\n",
       " 12.88,\n",
       " 13.88,\n",
       " 14.88,\n",
       " 15.88,\n",
       " 16.88,\n",
       " 17.58,\n",
       " 17.88,\n",
       " 18.58,\n",
       " 18.88,\n",
       " 19.08,\n",
       " 19.88,\n",
       " 19.9,\n",
       " 20.08,\n",
       " 20.88,\n",
       " 20.9,\n",
       " 21.88,\n",
       " 22.88,\n",
       " 23.88,\n",
       " 24.88,\n",
       " 25.88,\n",
       " 26.88,\n",
       " 27.88,\n",
       " 28.88,\n",
       " 29.88,\n",
       " 29.98,\n",
       " 30.88,\n",
       " 31.88,\n",
       " 32.88,\n",
       " 33.88,\n",
       " 34.88,\n",
       " 35.88,\n",
       " 36.88,\n",
       " 37.18,\n",
       " 37.88,\n",
       " 38.02,\n",
       " 38.88,\n",
       " 39.88,\n",
       " 40.88,\n",
       " 40.9,\n",
       " 40.98,\n",
       " 41.88,\n",
       " 42.88,\n",
       " 43.23,\n",
       " 43.88,\n",
       " 44.1,\n",
       " 44.23,\n",
       " 44.88,\n",
       " 45.88,\n",
       " 46.88,\n",
       " 47.88]"
      ]
     },
     "execution_count": 59,
     "metadata": {},
     "output_type": "execute_result"
    }
   ],
   "source": [
    "ts_val[0]['ts_tt']"
   ]
  },
  {
   "cell_type": "code",
   "execution_count": 64,
   "metadata": {},
   "outputs": [
    {
     "data": {
      "text/plain": [
       "(81, 17)"
      ]
     },
     "execution_count": 64,
     "metadata": {},
     "output_type": "execute_result"
    }
   ],
   "source": [
    "ts_val[0]['irg_ts_mask'].shape"
   ]
  },
  {
   "cell_type": "code",
   "execution_count": 151,
   "metadata": {},
   "outputs": [],
   "source": [
    "with open('./MultimodalMIMIC/Data/ihm/norm_ts_val.pkl', \"rb\") as load_file:\n",
    "    norm_ts_val = pickle.load(load_file)"
   ]
  },
  {
   "cell_type": "code",
   "execution_count": 153,
   "metadata": {},
   "outputs": [
    {
     "data": {
      "text/plain": [
       "2553"
      ]
     },
     "execution_count": 153,
     "metadata": {},
     "output_type": "execute_result"
    }
   ],
   "source": [
    "len(norm_ts_val)"
   ]
  },
  {
   "cell_type": "code",
   "execution_count": 157,
   "metadata": {},
   "outputs": [
    {
     "data": {
      "text/plain": [
       "dict_keys(['reg_ts', 'name', 'label', 'ts_tt', 'irg_ts', 'irg_ts_mask'])"
      ]
     },
     "execution_count": 157,
     "metadata": {},
     "output_type": "execute_result"
    }
   ],
   "source": [
    "norm_ts_val[0].keys()"
   ]
  },
  {
   "cell_type": "code",
   "execution_count": 159,
   "metadata": {},
   "outputs": [],
   "source": [
    "textdata_fixed = \"./mimic3-benchmarks/data/root/text_fixed/\"\n",
    "starttime_path = \"./mimic3-benchmarks/data/starttime.pkl\"\n",
    "\n",
    "text_reader = TextReader(textdata_fixed, starttime_path)"
   ]
  },
  {
   "cell_type": "code",
   "execution_count": 162,
   "metadata": {},
   "outputs": [],
   "source": [
    "names = [norm_ts_val[0]['name']]\n",
    "data_text, data_times, data_time = text_reader.read_all_text_append_json(names, period_length)"
   ]
  },
  {
   "cell_type": "code",
   "execution_count": 163,
   "metadata": {},
   "outputs": [
    {
     "data": {
      "text/plain": [
       "{'49750_episode1_timeseries.csv': ['4:28 am chest ( portable ap ) clip # reason : eval for infiltrate medical condition : 65 year old woman with respiratory distress reason for this examination : eval for infiltrate final report indication : 65-year-old female with respiratory distress . comparison : . chest , ap : again seen are changes of right upper lobe wedge resection with chain sutures , staples , and superior retraction of the inferior pulmonary ligament . discoid atelectasis in the left upper lobe has improved . there is no focal consolidation . heart size is normal . there are no pleural effusions or pneumothorax . impression : no acute cardiopulmonary process .',\n",
       "  '1:28 am chest ( portable ap ) clip # reason : r/o acute process , pulmonary edema admitting diagnosis : respiratory distress medical condition : 65 year old woman s/p vats and stent removal today reason for this examination : r/o acute process , pulmonary edema final report history : status post vats , stent removal . chest ( portable ap ) film dated presented now for official interpretation . compared with the film from at 4:25 a.m. , there is some increased left infrahilar opacity . otherwise , i doubt significant interval change .',\n",
       "  '5:46 am chest ( portable ap ) clip # reason : rule out acute pulmonary process admitting diagnosis : respiratory distress medical condition : 65 year old woman s/p vats and stent removal with intermittent stridorous breathing/respiratory distress . reason for this examination : rule out acute pulmonary process final report history : evaluate for infiltrate . comparison : multiple priors , most recently . findings : single portable frontal view of the chest shows no significant changes compared to prior film . again seen are post-surgical changes . there is no focal consolidation . the heart size is normal . no pleural effusions or pneumothorax . impression : no interval change .']}"
      ]
     },
     "execution_count": 163,
     "metadata": {},
     "output_type": "execute_result"
    }
   ],
   "source": [
    "data_text"
   ]
  },
  {
   "cell_type": "code",
   "execution_count": 164,
   "metadata": {},
   "outputs": [
    {
     "data": {
      "text/plain": [
       "{'49750_episode1_timeseries.csv': ['2143-07-09 04:28:00',\n",
       "  '2143-07-10 01:28:00',\n",
       "  '2143-07-11 05:46:00']}"
      ]
     },
     "execution_count": 164,
     "metadata": {},
     "output_type": "execute_result"
    }
   ],
   "source": [
    "data_times"
   ]
  },
  {
   "cell_type": "code",
   "execution_count": 177,
   "metadata": {},
   "outputs": [],
   "source": [
    "et = np.datetime64('2143-07-09 08:13:00') + np.timedelta64(49, 'h')\n",
    "t = np.datetime64('2143-07-09 04:28:00')"
   ]
  },
  {
   "cell_type": "code",
   "execution_count": 180,
   "metadata": {
    "scrolled": true
   },
   "outputs": [
    {
     "data": {
      "text/plain": [
       "numpy.timedelta64(52,'m')"
      ]
     },
     "execution_count": 180,
     "metadata": {},
     "output_type": "execute_result"
    }
   ],
   "source": [
    "(et-t).astype('timedelta64[m]')/60\n"
   ]
  },
  {
   "cell_type": "code",
   "execution_count": 165,
   "metadata": {},
   "outputs": [
    {
     "data": {
      "text/plain": [
       "{'49750_episode1_timeseries.csv': '2143-07-09 08:13:00'}"
      ]
     },
     "execution_count": 165,
     "metadata": {},
     "output_type": "execute_result"
    }
   ],
   "source": [
    "data_time"
   ]
  },
  {
   "cell_type": "code",
   "execution_count": 167,
   "metadata": {},
   "outputs": [
    {
     "data": {
      "text/plain": [
       "'2143-07-09 08:13:00'"
      ]
     },
     "execution_count": 167,
     "metadata": {},
     "output_type": "execute_result"
    }
   ],
   "source": [
    "text_reader.episodeToStartTime['49750_1']"
   ]
  },
  {
   "cell_type": "code",
   "execution_count": 197,
   "metadata": {},
   "outputs": [],
   "source": [
    "with open('./MultimodalMIMIC/Data/ihm/valp2x_data.pkl', \"rb\") as load_file:\n",
    "    valp2x = pickle.load(load_file)"
   ]
  },
  {
   "cell_type": "code",
   "execution_count": 198,
   "metadata": {},
   "outputs": [
    {
     "data": {
      "text/plain": [
       "dict_keys(['reg_ts', 'name', 'label', 'ts_tt', 'irg_ts', 'irg_ts_mask', 'text_data', 'text_time_to_end'])"
      ]
     },
     "execution_count": 198,
     "metadata": {},
     "output_type": "execute_result"
    }
   ],
   "source": [
    "valp2x[0].keys()"
   ]
  },
  {
   "cell_type": "code",
   "execution_count": 209,
   "metadata": {},
   "outputs": [
    {
     "data": {
      "text/plain": [
       "(81, 17)"
      ]
     },
     "execution_count": 209,
     "metadata": {},
     "output_type": "execute_result"
    }
   ],
   "source": [
    "valp2x[0]['irg_ts'].shape"
   ]
  },
  {
   "cell_type": "code",
   "execution_count": 207,
   "metadata": {
    "scrolled": true
   },
   "outputs": [
    {
     "data": {
      "text/plain": [
       "81"
      ]
     },
     "execution_count": 207,
     "metadata": {},
     "output_type": "execute_result"
    }
   ],
   "source": [
    "len(valp2x[0]['ts_tt'])"
   ]
  },
  {
   "cell_type": "code",
   "execution_count": 199,
   "metadata": {},
   "outputs": [
    {
     "data": {
      "text/plain": [
       "'49750_episode1_timeseries.csv'"
      ]
     },
     "execution_count": 199,
     "metadata": {},
     "output_type": "execute_result"
    }
   ],
   "source": [
    "valp2x[0]['name']"
   ]
  },
  {
   "cell_type": "code",
   "execution_count": 200,
   "metadata": {},
   "outputs": [
    {
     "data": {
      "text/plain": [
       "['4:28 am chest ( portable ap ) clip # reason : eval for infiltrate medical condition : 65 year old woman with respiratory distress reason for this examination : eval for infiltrate final report indication : 65-year-old female with respiratory distress . comparison : . chest , ap : again seen are changes of right upper lobe wedge resection with chain sutures , staples , and superior retraction of the inferior pulmonary ligament . discoid atelectasis in the left upper lobe has improved . there is no focal consolidation . heart size is normal . there are no pleural effusions or pneumothorax . impression : no acute cardiopulmonary process .',\n",
       " '1:28 am chest ( portable ap ) clip # reason : r/o acute process , pulmonary edema admitting diagnosis : respiratory distress medical condition : 65 year old woman s/p vats and stent removal today reason for this examination : r/o acute process , pulmonary edema final report history : status post vats , stent removal . chest ( portable ap ) film dated presented now for official interpretation . compared with the film from at 4:25 a.m. , there is some increased left infrahilar opacity . otherwise , i doubt significant interval change .',\n",
       " '5:46 am chest ( portable ap ) clip # reason : rule out acute pulmonary process admitting diagnosis : respiratory distress medical condition : 65 year old woman s/p vats and stent removal with intermittent stridorous breathing/respiratory distress . reason for this examination : rule out acute pulmonary process final report history : evaluate for infiltrate . comparison : multiple priors , most recently . findings : single portable frontal view of the chest shows no significant changes compared to prior film . again seen are post-surgical changes . there is no focal consolidation . the heart size is normal . no pleural effusions or pneumothorax . impression : no interval change .']"
      ]
     },
     "execution_count": 200,
     "metadata": {},
     "output_type": "execute_result"
    }
   ],
   "source": [
    "valp2x[0]['text_data']"
   ]
  },
  {
   "cell_type": "code",
   "execution_count": 201,
   "metadata": {},
   "outputs": [
    {
     "data": {
      "text/plain": [
       "[52.75, 31.75, 3.45]"
      ]
     },
     "execution_count": 201,
     "metadata": {},
     "output_type": "execute_result"
    }
   ],
   "source": [
    "valp2x[0]['text_time_to_end']"
   ]
  },
  {
   "cell_type": "markdown",
   "metadata": {},
   "source": [
    "# STraTS dataset"
   ]
  },
  {
   "cell_type": "code",
   "execution_count": 21,
   "metadata": {},
   "outputs": [],
   "source": [
    "import pickle\n",
    "import numpy as np\n",
    "import gzip\n",
    "from tqdm import tqdm"
   ]
  },
  {
   "cell_type": "code",
   "execution_count": 75,
   "metadata": {},
   "outputs": [],
   "source": [
    "data_dir = './STraTS_torch/mortality_datasets'\n",
    "with gzip.GzipFile(f'{data_dir}/val_demos.npy.gz', 'r') as f:\n",
    "    val_demos = np.load(f)\n",
    "with gzip.GzipFile(f'{data_dir}/val_times.npy.gz', 'r') as f:\n",
    "    val_times = np.load(f)\n",
    "with gzip.GzipFile(f'{data_dir}/val_values.npy.gz', 'r') as f:\n",
    "    val_values = np.load(f)\n",
    "with gzip.GzipFile(f'{data_dir}/val_varis.npy.gz', 'r') as f:\n",
    "    val_varis = np.load(f)\n",
    "with gzip.GzipFile(f'{data_dir}/val_y.npy.gz', 'r') as f:\n",
    "    val_y = np.load(f)      "
   ]
  },
  {
   "cell_type": "code",
   "execution_count": 78,
   "metadata": {},
   "outputs": [
    {
     "data": {
      "text/plain": [
       "array([-1.54558349e+00, -1.77108788e+00,  7.09460676e-01,  7.09460676e-01,\n",
       "        4.83956248e-01, -8.69070292e-01,  4.43889469e-01, -3.91112506e-01,\n",
       "       -2.98334509e-01,  3.29474024e-02,  1.65555462e-01,  3.29474024e-02,\n",
       "       -1.92557007e-01, -4.18061435e-01, -1.32007909e+00, -3.12411451e+00,\n",
       "       -2.22209668e+00, -2.89861012e+00, -2.67310572e+00, -1.09457469e+00,\n",
       "       -1.92557007e-01, -6.43565834e-01, -4.18061435e-01, -8.69070292e-01,\n",
       "       -1.09457469e+00, -1.92557007e-01,  1.37166941e+00, -6.43565834e-01,\n",
       "        1.74278140e+00, -6.72075510e-01, -7.62224495e-01, -6.43565834e-01,\n",
       "       -6.34808004e-01, -5.49969316e-01, -7.40912497e-01, -1.02843976e+00,\n",
       "       -8.29134583e-01, -8.29134583e-01, -1.02843976e+00, -1.26004124e+00,\n",
       "       -4.79861647e-01, -1.18322134e+00, -1.20431101e+00, -1.76390672e+00,\n",
       "        1.55722547e+00, -1.55318165e+00, -6.14952326e-01, -3.83945137e-01,\n",
       "       -3.22884440e-01, -5.96241236e-01, -6.21918440e-01, -8.14497888e-01,\n",
       "       -3.77984554e-01, -6.98950231e-01, -1.01991594e+00, -7.50304759e-01,\n",
       "       -6.34757102e-01,  9.70446318e-02, -2.05556527e-01,  3.28946441e-01,\n",
       "        3.29474024e-02,  4.79520671e-02,  3.29474024e-02, -2.33857080e-01,\n",
       "       -2.68310666e-01,  1.07086000e+01, -3.02764237e-01, -3.16545665e-01,\n",
       "       -1.73227203e+00, -1.47387528e+00, -4.59587932e-01, -4.59587932e-01,\n",
       "       -1.06810272e+00, -1.19377410e+00, -1.12558866e+00, -1.12558866e+00,\n",
       "       -3.02764237e-01,  5.16751349e-01, -1.71004534e+00, -1.53424561e+00,\n",
       "       -7.13846803e-01,  1.65151894e-01,  4.79520671e-02, -1.27847672e-01,\n",
       "        6.82755411e-01,  7.51151025e-01,  1.21995032e+00,  1.10275054e+00,\n",
       "        1.27855027e+00,  1.27855027e+00,  5.16751349e-01, -7.72446692e-01,\n",
       "        2.58451819e-01, -4.43623886e-02, -4.09170315e-02, -1.92557007e-01,\n",
       "       -4.18061435e-01, -1.92557007e-01, -8.69070292e-01,  3.29474024e-02,\n",
       "        2.58451819e-01, -1.92557007e-01, -1.92557007e-01,  3.29474024e-02,\n",
       "        3.29474024e-02, -6.43565834e-01,  2.34711617e-01,  2.34711617e-01,\n",
       "       -4.09170315e-02,  1.24460153e-01, -8.68551284e-02, -2.06294224e-01,\n",
       "       -2.06294224e-01, -2.06294224e-01, -2.06294224e-01, -2.61419952e-01,\n",
       "       -2.88982809e-01, -2.88982809e-01, -2.88982809e-01, -4.09170315e-02,\n",
       "       -4.09170315e-02, -4.09170315e-02, -4.09170315e-02,  1.24460153e-01,\n",
       "       -2.50701427e-01,  2.40705013e+00, -2.50701427e-01,  2.71443939e+00,\n",
       "       -1.02351260e+00, -8.48571658e-01, -8.48571658e-01, -1.02351260e+00,\n",
       "       -3.48637015e-01, -5.18440127e-01,  3.30575317e-01,  1.60772234e-01,\n",
       "       -9.03085154e-03, -3.48637015e-01, -5.18440127e-01, -3.48637015e-01,\n",
       "       -9.03085154e-03,  2.56044340e+00,  2.82355618e+00,  2.36308050e+00,\n",
       "        2.16571999e+00,  2.09997249e+00,  8.50104272e-01,  1.57369030e+00,\n",
       "        1.70524430e+00,  1.18905939e-02,  1.96652398e-01,  1.07155490e+00,\n",
       "       -6.39548302e-01, -1.59943545e+00, -6.29550040e-01, -6.29550040e-01,\n",
       "       -5.56854606e-01, -1.20682098e-01, -2.93880463e-01,  5.54680943e-01,\n",
       "       -1.50611103e+00, -1.74855721e+00, -1.62733412e+00, -6.57549620e-01,\n",
       "       -1.72657400e-01,  6.97887167e-02, -5.36326587e-01, -2.31424615e-01,\n",
       "        2.32547492e-01, -4.11463767e-01, -5.93202353e-01, -1.68290401e+00,\n",
       "       -5.56854606e-01, -7.02245474e-01, -5.56854606e-01, -6.29550040e-01,\n",
       "       -6.29550040e-01, -5.93202353e-01, -7.60401785e-01, -7.02245474e-01,\n",
       "       -5.56854606e-01, -6.65897727e-01, -7.02245474e-01, -6.29550040e-01,\n",
       "       -7.02245474e-01, -7.02245474e-01, -6.65897727e-01, -6.39548302e-01,\n",
       "        8.21149588e-01,  4.87275779e-01, -2.50701427e-01, -5.61853707e-01,\n",
       "       -8.73005986e-01, -8.73005986e-01, -1.96203899e+00, -2.50701427e-01,\n",
       "        6.04508482e-02, -5.61853707e-01, -2.50701427e-01,  6.04508482e-02,\n",
       "       -9.76723433e-01,  5.27179241e-01,  5.27179241e-01, -1.49531054e+00,\n",
       "        6.04508482e-02,  5.27179241e-01,  3.71603131e-01,  6.04508482e-02,\n",
       "       -9.76723433e-01, -7.17429876e-01, -2.50701427e-01, -1.26194632e+00,\n",
       "       -5.61853707e-01, -2.50701427e-01,  8.38331521e-01, -5.61853707e-01,\n",
       "       -5.61853707e-01, -4.06277567e-01,  9.93448868e-02, -2.50701427e-01,\n",
       "        6.04508482e-02, -7.23016739e-01,  2.36870438e-01,  6.54212713e-01,\n",
       "        1.69756830e+00,  2.36531591e+00,  2.19837904e+00,  2.61572123e+00,\n",
       "        3.40951622e-01,  1.44716299e+00,  1.11328912e+00,  1.02982068e+00,\n",
       "        9.46352303e-01,  2.36870438e-01,  1.82277107e+00,  6.04508482e-02,\n",
       "        5.29009998e-01,  1.11667760e-01, -2.22206056e-01, -5.14345646e-01,\n",
       "       -7.64750957e-01, -6.39548302e-01,  9.46352303e-01, -3.47408712e-01,\n",
       "        6.12478495e-01,  1.95136204e-01, -4.93478507e-01, -2.01677775e+00,\n",
       "       -2.30891728e+00, -1.39076436e+00,  4.03807342e-01,  3.99551541e-01,\n",
       "        1.40542877e+00, -4.20847237e-01,  7.78624773e-01,  7.78624773e-01,\n",
       "        7.78624773e-01,  7.78624773e-01,  7.78624773e-01,  7.78624773e-01,\n",
       "        7.78624773e-01, -1.51742145e-01, -6.16925597e-01, -1.08210897e+00,\n",
       "       -1.50587065e-02, -8.34361196e-01, -1.51711321e+00, -1.24401248e+00,\n",
       "       -7.66085982e-01, -8.33339095e-02, -1.51609123e-01, -2.88159519e-01,\n",
       "       -2.88159519e-01,  2.58042127e-01,  5.31142950e-01,  4.62867737e-01,\n",
       "        6.67693377e-01,  3.94592524e-01,  5.32164983e-02, -1.50587065e-02,\n",
       "        5.32164983e-02,  7.78624773e-01,  7.78624773e-01, -9.33250308e-01,\n",
       "       -9.33250308e-01, -2.36066710e-02, -2.36066710e-02, -2.36066710e-02,\n",
       "       -3.76224220e-01, -3.76224220e-01, -3.76224220e-01, -3.76224220e-01,\n",
       "       -3.76224220e-01, -3.76224220e-01, -3.76224220e-01, -3.76224220e-01,\n",
       "       -3.76224220e-01, -4.20301408e-01, -8.33339095e-02, -5.52532971e-01,\n",
       "       -4.64378595e-01, -7.28841722e-01, -9.33250308e-01, -9.33250308e-01,\n",
       "       -9.33250308e-01, -9.33250308e-01, -9.33250308e-01, -9.33250308e-01,\n",
       "       -9.33250308e-01, -9.33250308e-01, -9.33250308e-01, -9.33250308e-01,\n",
       "       -9.33250308e-01, -3.76224220e-01, -6.29535556e-01,  1.21491708e-01,\n",
       "       -3.56434733e-01, -3.94046783e-01, -3.94046783e-01, -4.09773707e-01,\n",
       "        1.40668705e-01, -5.19862235e-01, -3.56419176e-01, -4.21900779e-01,\n",
       "        7.73779273e-01,  7.73779273e-01, -1.82275581e+00, -1.58546281e+00,\n",
       "       -7.24633753e-01, -7.22783267e-01, -3.94046783e-01, -5.32546580e-01,\n",
       "       -7.95360934e-03, -2.04009488e-01, -4.00065362e-01, -5.96121252e-01,\n",
       "       -4.00065362e-01, -4.00065362e-01, -2.04009488e-01, -7.95360934e-03,\n",
       "       -6.45655990e-01, -6.45655990e-01, -6.70764685e-01, -4.22362745e-01,\n",
       "        2.23751813e-01, -4.00065362e-01, -2.36066710e-02, -3.94046783e-01,\n",
       "        1.72122553e-01, -4.24709946e-01,  1.41872060e+00, -8.34361196e-01,\n",
       "       -1.03918684e+00, -1.03918684e+00, -1.03918684e+00, -3.56434733e-01,\n",
       "       -8.34361196e-01,  1.89766914e-01, -8.33339095e-02, -1.51609123e-01,\n",
       "       -6.97810769e-01, -1.85848927e+00, -3.94046783e-01, -1.92676449e+00,\n",
       "       -9.02636409e-01,  3.12878466e+00,  4.86661077e-01,  2.35030264e-01,\n",
       "       -1.00477517e-01, -2.68231392e-01,  8.64107311e-01, -2.68231392e-01,\n",
       "       -7.95082673e-02, -2.68231392e-01, -2.68231392e-01, -3.94046783e-01,\n",
       "       -3.94046783e-01, -1.58538842e+00, -2.36066710e-02,  2.35030264e-01,\n",
       "        2.09209847e+00, -3.73170167e-01, -3.73170167e-01, -3.73170167e-01,\n",
       "       -3.73170167e-01, -3.73170167e-01, -3.91082942e-01, -4.44821239e-01,\n",
       "       -5.16472280e-01,  4.69886243e-01,  4.69886243e-01,  4.69886243e-01,\n",
       "        4.69886243e-01,  4.69886243e-01,  4.69886243e-01,  4.69886243e-01,\n",
       "       -1.64077714e-01, -1.18511558e+00, -1.06823826e+00, -9.35778677e-01,\n",
       "       -8.11159730e-01,  1.52669775e+00,  7.08530366e-01,  1.03579736e+00,\n",
       "        5.44896901e-01,  1.19943082e+00,  1.69033122e+00,  1.47215331e+00,\n",
       "       -3.73170167e-01, -3.73170167e-01, -3.73170167e-01, -2.29868025e-01,\n",
       "        6.92551136e-01,  7.40398049e-01, -1.27847672e-01, -1.27847672e-01,\n",
       "        6.33951187e-01, -6.55246913e-01, -8.31046641e-01, -9.48246479e-01,\n",
       "       -9.48246479e-01,  1.65151894e-01, -7.13846803e-01,  6.33951187e-01,\n",
       "        1.65151894e-01,  1.58124220e+00, -6.92477599e-02, -1.92491353e+00,\n",
       "       -2.10071325e+00, -1.47564566e+00, -7.72446692e-01,  1.09476995e+01,\n",
       "        1.09476995e+01,  8.08165646e+00, -3.87985148e-02, -2.29868025e-01,\n",
       "       -2.29868025e-01, -2.29868025e-01, -2.29868025e-01, -2.29868025e-01,\n",
       "        8.70177448e-02,  2.01759815e+00,  8.08165646e+00,  2.34486508e+00,\n",
       "       -1.03116596e+00, -1.03116596e+00, -1.03116596e+00, -1.03116596e+00,\n",
       "       -9.01512861e-01, -1.92455441e-01,  5.16601980e-01,  5.16601980e-01,\n",
       "        5.16601980e-01, -1.92455441e-01, -2.14985585e+00, -1.20776510e+00,\n",
       "       -2.65674382e-01, -1.03116596e+00, -2.65674382e-01,  3.20508671e+00,\n",
       "        3.20508671e+00,  3.20508671e+00,  6.64077222e-01,  1.29932940e+00,\n",
       "        1.29932940e+00,  1.93458200e+00,  1.93458200e+00,  3.20508671e+00,\n",
       "        2.79733372e+00,  2.01759815e+00,  2.09209847e+00,  2.79733372e+00,\n",
       "       -2.65674382e-01, -1.03116596e+00, -1.20776510e+00, -1.55708939e-01,\n",
       "        2.12668729e+00,  1.69033122e+00,  2.23577619e+00,  4.17926870e-02,\n",
       "        1.41760874e+00,  9.81252849e-01,  9.26708341e-01,  8.17619324e-01,\n",
       "        7.63074875e-01,  7.08530366e-01,  7.08530366e-01,  7.08530366e-01,\n",
       "        5.44896901e-01,  4.90352392e-01,  4.35807884e-01,  1.09034181e+00,\n",
       "        9.81252849e-01,  4.90352392e-01,  9.26708341e-01, -5.45231253e-02,\n",
       "        4.90352392e-01,  2.72174418e-01,  7.08530366e-01,  3.81263405e-01,\n",
       "        4.90352392e-01,  9.81252849e-01,  4.90352392e-01,  1.28023773e-01,\n",
       "        3.26718897e-01,  0.00000000e+00,  0.00000000e+00,  0.00000000e+00,\n",
       "        0.00000000e+00,  0.00000000e+00,  0.00000000e+00,  0.00000000e+00,\n",
       "        0.00000000e+00,  0.00000000e+00,  0.00000000e+00,  0.00000000e+00,\n",
       "        0.00000000e+00,  0.00000000e+00,  0.00000000e+00,  0.00000000e+00,\n",
       "        0.00000000e+00,  0.00000000e+00,  0.00000000e+00,  0.00000000e+00,\n",
       "        0.00000000e+00,  0.00000000e+00,  0.00000000e+00,  0.00000000e+00,\n",
       "        0.00000000e+00,  0.00000000e+00,  0.00000000e+00,  0.00000000e+00,\n",
       "        0.00000000e+00,  0.00000000e+00,  0.00000000e+00,  0.00000000e+00,\n",
       "        0.00000000e+00,  0.00000000e+00,  0.00000000e+00,  0.00000000e+00,\n",
       "        0.00000000e+00,  0.00000000e+00,  0.00000000e+00,  0.00000000e+00,\n",
       "        0.00000000e+00,  0.00000000e+00,  0.00000000e+00,  0.00000000e+00,\n",
       "        0.00000000e+00,  0.00000000e+00,  0.00000000e+00,  0.00000000e+00,\n",
       "        0.00000000e+00,  0.00000000e+00,  0.00000000e+00,  0.00000000e+00,\n",
       "        0.00000000e+00,  0.00000000e+00,  0.00000000e+00,  0.00000000e+00,\n",
       "        0.00000000e+00,  0.00000000e+00,  0.00000000e+00,  0.00000000e+00,\n",
       "        0.00000000e+00,  0.00000000e+00,  0.00000000e+00,  0.00000000e+00,\n",
       "        0.00000000e+00,  0.00000000e+00,  0.00000000e+00,  0.00000000e+00,\n",
       "        0.00000000e+00,  0.00000000e+00,  0.00000000e+00,  0.00000000e+00,\n",
       "        0.00000000e+00,  0.00000000e+00,  0.00000000e+00,  0.00000000e+00,\n",
       "        0.00000000e+00,  0.00000000e+00,  0.00000000e+00,  0.00000000e+00,\n",
       "        0.00000000e+00,  0.00000000e+00,  0.00000000e+00,  0.00000000e+00,\n",
       "        0.00000000e+00,  0.00000000e+00,  0.00000000e+00,  0.00000000e+00,\n",
       "        0.00000000e+00,  0.00000000e+00,  0.00000000e+00,  0.00000000e+00,\n",
       "        0.00000000e+00,  0.00000000e+00,  0.00000000e+00,  0.00000000e+00,\n",
       "        0.00000000e+00,  0.00000000e+00,  0.00000000e+00,  0.00000000e+00,\n",
       "        0.00000000e+00,  0.00000000e+00,  0.00000000e+00,  0.00000000e+00,\n",
       "        0.00000000e+00,  0.00000000e+00,  0.00000000e+00,  0.00000000e+00,\n",
       "        0.00000000e+00,  0.00000000e+00,  0.00000000e+00,  0.00000000e+00,\n",
       "        0.00000000e+00,  0.00000000e+00,  0.00000000e+00,  0.00000000e+00,\n",
       "        0.00000000e+00,  0.00000000e+00,  0.00000000e+00,  0.00000000e+00,\n",
       "        0.00000000e+00,  0.00000000e+00,  0.00000000e+00,  0.00000000e+00,\n",
       "        0.00000000e+00,  0.00000000e+00,  0.00000000e+00,  0.00000000e+00,\n",
       "        0.00000000e+00,  0.00000000e+00,  0.00000000e+00,  0.00000000e+00,\n",
       "        0.00000000e+00,  0.00000000e+00,  0.00000000e+00,  0.00000000e+00,\n",
       "        0.00000000e+00,  0.00000000e+00,  0.00000000e+00,  0.00000000e+00,\n",
       "        0.00000000e+00,  0.00000000e+00,  0.00000000e+00,  0.00000000e+00,\n",
       "        0.00000000e+00,  0.00000000e+00,  0.00000000e+00,  0.00000000e+00,\n",
       "        0.00000000e+00,  0.00000000e+00,  0.00000000e+00,  0.00000000e+00,\n",
       "        0.00000000e+00,  0.00000000e+00,  0.00000000e+00,  0.00000000e+00,\n",
       "        0.00000000e+00,  0.00000000e+00,  0.00000000e+00,  0.00000000e+00,\n",
       "        0.00000000e+00,  0.00000000e+00,  0.00000000e+00,  0.00000000e+00,\n",
       "        0.00000000e+00,  0.00000000e+00,  0.00000000e+00,  0.00000000e+00,\n",
       "        0.00000000e+00,  0.00000000e+00,  0.00000000e+00,  0.00000000e+00,\n",
       "        0.00000000e+00,  0.00000000e+00,  0.00000000e+00,  0.00000000e+00,\n",
       "        0.00000000e+00,  0.00000000e+00,  0.00000000e+00,  0.00000000e+00,\n",
       "        0.00000000e+00,  0.00000000e+00,  0.00000000e+00,  0.00000000e+00,\n",
       "        0.00000000e+00,  0.00000000e+00,  0.00000000e+00,  0.00000000e+00,\n",
       "        0.00000000e+00,  0.00000000e+00,  0.00000000e+00,  0.00000000e+00,\n",
       "        0.00000000e+00,  0.00000000e+00,  0.00000000e+00,  0.00000000e+00,\n",
       "        0.00000000e+00,  0.00000000e+00,  0.00000000e+00,  0.00000000e+00,\n",
       "        0.00000000e+00,  0.00000000e+00,  0.00000000e+00,  0.00000000e+00,\n",
       "        0.00000000e+00,  0.00000000e+00,  0.00000000e+00,  0.00000000e+00,\n",
       "        0.00000000e+00,  0.00000000e+00,  0.00000000e+00,  0.00000000e+00,\n",
       "        0.00000000e+00,  0.00000000e+00,  0.00000000e+00,  0.00000000e+00,\n",
       "        0.00000000e+00,  0.00000000e+00,  0.00000000e+00,  0.00000000e+00,\n",
       "        0.00000000e+00,  0.00000000e+00,  0.00000000e+00,  0.00000000e+00,\n",
       "        0.00000000e+00,  0.00000000e+00,  0.00000000e+00,  0.00000000e+00,\n",
       "        0.00000000e+00,  0.00000000e+00,  0.00000000e+00,  0.00000000e+00,\n",
       "        0.00000000e+00,  0.00000000e+00,  0.00000000e+00,  0.00000000e+00,\n",
       "        0.00000000e+00,  0.00000000e+00,  0.00000000e+00,  0.00000000e+00,\n",
       "        0.00000000e+00,  0.00000000e+00,  0.00000000e+00,  0.00000000e+00,\n",
       "        0.00000000e+00,  0.00000000e+00,  0.00000000e+00,  0.00000000e+00,\n",
       "        0.00000000e+00,  0.00000000e+00,  0.00000000e+00,  0.00000000e+00,\n",
       "        0.00000000e+00,  0.00000000e+00,  0.00000000e+00,  0.00000000e+00,\n",
       "        0.00000000e+00,  0.00000000e+00,  0.00000000e+00,  0.00000000e+00,\n",
       "        0.00000000e+00,  0.00000000e+00,  0.00000000e+00,  0.00000000e+00,\n",
       "        0.00000000e+00,  0.00000000e+00,  0.00000000e+00,  0.00000000e+00,\n",
       "        0.00000000e+00,  0.00000000e+00,  0.00000000e+00,  0.00000000e+00,\n",
       "        0.00000000e+00,  0.00000000e+00,  0.00000000e+00,  0.00000000e+00,\n",
       "        0.00000000e+00,  0.00000000e+00,  0.00000000e+00,  0.00000000e+00,\n",
       "        0.00000000e+00,  0.00000000e+00,  0.00000000e+00,  0.00000000e+00,\n",
       "        0.00000000e+00,  0.00000000e+00,  0.00000000e+00,  0.00000000e+00,\n",
       "        0.00000000e+00,  0.00000000e+00,  0.00000000e+00,  0.00000000e+00,\n",
       "        0.00000000e+00,  0.00000000e+00,  0.00000000e+00,  0.00000000e+00,\n",
       "        0.00000000e+00,  0.00000000e+00,  0.00000000e+00,  0.00000000e+00,\n",
       "        0.00000000e+00,  0.00000000e+00,  0.00000000e+00,  0.00000000e+00,\n",
       "        0.00000000e+00,  0.00000000e+00,  0.00000000e+00,  0.00000000e+00,\n",
       "        0.00000000e+00,  0.00000000e+00,  0.00000000e+00,  0.00000000e+00,\n",
       "        0.00000000e+00,  0.00000000e+00,  0.00000000e+00,  0.00000000e+00,\n",
       "        0.00000000e+00,  0.00000000e+00,  0.00000000e+00,  0.00000000e+00,\n",
       "        0.00000000e+00,  0.00000000e+00,  0.00000000e+00,  0.00000000e+00,\n",
       "        0.00000000e+00,  0.00000000e+00,  0.00000000e+00,  0.00000000e+00,\n",
       "        0.00000000e+00,  0.00000000e+00,  0.00000000e+00,  0.00000000e+00,\n",
       "        0.00000000e+00,  0.00000000e+00,  0.00000000e+00,  0.00000000e+00,\n",
       "        0.00000000e+00,  0.00000000e+00,  0.00000000e+00,  0.00000000e+00,\n",
       "        0.00000000e+00,  0.00000000e+00,  0.00000000e+00,  0.00000000e+00,\n",
       "        0.00000000e+00,  0.00000000e+00,  0.00000000e+00,  0.00000000e+00,\n",
       "        0.00000000e+00,  0.00000000e+00,  0.00000000e+00,  0.00000000e+00,\n",
       "        0.00000000e+00,  0.00000000e+00,  0.00000000e+00,  0.00000000e+00,\n",
       "        0.00000000e+00,  0.00000000e+00,  0.00000000e+00,  0.00000000e+00,\n",
       "        0.00000000e+00,  0.00000000e+00,  0.00000000e+00,  0.00000000e+00,\n",
       "        0.00000000e+00,  0.00000000e+00,  0.00000000e+00,  0.00000000e+00,\n",
       "        0.00000000e+00,  0.00000000e+00,  0.00000000e+00,  0.00000000e+00,\n",
       "        0.00000000e+00,  0.00000000e+00,  0.00000000e+00,  0.00000000e+00],\n",
       "      dtype=float32)"
      ]
     },
     "execution_count": 78,
     "metadata": {},
     "output_type": "execute_result"
    }
   ],
   "source": [
    "val_values[0]"
   ]
  },
  {
   "cell_type": "code",
   "execution_count": 77,
   "metadata": {},
   "outputs": [
    {
     "data": {
      "text/plain": [
       "0.001856067"
      ]
     },
     "execution_count": 77,
     "metadata": {},
     "output_type": "execute_result"
    }
   ],
   "source": []
  },
  {
   "cell_type": "code",
   "execution_count": 24,
   "metadata": {},
   "outputs": [
    {
     "data": {
      "text/plain": [
       "(7144, 880)"
      ]
     },
     "execution_count": 24,
     "metadata": {},
     "output_type": "execute_result"
    }
   ],
   "source": [
    "val_values.shape"
   ]
  },
  {
   "cell_type": "code",
   "execution_count": 29,
   "metadata": {},
   "outputs": [
    {
     "data": {
      "text/plain": [
       "array([21.933332  , 22.933332  , 23.183332  , 23.433332  , 23.683332  ,\n",
       "       10.716666  ,  1.6833333 ,  5.983333  , 10.716666  , 20.933332  ,\n",
       "       18.25      , 23.933332  , 19.933332  , 11.933333  , 18.933332  ,\n",
       "       18.683332  , 18.516666  , 18.266666  , 18.25      , 17.933332  ,\n",
       "       16.933332  , 15.933333  , 14.933333  , 13.933333  , 12.933333  ,\n",
       "       10.933333  , 19.25      , 19.266666  , 20.8       ,  2.9333334 ,\n",
       "       23.433332  ,  9.933333  , 23.25      ,  2.9333334 , 23.25      ,\n",
       "        2.9333334 ,  1.4333333 ,  1.1833333 ,  0.93333334, 23.25      ,\n",
       "        2.9333334 , 23.25      ,  2.9333334 , 23.25      , 21.95      ,\n",
       "        2.9333334 , 17.933332  ,  2.9333334 ,  2.9333334 , 23.933332  ,\n",
       "       23.433332  , 21.95      , 20.8       , 19.25      , 18.25      ,\n",
       "       10.716666  ,  5.983333  ,  1.6833333 , 23.933332  , 18.933332  ,\n",
       "        8.933333  , 19.266666  ,  6.9333334 ,  2.9333334 ,  1.9333333 ,\n",
       "        1.4333333 ,  1.1833333 ,  0.93333334, 23.25      ,  2.9333334 ,\n",
       "       23.25      ,  2.9333334 , 23.25      ,  2.9333334 , 23.25      ,\n",
       "        2.9333334 ,  3.9333334 , 23.933332  , 23.433332  , 23.183332  ,\n",
       "       22.933332  , 21.933332  , 20.933332  , 19.933332  ,  0.18333334,\n",
       "       18.933332  , 18.683332  , 18.516666  , 18.266666  , 18.25      ,\n",
       "       17.933332  , 23.683332  ,  7.9333334 ,  4.9333334 ,  6.9333334 ,\n",
       "        5.9333334 ,  4.9333334 ,  3.9333334 ,  3.1833334 ,  2.9333334 ,\n",
       "        1.9333333 ,  0.93333334,  0.68333334,  0.43333334,  0.26666668,\n",
       "        0.18333334, 23.933332  , 22.933332  ,  5.9333334 , 21.933332  ,\n",
       "       19.933332  , 18.933332  , 17.933332  , 16.933332  , 15.933333  ,\n",
       "       14.933333  , 13.933333  , 12.933333  , 11.933333  , 10.933333  ,\n",
       "        9.933333  ,  8.933333  ,  7.9333334 , 20.933332  ,  0.26666668,\n",
       "       18.25      ,  0.68333334,  0.93333334,  2.9333334 ,  1.4333333 ,\n",
       "        1.1833333 ,  0.93333334, 23.933332  , 23.433332  , 21.95      ,\n",
       "       20.8       , 19.25      , 18.25      , 10.716666  ,  5.983333  ,\n",
       "        1.6833333 , 22.933332  , 20.933332  , 18.933332  , 16.933332  ,\n",
       "       12.933333  ,  8.933333  ,  4.9333334 ,  2.9333334 , 23.25      ,\n",
       "        2.9333334 , 23.933332  , 23.683332  , 23.433332  ,  1.9333333 ,\n",
       "        2.9333334 ,  4.9333334 ,  5.9333334 , 23.933332  , 23.433332  ,\n",
       "       21.95      , 20.8       , 19.25      , 18.25      , 10.716666  ,\n",
       "        5.983333  ,  1.6833333 , 23.25      ,  2.9333334 , 23.933332  ,\n",
       "       21.933332  , 23.183332  , 20.933332  , 18.933332  , 17.933332  ,\n",
       "       16.933332  , 15.933333  , 14.933333  , 13.933333  , 12.933333  ,\n",
       "       11.933333  , 10.933333  ,  9.933333  ,  8.933333  ,  7.9333334 ,\n",
       "        6.9333334 , 19.933332  , 22.933332  , 21.933332  , 20.933332  ,\n",
       "       21.933332  , 20.933332  , 19.933332  , 19.266666  , 18.933332  ,\n",
       "       18.683332  , 18.516666  , 18.266666  , 18.25      , 17.933332  ,\n",
       "       16.933332  , 15.933333  , 14.933333  , 22.933332  , 13.933333  ,\n",
       "       11.933333  , 10.933333  ,  9.933333  ,  8.933333  ,  7.9333334 ,\n",
       "        6.9333334 ,  5.9333334 ,  4.9333334 ,  3.9333334 ,  3.1833334 ,\n",
       "        2.9333334 ,  1.9333333 ,  0.93333334, 12.933333  ,  0.43333334,\n",
       "       23.433332  ,  0.18333334, 19.933332  , 19.266666  , 18.933332  ,\n",
       "       18.683332  , 18.516666  , 18.266666  , 16.933332  , 17.933332  ,\n",
       "       16.933332  , 15.933333  , 14.933333  , 13.933333  , 12.933333  ,\n",
       "       23.933332  , 11.933333  ,  9.933333  ,  8.933333  ,  7.9333334 ,\n",
       "        6.9333334 ,  5.9333334 ,  4.9333334 ,  3.9333334 ,  2.9333334 ,\n",
       "        1.9333333 ,  0.93333334,  0.68333334,  0.43333334,  0.26666668,\n",
       "       10.933333  , 15.933333  ,  3.1833334 , 13.933333  ,  8.933333  ,\n",
       "        7.9333334 ,  6.9333334 ,  5.9333334 ,  4.9333334 ,  3.9333334 ,\n",
       "        2.9333334 ,  1.9333333 ,  1.4333333 ,  1.1833333 , 23.933332  ,\n",
       "       23.683332  , 23.433332  , 23.183332  , 22.933332  , 21.933332  ,\n",
       "       20.933332  , 19.933332  , 19.266666  , 18.933332  , 18.683332  ,\n",
       "       18.516666  , 18.266666  , 18.25      , 17.933332  , 16.933332  ,\n",
       "       15.933333  ,  9.933333  , 10.933333  , 11.933333  , 12.933333  ,\n",
       "       16.933332  , 15.933333  , 14.933333  , 13.933333  , 12.933333  ,\n",
       "       11.933333  , 10.933333  ,  9.933333  ,  8.933333  ,  7.9333334 ,\n",
       "        6.9333334 ,  5.9333334 ,  4.9333334 , 14.933333  ,  3.9333334 ,\n",
       "        1.9333333 ,  1.1833333 , 23.933332  , 22.933332  , 21.933332  ,\n",
       "       20.933332  , 19.933332  , 18.933332  , 17.933332  , 16.933332  ,\n",
       "       15.933333  , 14.933333  , 13.933333  ,  2.9333334 , 13.933333  ,\n",
       "       12.933333  , 11.933333  ,  6.9333334 ,  5.9333334 ,  4.9333334 ,\n",
       "        3.9333334 ,  2.9333334 , 23.25      ,  2.9333334 , 23.25      ,\n",
       "        2.9333334 , 23.25      ,  2.9333334 , 23.433332  , 23.25      ,\n",
       "        7.9333334 ,  2.9333334 , 23.433332  , 21.95      , 20.8       ,\n",
       "       19.25      , 18.25      , 10.716666  ,  5.983333  ,  1.6833333 ,\n",
       "       23.25      ,  2.9333334 , 23.25      ,  2.9333334 , 14.933333  ,\n",
       "       23.933332  , 17.933332  ,  8.933333  , 10.933333  , 10.933333  ,\n",
       "        9.933333  ,  8.933333  ,  7.9333334 ,  6.9333334 ,  5.9333334 ,\n",
       "        4.9333334 ,  3.9333334 ,  3.1833334 ,  2.9333334 ,  1.9333333 ,\n",
       "        0.93333334,  0.68333334,  9.933333  ,  0.43333334,  0.18333334,\n",
       "       23.933332  , 22.933332  , 20.933332  , 19.933332  , 18.933332  ,\n",
       "       17.933332  , 16.933332  , 15.933333  , 14.933333  , 13.933333  ,\n",
       "       12.933333  , 11.933333  ,  0.26666668, 18.933332  , 21.933332  ,\n",
       "       20.933332  ,  9.933333  ,  8.933333  ,  7.9333334 ,  6.9333334 ,\n",
       "        5.9333334 ,  4.9333334 ,  3.9333334 ,  2.9333334 , 23.933332  ,\n",
       "       23.433332  , 21.95      , 20.8       , 19.25      , 10.716666  ,\n",
       "        1.6833333 ,  2.9333334 , 23.25      ,  2.9333334 , 23.25      ,\n",
       "        2.9333334 , 23.933332  , 23.683332  , 23.433332  , 23.183332  ,\n",
       "       22.933332  , 21.933332  , 20.933332  , 10.933333  , 11.933333  ,\n",
       "       12.933333  , 13.933333  , 12.933333  , 19.933332  , 11.933333  ,\n",
       "       10.933333  ,  9.933333  ,  8.933333  ,  7.9333334 ,  6.9333334 ,\n",
       "        5.9333334 ,  4.9333334 ,  3.9333334 ,  3.1833334 ,  2.9333334 ,\n",
       "       19.933332  ,  1.9333333 ,  0.68333334,  0.43333334,  0.26666668,\n",
       "        0.18333334, 23.933332  , 22.933332  , 21.933332  , 19.933332  ,\n",
       "       18.933332  , 17.933332  , 16.933332  , 15.933333  , 14.933333  ,\n",
       "        0.93333334, 19.266666  , 20.933332  , 18.683332  , 16.933332  ,\n",
       "       12.933333  ,  8.933333  ,  4.9333334 , 23.933332  , 20.933332  ,\n",
       "       16.933332  , 12.933333  ,  8.933333  ,  4.9333334 , 23.933332  ,\n",
       "       20.933332  , 16.933332  , 20.933332  , 12.933333  , 22.933332  ,\n",
       "       20.933332  , 18.933332  , 16.933332  , 12.933333  ,  8.933333  ,\n",
       "        5.9333334 ,  1.9333333 ,  0.93333334, 23.933332  , 18.933332  ,\n",
       "       21.933332  , 22.933332  ,  8.933333  , 23.933332  ,  4.9333334 ,\n",
       "       23.25      , 18.516666  , 18.266666  , 18.25      ,  2.9333334 ,\n",
       "       17.933332  , 16.933332  , 15.933333  , 14.933333  , 13.933333  ,\n",
       "       11.933333  , 10.933333  ,  9.933333  ,  8.933333  ,  7.9333334 ,\n",
       "        6.9333334 , 12.933333  ,  4.9333334 ,  5.9333334 ,  0.18333334,\n",
       "       23.25      ,  0.43333334,  0.68333334,  0.26666668,  0.93333334,\n",
       "        2.9333334 ,  3.1833334 ,  3.9333334 ,  2.9333334 ,  1.9333333 ,\n",
       "        0.        ,  0.        ,  0.        ,  0.        ,  0.        ,\n",
       "        0.        ,  0.        ,  0.        ,  0.        ,  0.        ,\n",
       "        0.        ,  0.        ,  0.        ,  0.        ,  0.        ,\n",
       "        0.        ,  0.        ,  0.        ,  0.        ,  0.        ,\n",
       "        0.        ,  0.        ,  0.        ,  0.        ,  0.        ,\n",
       "        0.        ,  0.        ,  0.        ,  0.        ,  0.        ,\n",
       "        0.        ,  0.        ,  0.        ,  0.        ,  0.        ,\n",
       "        0.        ,  0.        ,  0.        ,  0.        ,  0.        ,\n",
       "        0.        ,  0.        ,  0.        ,  0.        ,  0.        ,\n",
       "        0.        ,  0.        ,  0.        ,  0.        ,  0.        ,\n",
       "        0.        ,  0.        ,  0.        ,  0.        ,  0.        ,\n",
       "        0.        ,  0.        ,  0.        ,  0.        ,  0.        ,\n",
       "        0.        ,  0.        ,  0.        ,  0.        ,  0.        ,\n",
       "        0.        ,  0.        ,  0.        ,  0.        ,  0.        ,\n",
       "        0.        ,  0.        ,  0.        ,  0.        ,  0.        ,\n",
       "        0.        ,  0.        ,  0.        ,  0.        ,  0.        ,\n",
       "        0.        ,  0.        ,  0.        ,  0.        ,  0.        ,\n",
       "        0.        ,  0.        ,  0.        ,  0.        ,  0.        ,\n",
       "        0.        ,  0.        ,  0.        ,  0.        ,  0.        ,\n",
       "        0.        ,  0.        ,  0.        ,  0.        ,  0.        ,\n",
       "        0.        ,  0.        ,  0.        ,  0.        ,  0.        ,\n",
       "        0.        ,  0.        ,  0.        ,  0.        ,  0.        ,\n",
       "        0.        ,  0.        ,  0.        ,  0.        ,  0.        ,\n",
       "        0.        ,  0.        ,  0.        ,  0.        ,  0.        ,\n",
       "        0.        ,  0.        ,  0.        ,  0.        ,  0.        ,\n",
       "        0.        ,  0.        ,  0.        ,  0.        ,  0.        ,\n",
       "        0.        ,  0.        ,  0.        ,  0.        ,  0.        ,\n",
       "        0.        ,  0.        ,  0.        ,  0.        ,  0.        ,\n",
       "        0.        ,  0.        ,  0.        ,  0.        ,  0.        ,\n",
       "        0.        ,  0.        ,  0.        ,  0.        ,  0.        ,\n",
       "        0.        ,  0.        ,  0.        ,  0.        ,  0.        ,\n",
       "        0.        ,  0.        ,  0.        ,  0.        ,  0.        ,\n",
       "        0.        ,  0.        ,  0.        ,  0.        ,  0.        ,\n",
       "        0.        ,  0.        ,  0.        ,  0.        ,  0.        ,\n",
       "        0.        ,  0.        ,  0.        ,  0.        ,  0.        ,\n",
       "        0.        ,  0.        ,  0.        ,  0.        ,  0.        ,\n",
       "        0.        ,  0.        ,  0.        ,  0.        ,  0.        ,\n",
       "        0.        ,  0.        ,  0.        ,  0.        ,  0.        ,\n",
       "        0.        ,  0.        ,  0.        ,  0.        ,  0.        ,\n",
       "        0.        ,  0.        ,  0.        ,  0.        ,  0.        ,\n",
       "        0.        ,  0.        ,  0.        ,  0.        ,  0.        ,\n",
       "        0.        ,  0.        ,  0.        ,  0.        ,  0.        ,\n",
       "        0.        ,  0.        ,  0.        ,  0.        ,  0.        ,\n",
       "        0.        ,  0.        ,  0.        ,  0.        ,  0.        ,\n",
       "        0.        ,  0.        ,  0.        ,  0.        ,  0.        ,\n",
       "        0.        ,  0.        ,  0.        ,  0.        ,  0.        ,\n",
       "        0.        ,  0.        ,  0.        ,  0.        ,  0.        ,\n",
       "        0.        ,  0.        ,  0.        ,  0.        ,  0.        ,\n",
       "        0.        ,  0.        ,  0.        ,  0.        ,  0.        ,\n",
       "        0.        ,  0.        ,  0.        ,  0.        ,  0.        ,\n",
       "        0.        ,  0.        ,  0.        ,  0.        ,  0.        ,\n",
       "        0.        ,  0.        ,  0.        ,  0.        ,  0.        ,\n",
       "        0.        ,  0.        ,  0.        ,  0.        ,  0.        ,\n",
       "        0.        ,  0.        ,  0.        ,  0.        ,  0.        ,\n",
       "        0.        ,  0.        ,  0.        ,  0.        ,  0.        ,\n",
       "        0.        ,  0.        ,  0.        ,  0.        ,  0.        ,\n",
       "        0.        ,  0.        ,  0.        ,  0.        ,  0.        ,\n",
       "        0.        ,  0.        ,  0.        ,  0.        ,  0.        ,\n",
       "        0.        ,  0.        ,  0.        ,  0.        ,  0.        ,\n",
       "        0.        ,  0.        ,  0.        ,  0.        ,  0.        ,\n",
       "        0.        ,  0.        ,  0.        ,  0.        ,  0.        ,\n",
       "        0.        ,  0.        ,  0.        ,  0.        ,  0.        ,\n",
       "        0.        ,  0.        ,  0.        ,  0.        ,  0.        ,\n",
       "        0.        ,  0.        ,  0.        ,  0.        ,  0.        ,\n",
       "        0.        ,  0.        ,  0.        ,  0.        ,  0.        ,\n",
       "        0.        ,  0.        ,  0.        ,  0.        ,  0.        ,\n",
       "        0.        ,  0.        ,  0.        ,  0.        ,  0.        ,\n",
       "        0.        ,  0.        ,  0.        ,  0.        ,  0.        ,\n",
       "        0.        ,  0.        ,  0.        ,  0.        ,  0.        ,\n",
       "        0.        ,  0.        ,  0.        ,  0.        ,  0.        ,\n",
       "        0.        ,  0.        ,  0.        ,  0.        ,  0.        ,\n",
       "        0.        ,  0.        ,  0.        ,  0.        ,  0.        ,\n",
       "        0.        ,  0.        ,  0.        ,  0.        ,  0.        ,\n",
       "        0.        ,  0.        ,  0.        ,  0.        ,  0.        ,\n",
       "        0.        ,  0.        ,  0.        ,  0.        ,  0.        ],\n",
       "      dtype=float32)"
      ]
     },
     "execution_count": 29,
     "metadata": {},
     "output_type": "execute_result"
    }
   ],
   "source": [
    "val_times[0]"
   ]
  },
  {
   "cell_type": "code",
   "execution_count": 35,
   "metadata": {},
   "outputs": [
    {
     "data": {
      "text/plain": [
       "array([ 11,   0,   3, ...,  21, 128,  74])"
      ]
     },
     "execution_count": 35,
     "metadata": {},
     "output_type": "execute_result"
    }
   ],
   "source": [
    "np.argmax(val_times,axis=1)"
   ]
  },
  {
   "cell_type": "code",
   "execution_count": 38,
   "metadata": {},
   "outputs": [
    {
     "data": {
      "text/plain": [
       "array([21.933332  , 22.933332  , 23.183332  , 23.433332  , 23.683332  ,\n",
       "       10.716666  ,  1.6833333 ,  5.983333  , 10.716666  , 20.933332  ,\n",
       "       18.25      , 23.933332  , 19.933332  , 11.933333  , 18.933332  ,\n",
       "       18.683332  , 18.516666  , 18.266666  , 18.25      , 17.933332  ,\n",
       "       16.933332  , 15.933333  , 14.933333  , 13.933333  , 12.933333  ,\n",
       "       10.933333  , 19.25      , 19.266666  , 20.8       ,  2.9333334 ,\n",
       "       23.433332  ,  9.933333  , 23.25      ,  2.9333334 , 23.25      ,\n",
       "        2.9333334 ,  1.4333333 ,  1.1833333 ,  0.93333334, 23.25      ,\n",
       "        2.9333334 , 23.25      ,  2.9333334 , 23.25      , 21.95      ,\n",
       "        2.9333334 , 17.933332  ,  2.9333334 ,  2.9333334 , 23.933332  ,\n",
       "       23.433332  , 21.95      , 20.8       , 19.25      , 18.25      ,\n",
       "       10.716666  ,  5.983333  ,  1.6833333 , 23.933332  , 18.933332  ,\n",
       "        8.933333  , 19.266666  ,  6.9333334 ,  2.9333334 ,  1.9333333 ,\n",
       "        1.4333333 ,  1.1833333 ,  0.93333334, 23.25      ,  2.9333334 ,\n",
       "       23.25      ,  2.9333334 , 23.25      ,  2.9333334 , 23.25      ,\n",
       "        2.9333334 ,  3.9333334 , 23.933332  , 23.433332  , 23.183332  ,\n",
       "       22.933332  , 21.933332  , 20.933332  , 19.933332  ,  0.18333334,\n",
       "       18.933332  , 18.683332  , 18.516666  , 18.266666  , 18.25      ,\n",
       "       17.933332  , 23.683332  ,  7.9333334 ,  4.9333334 ,  6.9333334 ,\n",
       "        5.9333334 ,  4.9333334 ,  3.9333334 ,  3.1833334 ,  2.9333334 ,\n",
       "        1.9333333 ,  0.93333334,  0.68333334,  0.43333334,  0.26666668,\n",
       "        0.18333334, 23.933332  , 22.933332  ,  5.9333334 , 21.933332  ,\n",
       "       19.933332  , 18.933332  , 17.933332  , 16.933332  , 15.933333  ,\n",
       "       14.933333  , 13.933333  , 12.933333  , 11.933333  , 10.933333  ,\n",
       "        9.933333  ,  8.933333  ,  7.9333334 , 20.933332  ,  0.26666668,\n",
       "       18.25      ,  0.68333334,  0.93333334,  2.9333334 ,  1.4333333 ,\n",
       "        1.1833333 ,  0.93333334, 23.933332  , 23.433332  , 21.95      ,\n",
       "       20.8       , 19.25      , 18.25      , 10.716666  ,  5.983333  ,\n",
       "        1.6833333 , 22.933332  , 20.933332  , 18.933332  , 16.933332  ,\n",
       "       12.933333  ,  8.933333  ,  4.9333334 ,  2.9333334 , 23.25      ,\n",
       "        2.9333334 , 23.933332  , 23.683332  , 23.433332  ,  1.9333333 ,\n",
       "        2.9333334 ,  4.9333334 ,  5.9333334 , 23.933332  , 23.433332  ,\n",
       "       21.95      , 20.8       , 19.25      , 18.25      , 10.716666  ,\n",
       "        5.983333  ,  1.6833333 , 23.25      ,  2.9333334 , 23.933332  ,\n",
       "       21.933332  , 23.183332  , 20.933332  , 18.933332  , 17.933332  ,\n",
       "       16.933332  , 15.933333  , 14.933333  , 13.933333  , 12.933333  ,\n",
       "       11.933333  , 10.933333  ,  9.933333  ,  8.933333  ,  7.9333334 ,\n",
       "        6.9333334 , 19.933332  , 22.933332  , 21.933332  , 20.933332  ,\n",
       "       21.933332  , 20.933332  , 19.933332  , 19.266666  , 18.933332  ,\n",
       "       18.683332  , 18.516666  , 18.266666  , 18.25      , 17.933332  ,\n",
       "       16.933332  , 15.933333  , 14.933333  , 22.933332  , 13.933333  ,\n",
       "       11.933333  , 10.933333  ,  9.933333  ,  8.933333  ,  7.9333334 ,\n",
       "        6.9333334 ,  5.9333334 ,  4.9333334 ,  3.9333334 ,  3.1833334 ,\n",
       "        2.9333334 ,  1.9333333 ,  0.93333334, 12.933333  ,  0.43333334,\n",
       "       23.433332  ,  0.18333334, 19.933332  , 19.266666  , 18.933332  ,\n",
       "       18.683332  , 18.516666  , 18.266666  , 16.933332  , 17.933332  ,\n",
       "       16.933332  , 15.933333  , 14.933333  , 13.933333  , 12.933333  ,\n",
       "       23.933332  , 11.933333  ,  9.933333  ,  8.933333  ,  7.9333334 ,\n",
       "        6.9333334 ,  5.9333334 ,  4.9333334 ,  3.9333334 ,  2.9333334 ,\n",
       "        1.9333333 ,  0.93333334,  0.68333334,  0.43333334,  0.26666668,\n",
       "       10.933333  , 15.933333  ,  3.1833334 , 13.933333  ,  8.933333  ,\n",
       "        7.9333334 ,  6.9333334 ,  5.9333334 ,  4.9333334 ,  3.9333334 ,\n",
       "        2.9333334 ,  1.9333333 ,  1.4333333 ,  1.1833333 , 23.933332  ,\n",
       "       23.683332  , 23.433332  , 23.183332  , 22.933332  , 21.933332  ,\n",
       "       20.933332  , 19.933332  , 19.266666  , 18.933332  , 18.683332  ,\n",
       "       18.516666  , 18.266666  , 18.25      , 17.933332  , 16.933332  ,\n",
       "       15.933333  ,  9.933333  , 10.933333  , 11.933333  , 12.933333  ,\n",
       "       16.933332  , 15.933333  , 14.933333  , 13.933333  , 12.933333  ,\n",
       "       11.933333  , 10.933333  ,  9.933333  ,  8.933333  ,  7.9333334 ,\n",
       "        6.9333334 ,  5.9333334 ,  4.9333334 , 14.933333  ,  3.9333334 ,\n",
       "        1.9333333 ,  1.1833333 , 23.933332  , 22.933332  , 21.933332  ,\n",
       "       20.933332  , 19.933332  , 18.933332  , 17.933332  , 16.933332  ,\n",
       "       15.933333  , 14.933333  , 13.933333  ,  2.9333334 , 13.933333  ,\n",
       "       12.933333  , 11.933333  ,  6.9333334 ,  5.9333334 ,  4.9333334 ,\n",
       "        3.9333334 ,  2.9333334 , 23.25      ,  2.9333334 , 23.25      ,\n",
       "        2.9333334 , 23.25      ,  2.9333334 , 23.433332  , 23.25      ,\n",
       "        7.9333334 ,  2.9333334 , 23.433332  , 21.95      , 20.8       ,\n",
       "       19.25      , 18.25      , 10.716666  ,  5.983333  ,  1.6833333 ,\n",
       "       23.25      ,  2.9333334 , 23.25      ,  2.9333334 , 14.933333  ,\n",
       "       23.933332  , 17.933332  ,  8.933333  , 10.933333  , 10.933333  ,\n",
       "        9.933333  ,  8.933333  ,  7.9333334 ,  6.9333334 ,  5.9333334 ,\n",
       "        4.9333334 ,  3.9333334 ,  3.1833334 ,  2.9333334 ,  1.9333333 ,\n",
       "        0.93333334,  0.68333334,  9.933333  ,  0.43333334,  0.18333334,\n",
       "       23.933332  , 22.933332  , 20.933332  , 19.933332  , 18.933332  ,\n",
       "       17.933332  , 16.933332  , 15.933333  , 14.933333  , 13.933333  ,\n",
       "       12.933333  , 11.933333  ,  0.26666668, 18.933332  , 21.933332  ,\n",
       "       20.933332  ,  9.933333  ,  8.933333  ,  7.9333334 ,  6.9333334 ,\n",
       "        5.9333334 ,  4.9333334 ,  3.9333334 ,  2.9333334 , 23.933332  ,\n",
       "       23.433332  , 21.95      , 20.8       , 19.25      , 10.716666  ,\n",
       "        1.6833333 ,  2.9333334 , 23.25      ,  2.9333334 , 23.25      ,\n",
       "        2.9333334 , 23.933332  , 23.683332  , 23.433332  , 23.183332  ,\n",
       "       22.933332  , 21.933332  , 20.933332  , 10.933333  , 11.933333  ,\n",
       "       12.933333  , 13.933333  , 12.933333  , 19.933332  , 11.933333  ,\n",
       "       10.933333  ,  9.933333  ,  8.933333  ,  7.9333334 ,  6.9333334 ,\n",
       "        5.9333334 ,  4.9333334 ,  3.9333334 ,  3.1833334 ,  2.9333334 ,\n",
       "       19.933332  ,  1.9333333 ,  0.68333334,  0.43333334,  0.26666668,\n",
       "        0.18333334, 23.933332  , 22.933332  , 21.933332  , 19.933332  ,\n",
       "       18.933332  , 17.933332  , 16.933332  , 15.933333  , 14.933333  ,\n",
       "        0.93333334, 19.266666  , 20.933332  , 18.683332  , 16.933332  ,\n",
       "       12.933333  ,  8.933333  ,  4.9333334 , 23.933332  , 20.933332  ,\n",
       "       16.933332  , 12.933333  ,  8.933333  ,  4.9333334 , 23.933332  ,\n",
       "       20.933332  , 16.933332  , 20.933332  , 12.933333  , 22.933332  ,\n",
       "       20.933332  , 18.933332  , 16.933332  , 12.933333  ,  8.933333  ,\n",
       "        5.9333334 ,  1.9333333 ,  0.93333334, 23.933332  , 18.933332  ,\n",
       "       21.933332  , 22.933332  ,  8.933333  , 23.933332  ,  4.9333334 ,\n",
       "       23.25      , 18.516666  , 18.266666  , 18.25      ,  2.9333334 ,\n",
       "       17.933332  , 16.933332  , 15.933333  , 14.933333  , 13.933333  ,\n",
       "       11.933333  , 10.933333  ,  9.933333  ,  8.933333  ,  7.9333334 ,\n",
       "        6.9333334 , 12.933333  ,  4.9333334 ,  5.9333334 ,  0.18333334,\n",
       "       23.25      ,  0.43333334,  0.68333334,  0.26666668,  0.93333334,\n",
       "        2.9333334 ,  3.1833334 ,  3.9333334 ,  2.9333334 ,  1.9333333 ,\n",
       "        0.        ,  0.        ,  0.        ,  0.        ,  0.        ,\n",
       "        0.        ,  0.        ,  0.        ,  0.        ,  0.        ,\n",
       "        0.        ,  0.        ,  0.        ,  0.        ,  0.        ,\n",
       "        0.        ,  0.        ,  0.        ,  0.        ,  0.        ,\n",
       "        0.        ,  0.        ,  0.        ,  0.        ,  0.        ,\n",
       "        0.        ,  0.        ,  0.        ,  0.        ,  0.        ,\n",
       "        0.        ,  0.        ,  0.        ,  0.        ,  0.        ,\n",
       "        0.        ,  0.        ,  0.        ,  0.        ,  0.        ,\n",
       "        0.        ,  0.        ,  0.        ,  0.        ,  0.        ,\n",
       "        0.        ,  0.        ,  0.        ,  0.        ,  0.        ,\n",
       "        0.        ,  0.        ,  0.        ,  0.        ,  0.        ,\n",
       "        0.        ,  0.        ,  0.        ,  0.        ,  0.        ,\n",
       "        0.        ,  0.        ,  0.        ,  0.        ,  0.        ,\n",
       "        0.        ,  0.        ,  0.        ,  0.        ,  0.        ,\n",
       "        0.        ,  0.        ,  0.        ,  0.        ,  0.        ,\n",
       "        0.        ,  0.        ,  0.        ,  0.        ,  0.        ,\n",
       "        0.        ,  0.        ,  0.        ,  0.        ,  0.        ,\n",
       "        0.        ,  0.        ,  0.        ,  0.        ,  0.        ,\n",
       "        0.        ,  0.        ,  0.        ,  0.        ,  0.        ,\n",
       "        0.        ,  0.        ,  0.        ,  0.        ,  0.        ,\n",
       "        0.        ,  0.        ,  0.        ,  0.        ,  0.        ,\n",
       "        0.        ,  0.        ,  0.        ,  0.        ,  0.        ,\n",
       "        0.        ,  0.        ,  0.        ,  0.        ,  0.        ,\n",
       "        0.        ,  0.        ,  0.        ,  0.        ,  0.        ,\n",
       "        0.        ,  0.        ,  0.        ,  0.        ,  0.        ,\n",
       "        0.        ,  0.        ,  0.        ,  0.        ,  0.        ,\n",
       "        0.        ,  0.        ,  0.        ,  0.        ,  0.        ,\n",
       "        0.        ,  0.        ,  0.        ,  0.        ,  0.        ,\n",
       "        0.        ,  0.        ,  0.        ,  0.        ,  0.        ,\n",
       "        0.        ,  0.        ,  0.        ,  0.        ,  0.        ,\n",
       "        0.        ,  0.        ,  0.        ,  0.        ,  0.        ,\n",
       "        0.        ,  0.        ,  0.        ,  0.        ,  0.        ,\n",
       "        0.        ,  0.        ,  0.        ,  0.        ,  0.        ,\n",
       "        0.        ,  0.        ,  0.        ,  0.        ,  0.        ,\n",
       "        0.        ,  0.        ,  0.        ,  0.        ,  0.        ,\n",
       "        0.        ,  0.        ,  0.        ,  0.        ,  0.        ,\n",
       "        0.        ,  0.        ,  0.        ,  0.        ,  0.        ,\n",
       "        0.        ,  0.        ,  0.        ,  0.        ,  0.        ,\n",
       "        0.        ,  0.        ,  0.        ,  0.        ,  0.        ,\n",
       "        0.        ,  0.        ,  0.        ,  0.        ,  0.        ,\n",
       "        0.        ,  0.        ,  0.        ,  0.        ,  0.        ,\n",
       "        0.        ,  0.        ,  0.        ,  0.        ,  0.        ,\n",
       "        0.        ,  0.        ,  0.        ,  0.        ,  0.        ,\n",
       "        0.        ,  0.        ,  0.        ,  0.        ,  0.        ,\n",
       "        0.        ,  0.        ,  0.        ,  0.        ,  0.        ,\n",
       "        0.        ,  0.        ,  0.        ,  0.        ,  0.        ,\n",
       "        0.        ,  0.        ,  0.        ,  0.        ,  0.        ,\n",
       "        0.        ,  0.        ,  0.        ,  0.        ,  0.        ,\n",
       "        0.        ,  0.        ,  0.        ,  0.        ,  0.        ,\n",
       "        0.        ,  0.        ,  0.        ,  0.        ,  0.        ,\n",
       "        0.        ,  0.        ,  0.        ,  0.        ,  0.        ,\n",
       "        0.        ,  0.        ,  0.        ,  0.        ,  0.        ,\n",
       "        0.        ,  0.        ,  0.        ,  0.        ,  0.        ,\n",
       "        0.        ,  0.        ,  0.        ,  0.        ,  0.        ,\n",
       "        0.        ,  0.        ,  0.        ,  0.        ,  0.        ,\n",
       "        0.        ,  0.        ,  0.        ,  0.        ,  0.        ,\n",
       "        0.        ,  0.        ,  0.        ,  0.        ,  0.        ,\n",
       "        0.        ,  0.        ,  0.        ,  0.        ,  0.        ,\n",
       "        0.        ,  0.        ,  0.        ,  0.        ,  0.        ,\n",
       "        0.        ,  0.        ,  0.        ,  0.        ,  0.        ,\n",
       "        0.        ,  0.        ,  0.        ,  0.        ,  0.        ,\n",
       "        0.        ,  0.        ,  0.        ,  0.        ,  0.        ,\n",
       "        0.        ,  0.        ,  0.        ,  0.        ,  0.        ,\n",
       "        0.        ,  0.        ,  0.        ,  0.        ,  0.        ,\n",
       "        0.        ,  0.        ,  0.        ,  0.        ,  0.        ,\n",
       "        0.        ,  0.        ,  0.        ,  0.        ,  0.        ,\n",
       "        0.        ,  0.        ,  0.        ,  0.        ,  0.        ,\n",
       "        0.        ,  0.        ,  0.        ,  0.        ,  0.        ,\n",
       "        0.        ,  0.        ,  0.        ,  0.        ,  0.        ,\n",
       "        0.        ,  0.        ,  0.        ,  0.        ,  0.        ,\n",
       "        0.        ,  0.        ,  0.        ,  0.        ,  0.        ,\n",
       "        0.        ,  0.        ,  0.        ,  0.        ,  0.        ,\n",
       "        0.        ,  0.        ,  0.        ,  0.        ,  0.        ,\n",
       "        0.        ,  0.        ,  0.        ,  0.        ,  0.        ,\n",
       "        0.        ,  0.        ,  0.        ,  0.        ,  0.        ],\n",
       "      dtype=float32)"
      ]
     },
     "execution_count": 38,
     "metadata": {},
     "output_type": "execute_result"
    }
   ],
   "source": [
    "val_times[0]"
   ]
  },
  {
   "cell_type": "code",
   "execution_count": 25,
   "metadata": {},
   "outputs": [
    {
     "data": {
      "text/plain": [
       "(7144, 880)"
      ]
     },
     "execution_count": 25,
     "metadata": {},
     "output_type": "execute_result"
    }
   ],
   "source": [
    "val_times.shape"
   ]
  },
  {
   "cell_type": "code",
   "execution_count": 26,
   "metadata": {},
   "outputs": [
    {
     "data": {
      "text/plain": [
       "(7144, 880)"
      ]
     },
     "execution_count": 26,
     "metadata": {},
     "output_type": "execute_result"
    }
   ],
   "source": [
    "val_varis.shape"
   ]
  },
  {
   "cell_type": "code",
   "execution_count": 107,
   "metadata": {},
   "outputs": [
    {
     "data": {
      "text/plain": [
       "array([23.6      ,  6.2833333, 11.8      , 11.8      ,  6.2833333,\n",
       "       23.35     , 19.85     , 20.35     , 20.1      , 19.35     ,\n",
       "       18.35     , 16.8      , 13.35     ,  6.2833333, 14.35     ,\n",
       "       15.35     , 22.35     , 11.8      , 14.35     ,  4.35     ,\n",
       "       23.35     ,  6.2833333, 10.35     , 22.35     , 18.35     ,\n",
       "       17.35     , 16.35     , 15.35     , 13.35     , 12.35     ,\n",
       "       11.35     , 10.35     ,  9.35     ,  8.35     ,  7.35     ,\n",
       "        6.35     ,  5.35     , 23.6      ,  9.35     , 13.35     ,\n",
       "        7.35     , 18.35     , 17.35     , 16.35     , 15.35     ,\n",
       "       14.35     , 12.35     , 11.35     , 10.35     ,  9.35     ,\n",
       "        8.35     ,  7.35     ,  6.35     ,  5.35     ,  4.35     ,\n",
       "        3.35     , 11.8      ,  2.35     , 19.35     , 19.85     ,\n",
       "       20.1      , 20.35     ,  6.35     ,  5.35     ,  3.35     ,\n",
       "        0.85     ,  6.2833333,  6.2833333, 23.6      , 11.8      ,\n",
       "        8.35     ,  6.2833333,  6.2833333, 11.8      ,  6.2833333,\n",
       "       11.8      ,  6.2833333, 23.35     , 22.35     , 21.35     ,\n",
       "       11.8      ,  6.2833333, 11.35     ,  0.35     , 16.35     ,\n",
       "        7.35     ,  2.35     ,  0.85     , 23.6      , 11.8      ,\n",
       "        6.2833333, 23.35     , 22.35     , 21.35     , 20.35     ,\n",
       "       20.1      , 19.85     , 19.35     , 18.35     , 17.35     ,\n",
       "       16.35     , 21.35     , 15.35     ,  4.35     ,  6.35     ,\n",
       "        1.35     , 11.8      ,  6.2833333, 23.35     , 22.35     ,\n",
       "       18.35     , 17.35     , 16.35     , 15.35     , 14.35     ,\n",
       "       13.35     , 12.35     , 11.35     , 10.35     ,  9.35     ,\n",
       "        8.35     ,  7.35     ,  5.35     , 14.35     , 13.35     ,\n",
       "       12.35     , 16.35     , 15.35     , 14.35     , 13.35     ,\n",
       "       12.35     , 11.35     , 10.35     ,  9.35     ,  8.35     ,\n",
       "        7.35     ,  6.35     ,  5.35     ,  4.35     ,  3.35     ,\n",
       "        2.35     ,  1.35     ,  0.85     , 16.8      , 17.35     ,\n",
       "       18.35     , 19.35     , 11.35     , 10.35     ,  9.35     ,\n",
       "        8.35     ,  7.35     ,  6.35     ,  5.35     ,  4.35     ,\n",
       "       11.8      ,  3.35     ,  1.35     ,  0.85     , 23.35     ,\n",
       "       22.35     , 21.35     , 20.35     , 20.1      , 19.85     ,\n",
       "        2.35     ,  0.85     , 21.35     , 11.8      ,  3.35     ,\n",
       "        0.85     ,  0.35     ,  6.2833333, 23.35     , 22.35     ,\n",
       "       21.35     , 20.35     , 20.1      , 19.85     , 19.35     ,\n",
       "       18.35     , 17.35     , 16.35     , 15.35     , 14.35     ,\n",
       "       13.35     ,  7.35     , 12.35     , 11.35     , 20.35     ,\n",
       "       16.35     , 15.35     , 14.35     , 13.35     , 12.35     ,\n",
       "       11.35     , 10.35     ,  9.35     ,  8.35     ,  7.35     ,\n",
       "        6.35     ,  5.35     ,  4.35     ,  3.35     ,  2.35     ,\n",
       "        1.35     , 22.35     , 16.8      , 17.35     , 11.35     ,\n",
       "        9.35     , 11.8      ,  6.2833333,  6.2833333, 23.6      ,\n",
       "       11.8      ,  6.2833333, 23.6      , 11.8      ,  6.2833333,\n",
       "       11.8      ,  6.2833333, 11.8      ,  6.2833333, 11.8      ,\n",
       "        6.2833333, 11.8      ,  6.2833333, 23.6      , 10.35     ,\n",
       "        6.2833333,  6.2833333,  8.35     ,  7.35     ,  6.35     ,\n",
       "        5.35     ,  4.35     ,  3.35     ,  2.35     ,  1.35     ,\n",
       "        0.85     , 23.6      , 11.8      ,  6.2833333, 23.6      ,\n",
       "       11.8      ,  6.2833333, 23.6      , 11.8      , 11.8      ,\n",
       "       18.35     ,  6.2833333, 20.35     ,  9.35     ,  8.35     ,\n",
       "        7.35     ,  6.35     ,  5.35     ,  4.35     ,  3.35     ,\n",
       "        2.35     ,  1.35     ,  0.85     , 23.6      , 11.8      ,\n",
       "        6.2833333, 23.6      , 23.35     , 19.35     , 11.8      ,\n",
       "       10.35     ,  6.2833333, 11.35     , 13.35     , 19.35     ,\n",
       "        6.2833333, 11.8      ,  6.2833333, 11.8      ,  6.2833333,\n",
       "       23.35     , 22.35     , 21.35     , 20.35     , 20.1      ,\n",
       "       19.85     , 19.35     , 18.35     , 16.35     , 15.35     ,\n",
       "       14.35     , 12.35     , 23.35     , 17.35     , 20.35     ,\n",
       "        5.35     ,  3.35     ,  0.35     , 23.35     , 20.35     ,\n",
       "       19.35     , 17.35     , 16.35     , 15.35     , 11.35     ,\n",
       "        9.35     ,  7.35     ,  5.35     ,  3.35     ,  0.35     ,\n",
       "       21.35     , 21.35     ,  7.35     ,  9.35     , 13.35     ,\n",
       "       13.35     , 19.35     , 17.35     , 11.35     , 16.35     ,\n",
       "       15.35     , 13.35     ,  9.35     ,  7.35     ,  5.35     ,\n",
       "       11.35     ,  0.35     , 15.35     , 23.35     , 21.35     ,\n",
       "       20.35     , 16.35     , 19.35     ,  3.35     , 17.35     ,\n",
       "        0.       ,  0.       ,  0.       ,  0.       ,  0.       ,\n",
       "        0.       ,  0.       ,  0.       ,  0.       ,  0.       ,\n",
       "        0.       ,  0.       ,  0.       ,  0.       ,  0.       ,\n",
       "        0.       ,  0.       ,  0.       ,  0.       ,  0.       ,\n",
       "        0.       ,  0.       ,  0.       ,  0.       ,  0.       ,\n",
       "        0.       ,  0.       ,  0.       ,  0.       ,  0.       ,\n",
       "        0.       ,  0.       ,  0.       ,  0.       ,  0.       ,\n",
       "        0.       ,  0.       ,  0.       ,  0.       ,  0.       ,\n",
       "        0.       ,  0.       ,  0.       ,  0.       ,  0.       ,\n",
       "        0.       ,  0.       ,  0.       ,  0.       ,  0.       ,\n",
       "        0.       ,  0.       ,  0.       ,  0.       ,  0.       ,\n",
       "        0.       ,  0.       ,  0.       ,  0.       ,  0.       ,\n",
       "        0.       ,  0.       ,  0.       ,  0.       ,  0.       ,\n",
       "        0.       ,  0.       ,  0.       ,  0.       ,  0.       ,\n",
       "        0.       ,  0.       ,  0.       ,  0.       ,  0.       ,\n",
       "        0.       ,  0.       ,  0.       ,  0.       ,  0.       ,\n",
       "        0.       ,  0.       ,  0.       ,  0.       ,  0.       ,\n",
       "        0.       ,  0.       ,  0.       ,  0.       ,  0.       ,\n",
       "        0.       ,  0.       ,  0.       ,  0.       ,  0.       ,\n",
       "        0.       ,  0.       ,  0.       ,  0.       ,  0.       ,\n",
       "        0.       ,  0.       ,  0.       ,  0.       ,  0.       ,\n",
       "        0.       ,  0.       ,  0.       ,  0.       ,  0.       ,\n",
       "        0.       ,  0.       ,  0.       ,  0.       ,  0.       ,\n",
       "        0.       ,  0.       ,  0.       ,  0.       ,  0.       ,\n",
       "        0.       ,  0.       ,  0.       ,  0.       ,  0.       ,\n",
       "        0.       ,  0.       ,  0.       ,  0.       ,  0.       ,\n",
       "        0.       ,  0.       ,  0.       ,  0.       ,  0.       ,\n",
       "        0.       ,  0.       ,  0.       ,  0.       ,  0.       ,\n",
       "        0.       ,  0.       ,  0.       ,  0.       ,  0.       ,\n",
       "        0.       ,  0.       ,  0.       ,  0.       ,  0.       ,\n",
       "        0.       ,  0.       ,  0.       ,  0.       ,  0.       ,\n",
       "        0.       ,  0.       ,  0.       ,  0.       ,  0.       ,\n",
       "        0.       ,  0.       ,  0.       ,  0.       ,  0.       ,\n",
       "        0.       ,  0.       ,  0.       ,  0.       ,  0.       ,\n",
       "        0.       ,  0.       ,  0.       ,  0.       ,  0.       ,\n",
       "        0.       ,  0.       ,  0.       ,  0.       ,  0.       ,\n",
       "        0.       ,  0.       ,  0.       ,  0.       ,  0.       ,\n",
       "        0.       ,  0.       ,  0.       ,  0.       ,  0.       ,\n",
       "        0.       ,  0.       ,  0.       ,  0.       ,  0.       ,\n",
       "        0.       ,  0.       ,  0.       ,  0.       ,  0.       ,\n",
       "        0.       ,  0.       ,  0.       ,  0.       ,  0.       ,\n",
       "        0.       ,  0.       ,  0.       ,  0.       ,  0.       ,\n",
       "        0.       ,  0.       ,  0.       ,  0.       ,  0.       ,\n",
       "        0.       ,  0.       ,  0.       ,  0.       ,  0.       ,\n",
       "        0.       ,  0.       ,  0.       ,  0.       ,  0.       ,\n",
       "        0.       ,  0.       ,  0.       ,  0.       ,  0.       ,\n",
       "        0.       ,  0.       ,  0.       ,  0.       ,  0.       ,\n",
       "        0.       ,  0.       ,  0.       ,  0.       ,  0.       ,\n",
       "        0.       ,  0.       ,  0.       ,  0.       ,  0.       ,\n",
       "        0.       ,  0.       ,  0.       ,  0.       ,  0.       ,\n",
       "        0.       ,  0.       ,  0.       ,  0.       ,  0.       ,\n",
       "        0.       ,  0.       ,  0.       ,  0.       ,  0.       ,\n",
       "        0.       ,  0.       ,  0.       ,  0.       ,  0.       ,\n",
       "        0.       ,  0.       ,  0.       ,  0.       ,  0.       ,\n",
       "        0.       ,  0.       ,  0.       ,  0.       ,  0.       ,\n",
       "        0.       ,  0.       ,  0.       ,  0.       ,  0.       ,\n",
       "        0.       ,  0.       ,  0.       ,  0.       ,  0.       ,\n",
       "        0.       ,  0.       ,  0.       ,  0.       ,  0.       ,\n",
       "        0.       ,  0.       ,  0.       ,  0.       ,  0.       ,\n",
       "        0.       ,  0.       ,  0.       ,  0.       ,  0.       ,\n",
       "        0.       ,  0.       ,  0.       ,  0.       ,  0.       ,\n",
       "        0.       ,  0.       ,  0.       ,  0.       ,  0.       ,\n",
       "        0.       ,  0.       ,  0.       ,  0.       ,  0.       ,\n",
       "        0.       ,  0.       ,  0.       ,  0.       ,  0.       ,\n",
       "        0.       ,  0.       ,  0.       ,  0.       ,  0.       ,\n",
       "        0.       ,  0.       ,  0.       ,  0.       ,  0.       ,\n",
       "        0.       ,  0.       ,  0.       ,  0.       ,  0.       ,\n",
       "        0.       ,  0.       ,  0.       ,  0.       ,  0.       ,\n",
       "        0.       ,  0.       ,  0.       ,  0.       ,  0.       ,\n",
       "        0.       ,  0.       ,  0.       ,  0.       ,  0.       ,\n",
       "        0.       ,  0.       ,  0.       ,  0.       ,  0.       ,\n",
       "        0.       ,  0.       ,  0.       ,  0.       ,  0.       ,\n",
       "        0.       ,  0.       ,  0.       ,  0.       ,  0.       ,\n",
       "        0.       ,  0.       ,  0.       ,  0.       ,  0.       ,\n",
       "        0.       ,  0.       ,  0.       ,  0.       ,  0.       ,\n",
       "        0.       ,  0.       ,  0.       ,  0.       ,  0.       ,\n",
       "        0.       ,  0.       ,  0.       ,  0.       ,  0.       ,\n",
       "        0.       ,  0.       ,  0.       ,  0.       ,  0.       ,\n",
       "        0.       ,  0.       ,  0.       ,  0.       ,  0.       ,\n",
       "        0.       ,  0.       ,  0.       ,  0.       ,  0.       ,\n",
       "        0.       ,  0.       ,  0.       ,  0.       ,  0.       ,\n",
       "        0.       ,  0.       ,  0.       ,  0.       ,  0.       ,\n",
       "        0.       ,  0.       ,  0.       ,  0.       ,  0.       ,\n",
       "        0.       ,  0.       ,  0.       ,  0.       ,  0.       ,\n",
       "        0.       ,  0.       ,  0.       ,  0.       ,  0.       ,\n",
       "        0.       ,  0.       ,  0.       ,  0.       ,  0.       ,\n",
       "        0.       ,  0.       ,  0.       ,  0.       ,  0.       ,\n",
       "        0.       ,  0.       ,  0.       ,  0.       ,  0.       ,\n",
       "        0.       ,  0.       ,  0.       ,  0.       ,  0.       ,\n",
       "        0.       ,  0.       ,  0.       ,  0.       ,  0.       ,\n",
       "        0.       ,  0.       ,  0.       ,  0.       ,  0.       ,\n",
       "        0.       ,  0.       ,  0.       ,  0.       ,  0.       ,\n",
       "        0.       ,  0.       ,  0.       ,  0.       ,  0.       ,\n",
       "        0.       ,  0.       ,  0.       ,  0.       ,  0.       ,\n",
       "        0.       ,  0.       ,  0.       ,  0.       ,  0.       ,\n",
       "        0.       ,  0.       ,  0.       ,  0.       ,  0.       ,\n",
       "        0.       ,  0.       ,  0.       ,  0.       ,  0.       ,\n",
       "        0.       ,  0.       ,  0.       ,  0.       ,  0.       ,\n",
       "        0.       ,  0.       ,  0.       ,  0.       ,  0.       ,\n",
       "        0.       ,  0.       ,  0.       ,  0.       ,  0.       ,\n",
       "        0.       ,  0.       ,  0.       ,  0.       ,  0.       ,\n",
       "        0.       ,  0.       ,  0.       ,  0.       ,  0.       ,\n",
       "        0.       ,  0.       ,  0.       ,  0.       ,  0.       ,\n",
       "        0.       ,  0.       ,  0.       ,  0.       ,  0.       ,\n",
       "        0.       ,  0.       ,  0.       ,  0.       ,  0.       ,\n",
       "        0.       ,  0.       ,  0.       ,  0.       ,  0.       ,\n",
       "        0.       ,  0.       ,  0.       ,  0.       ,  0.       ,\n",
       "        0.       ,  0.       ,  0.       ,  0.       ,  0.       ,\n",
       "        0.       ,  0.       ,  0.       ,  0.       ,  0.       ],\n",
       "      dtype=float32)"
      ]
     },
     "execution_count": 107,
     "metadata": {},
     "output_type": "execute_result"
    }
   ],
   "source": [
    "val_times[1]"
   ]
  },
  {
   "cell_type": "code",
   "execution_count": 28,
   "metadata": {},
   "outputs": [
    {
     "data": {
      "text/plain": [
       "(array([  0,   1,   2,   3,   4,   5,   6,   7,   8,   9,  10,  11,  12,\n",
       "         13,  14,  15,  16,  17,  18,  19,  20,  21,  22,  23,  24,  25,\n",
       "         26,  27,  28,  29,  30,  31,  32,  33,  34,  35,  36,  37,  38,\n",
       "         39,  40,  41,  42,  43,  44,  45,  46,  47,  48,  49,  50,  51,\n",
       "         52,  53,  54,  55,  56,  57,  58,  59,  60,  61,  62,  63,  64,\n",
       "         65,  66,  67,  68,  69,  70,  71,  72,  73,  74,  75,  76,  77,\n",
       "         78,  79,  80,  81,  82,  83,  84,  85,  86,  87,  88,  89,  90,\n",
       "         91,  92,  93,  94,  95,  96,  97,  98,  99, 100, 101, 102, 103,\n",
       "        104, 105, 106, 107, 108, 109, 110, 111, 112, 113, 114, 115, 116,\n",
       "        117, 118, 119, 120, 121, 122, 123, 124, 125, 126, 127, 128, 129],\n",
       "       dtype=int32),\n",
       " array([3500610,    3261,    3357,    3361,    2389,     431,     636,\n",
       "           3250,   12816,   13687,   20344,    2146,   13741,     278,\n",
       "            263,    3379,    6359,   10663,    1549,   10699,     826,\n",
       "          21983,   15733,     801,   13715,     895,   85637,  205824,\n",
       "          15538,    4510,     896,     455,    2145,    3704,     744,\n",
       "          13892,   26904,    1570,     213,    1915,    2469,   55044,\n",
       "          54755,   54813,    1028,    2676,    2826,   41560,   17062,\n",
       "           5441,  209975,    4753,   22163,    1179,   12360,   17308,\n",
       "            414,    1460,   10463,     731,      54,   21997,     332,\n",
       "           5623,    1762,   15426,    1399,    2099,    8287,   22275,\n",
       "           1482,    2160,      16,  204180,   12640,   12642,   12640,\n",
       "          12682,    1069,    1595,     951,    9289,    2785,    2147,\n",
       "           3100,   19418,    2148,   11545,    2820,   12637,  117981,\n",
       "         214139,    2358,   20346,   11575,   20352,   10473,   10732,\n",
       "           5981,    3349,   10757,    1779,     870,   13669,   23656,\n",
       "           1703,    1488,   33662,   12636,   12612,  212115,      96,\n",
       "         205973,    1834,   17146,   22494,     977,     985,    1858,\n",
       "          69899,   20356,     290,   16764,  108741,    1480,    1667,\n",
       "          12728,   80112,   21723,    2565]))"
      ]
     },
     "execution_count": 28,
     "metadata": {},
     "output_type": "execute_result"
    }
   ],
   "source": [
    "np.unique(val_varis, return_counts=True)"
   ]
  },
  {
   "cell_type": "code",
   "execution_count": 134,
   "metadata": {},
   "outputs": [],
   "source": [
    "# Read data.\n",
    "data, oc, train_ind, valid_ind, test_ind = pickle.load(open('./STraTS_torch/mimic_iii_preprocessed.pkl', 'rb'))"
   ]
  },
  {
   "cell_type": "code",
   "execution_count": 135,
   "metadata": {},
   "outputs": [
    {
     "data": {
      "text/plain": [
       "78440995"
      ]
     },
     "execution_count": 135,
     "metadata": {},
     "output_type": "execute_result"
    }
   ],
   "source": [
    "len(data)"
   ]
  },
  {
   "cell_type": "code",
   "execution_count": 136,
   "metadata": {},
   "outputs": [
    {
     "data": {
      "text/plain": [
       "52871"
      ]
     },
     "execution_count": 136,
     "metadata": {},
     "output_type": "execute_result"
    }
   ],
   "source": [
    "len(oc)"
   ]
  },
  {
   "cell_type": "code",
   "execution_count": 189,
   "metadata": {},
   "outputs": [
    {
     "data": {
      "text/html": [
       "<div>\n",
       "<style scoped>\n",
       "    .dataframe tbody tr th:only-of-type {\n",
       "        vertical-align: middle;\n",
       "    }\n",
       "\n",
       "    .dataframe tbody tr th {\n",
       "        vertical-align: top;\n",
       "    }\n",
       "\n",
       "    .dataframe thead th {\n",
       "        text-align: right;\n",
       "    }\n",
       "</style>\n",
       "<table border=\"1\" class=\"dataframe\">\n",
       "  <thead>\n",
       "    <tr style=\"text-align: right;\">\n",
       "      <th></th>\n",
       "      <th>ts_ind</th>\n",
       "      <th>hour</th>\n",
       "      <th>variable</th>\n",
       "      <th>value</th>\n",
       "      <th>TABLE</th>\n",
       "      <th>mean</th>\n",
       "      <th>std</th>\n",
       "    </tr>\n",
       "  </thead>\n",
       "  <tbody>\n",
       "    <tr>\n",
       "      <th>0</th>\n",
       "      <td>0</td>\n",
       "      <td>0.000000</td>\n",
       "      <td>Age</td>\n",
       "      <td>66.000000</td>\n",
       "      <td>N/A</td>\n",
       "      <td>74.805905</td>\n",
       "      <td>54.748198</td>\n",
       "    </tr>\n",
       "    <tr>\n",
       "      <th>1</th>\n",
       "      <td>0</td>\n",
       "      <td>0.000000</td>\n",
       "      <td>Gender</td>\n",
       "      <td>1.000000</td>\n",
       "      <td>N/A</td>\n",
       "      <td>0.436572</td>\n",
       "      <td>0.495965</td>\n",
       "    </tr>\n",
       "    <tr>\n",
       "      <th>2</th>\n",
       "      <td>0</td>\n",
       "      <td>0.033333</td>\n",
       "      <td>DBP</td>\n",
       "      <td>-0.561260</td>\n",
       "      <td>chart</td>\n",
       "      <td>60.220559</td>\n",
       "      <td>14.646605</td>\n",
       "    </tr>\n",
       "    <tr>\n",
       "      <th>3</th>\n",
       "      <td>0</td>\n",
       "      <td>0.033333</td>\n",
       "      <td>GCS_eye</td>\n",
       "      <td>0.676416</td>\n",
       "      <td>chart</td>\n",
       "      <td>3.282005</td>\n",
       "      <td>1.061469</td>\n",
       "    </tr>\n",
       "    <tr>\n",
       "      <th>4</th>\n",
       "      <td>0</td>\n",
       "      <td>0.033333</td>\n",
       "      <td>GCS_motor</td>\n",
       "      <td>0.516602</td>\n",
       "      <td>chart</td>\n",
       "      <td>5.271424</td>\n",
       "      <td>1.410323</td>\n",
       "    </tr>\n",
       "  </tbody>\n",
       "</table>\n",
       "</div>"
      ],
      "text/plain": [
       "   ts_ind      hour   variable      value  TABLE       mean        std\n",
       "0       0  0.000000        Age  66.000000    N/A  74.805905  54.748198\n",
       "1       0  0.000000     Gender   1.000000    N/A   0.436572   0.495965\n",
       "2       0  0.033333        DBP  -0.561260  chart  60.220559  14.646605\n",
       "3       0  0.033333    GCS_eye   0.676416  chart   3.282005   1.061469\n",
       "4       0  0.033333  GCS_motor   0.516602  chart   5.271424   1.410323"
      ]
     },
     "execution_count": 189,
     "metadata": {},
     "output_type": "execute_result"
    }
   ],
   "source": [
    "data.head()"
   ]
  },
  {
   "cell_type": "code",
   "execution_count": 214,
   "metadata": {},
   "outputs": [
    {
     "data": {
      "text/plain": [
       "count     52871.000000\n",
       "mean       1483.629873\n",
       "std        3253.351478\n",
       "min           3.000000\n",
       "25%         370.000000\n",
       "50%         673.000000\n",
       "75%        1395.000000\n",
       "max      197371.000000\n",
       "Name: hour, dtype: float64"
      ]
     },
     "execution_count": 214,
     "metadata": {},
     "output_type": "execute_result"
    }
   ],
   "source": [
    "data.groupby(by=['ts_ind'])['hour'].count().describe()"
   ]
  },
  {
   "cell_type": "code",
   "execution_count": 192,
   "metadata": {},
   "outputs": [
    {
     "data": {
      "text/html": [
       "<div>\n",
       "<style scoped>\n",
       "    .dataframe tbody tr th:only-of-type {\n",
       "        vertical-align: middle;\n",
       "    }\n",
       "\n",
       "    .dataframe tbody tr th {\n",
       "        vertical-align: top;\n",
       "    }\n",
       "\n",
       "    .dataframe thead th {\n",
       "        text-align: right;\n",
       "    }\n",
       "</style>\n",
       "<table border=\"1\" class=\"dataframe\">\n",
       "  <thead>\n",
       "    <tr style=\"text-align: right;\">\n",
       "      <th></th>\n",
       "      <th>ts_ind</th>\n",
       "      <th>hour</th>\n",
       "      <th>variable</th>\n",
       "      <th>value</th>\n",
       "      <th>TABLE</th>\n",
       "      <th>mean</th>\n",
       "      <th>std</th>\n",
       "    </tr>\n",
       "  </thead>\n",
       "  <tbody>\n",
       "    <tr>\n",
       "      <th>46538480</th>\n",
       "      <td>27706</td>\n",
       "      <td>0.000000</td>\n",
       "      <td>Age</td>\n",
       "      <td>65.000000</td>\n",
       "      <td>N/A</td>\n",
       "      <td>74.805905</td>\n",
       "      <td>54.748198</td>\n",
       "    </tr>\n",
       "    <tr>\n",
       "      <th>46538481</th>\n",
       "      <td>27706</td>\n",
       "      <td>0.000000</td>\n",
       "      <td>Gender</td>\n",
       "      <td>1.000000</td>\n",
       "      <td>N/A</td>\n",
       "      <td>0.436572</td>\n",
       "      <td>0.495965</td>\n",
       "    </tr>\n",
       "    <tr>\n",
       "      <th>46538482</th>\n",
       "      <td>27706</td>\n",
       "      <td>0.083333</td>\n",
       "      <td>Base Excess</td>\n",
       "      <td>-0.007954</td>\n",
       "      <td>lab</td>\n",
       "      <td>0.040568</td>\n",
       "      <td>5.100587</td>\n",
       "    </tr>\n",
       "    <tr>\n",
       "      <th>46538483</th>\n",
       "      <td>27706</td>\n",
       "      <td>0.083333</td>\n",
       "      <td>Lactate</td>\n",
       "      <td>0.160851</td>\n",
       "      <td>lab</td>\n",
       "      <td>2.661545</td>\n",
       "      <td>2.725842</td>\n",
       "    </tr>\n",
       "    <tr>\n",
       "      <th>46538484</th>\n",
       "      <td>27706</td>\n",
       "      <td>0.083333</td>\n",
       "      <td>PCO2</td>\n",
       "      <td>0.072777</td>\n",
       "      <td>lab</td>\n",
       "      <td>42.215574</td>\n",
       "      <td>10.778417</td>\n",
       "    </tr>\n",
       "    <tr>\n",
       "      <th>...</th>\n",
       "      <td>...</td>\n",
       "      <td>...</td>\n",
       "      <td>...</td>\n",
       "      <td>...</td>\n",
       "      <td>...</td>\n",
       "      <td>...</td>\n",
       "      <td>...</td>\n",
       "    </tr>\n",
       "    <tr>\n",
       "      <th>46539758</th>\n",
       "      <td>27706</td>\n",
       "      <td>109.866667</td>\n",
       "      <td>HR</td>\n",
       "      <td>-1.800516</td>\n",
       "      <td>chart</td>\n",
       "      <td>87.010048</td>\n",
       "      <td>18.333656</td>\n",
       "    </tr>\n",
       "    <tr>\n",
       "      <th>46539759</th>\n",
       "      <td>27706</td>\n",
       "      <td>109.866667</td>\n",
       "      <td>MBP</td>\n",
       "      <td>0.575351</td>\n",
       "      <td>chart</td>\n",
       "      <td>79.181704</td>\n",
       "      <td>17.064872</td>\n",
       "    </tr>\n",
       "    <tr>\n",
       "      <th>46539760</th>\n",
       "      <td>27706</td>\n",
       "      <td>109.866667</td>\n",
       "      <td>O2 Saturation</td>\n",
       "      <td>0.258452</td>\n",
       "      <td>chart</td>\n",
       "      <td>96.853895</td>\n",
       "      <td>4.434503</td>\n",
       "    </tr>\n",
       "    <tr>\n",
       "      <th>46539761</th>\n",
       "      <td>27706</td>\n",
       "      <td>109.866667</td>\n",
       "      <td>RR</td>\n",
       "      <td>0.060451</td>\n",
       "      <td>chart</td>\n",
       "      <td>19.611439</td>\n",
       "      <td>6.427721</td>\n",
       "    </tr>\n",
       "    <tr>\n",
       "      <th>46539762</th>\n",
       "      <td>27706</td>\n",
       "      <td>109.866667</td>\n",
       "      <td>SBP</td>\n",
       "      <td>-0.097003</td>\n",
       "      <td>chart</td>\n",
       "      <td>121.324312</td>\n",
       "      <td>23.961149</td>\n",
       "    </tr>\n",
       "  </tbody>\n",
       "</table>\n",
       "<p>1283 rows × 7 columns</p>\n",
       "</div>"
      ],
      "text/plain": [
       "          ts_ind        hour       variable      value  TABLE        mean  \\\n",
       "46538480   27706    0.000000            Age  65.000000    N/A   74.805905   \n",
       "46538481   27706    0.000000         Gender   1.000000    N/A    0.436572   \n",
       "46538482   27706    0.083333    Base Excess  -0.007954    lab    0.040568   \n",
       "46538483   27706    0.083333        Lactate   0.160851    lab    2.661545   \n",
       "46538484   27706    0.083333           PCO2   0.072777    lab   42.215574   \n",
       "...          ...         ...            ...        ...    ...         ...   \n",
       "46539758   27706  109.866667             HR  -1.800516  chart   87.010048   \n",
       "46539759   27706  109.866667            MBP   0.575351  chart   79.181704   \n",
       "46539760   27706  109.866667  O2 Saturation   0.258452  chart   96.853895   \n",
       "46539761   27706  109.866667             RR   0.060451  chart   19.611439   \n",
       "46539762   27706  109.866667            SBP  -0.097003  chart  121.324312   \n",
       "\n",
       "                std  \n",
       "46538480  54.748198  \n",
       "46538481   0.495965  \n",
       "46538482   5.100587  \n",
       "46538483   2.725842  \n",
       "46538484  10.778417  \n",
       "...             ...  \n",
       "46539758  18.333656  \n",
       "46539759  17.064872  \n",
       "46539760   4.434503  \n",
       "46539761   6.427721  \n",
       "46539762  23.961149  \n",
       "\n",
       "[1283 rows x 7 columns]"
      ]
     },
     "execution_count": 192,
     "metadata": {},
     "output_type": "execute_result"
    }
   ],
   "source": [
    "data[data['ts_ind']==27706]"
   ]
  },
  {
   "cell_type": "code",
   "execution_count": 190,
   "metadata": {},
   "outputs": [
    {
     "data": {
      "text/plain": [
       "ts_ind\n",
       "0        1262\n",
       "1         774\n",
       "2         722\n",
       "3         595\n",
       "4         477\n",
       "         ... \n",
       "52866     120\n",
       "52867     135\n",
       "52868     189\n",
       "52869     223\n",
       "52870     211\n",
       "Name: hour, Length: 52871, dtype: int64"
      ]
     },
     "execution_count": 190,
     "metadata": {},
     "output_type": "execute_result"
    }
   ],
   "source": [
    "data.groupby(by=['ts_ind'])['hour'].count()"
   ]
  },
  {
   "cell_type": "code",
   "execution_count": 150,
   "metadata": {},
   "outputs": [
    {
     "data": {
      "text/html": [
       "<div>\n",
       "<style scoped>\n",
       "    .dataframe tbody tr th:only-of-type {\n",
       "        vertical-align: middle;\n",
       "    }\n",
       "\n",
       "    .dataframe tbody tr th {\n",
       "        vertical-align: top;\n",
       "    }\n",
       "\n",
       "    .dataframe thead th {\n",
       "        text-align: right;\n",
       "    }\n",
       "</style>\n",
       "<table border=\"1\" class=\"dataframe\">\n",
       "  <thead>\n",
       "    <tr style=\"text-align: right;\">\n",
       "      <th></th>\n",
       "      <th>count</th>\n",
       "      <th>mean</th>\n",
       "      <th>std</th>\n",
       "      <th>min</th>\n",
       "      <th>25%</th>\n",
       "      <th>50%</th>\n",
       "      <th>75%</th>\n",
       "      <th>max</th>\n",
       "    </tr>\n",
       "    <tr>\n",
       "      <th>variable</th>\n",
       "      <th></th>\n",
       "      <th></th>\n",
       "      <th></th>\n",
       "      <th></th>\n",
       "      <th></th>\n",
       "      <th></th>\n",
       "      <th></th>\n",
       "      <th></th>\n",
       "    </tr>\n",
       "  </thead>\n",
       "  <tbody>\n",
       "    <tr>\n",
       "      <th>ALP</th>\n",
       "      <td>70669.0</td>\n",
       "      <td>-8.043614e-18</td>\n",
       "      <td>1.000000</td>\n",
       "      <td>-0.880152</td>\n",
       "      <td>-0.487400</td>\n",
       "      <td>-0.305254</td>\n",
       "      <td>0.076114</td>\n",
       "      <td>21.495328</td>\n",
       "    </tr>\n",
       "    <tr>\n",
       "      <th>ALT</th>\n",
       "      <td>72082.0</td>\n",
       "      <td>8.674532e-18</td>\n",
       "      <td>1.000000</td>\n",
       "      <td>-0.313620</td>\n",
       "      <td>-0.286748</td>\n",
       "      <td>-0.259875</td>\n",
       "      <td>-0.169020</td>\n",
       "      <td>13.666560</td>\n",
       "    </tr>\n",
       "    <tr>\n",
       "      <th>AST</th>\n",
       "      <td>72069.0</td>\n",
       "      <td>-1.261978e-17</td>\n",
       "      <td>1.000000</td>\n",
       "      <td>-0.276758</td>\n",
       "      <td>-0.251438</td>\n",
       "      <td>-0.227864</td>\n",
       "      <td>-0.158889</td>\n",
       "      <td>18.896536</td>\n",
       "    </tr>\n",
       "    <tr>\n",
       "      <th>Age</th>\n",
       "      <td>52871.0</td>\n",
       "      <td>7.480590e+01</td>\n",
       "      <td>54.748198</td>\n",
       "      <td>18.000000</td>\n",
       "      <td>53.000000</td>\n",
       "      <td>66.000000</td>\n",
       "      <td>78.000000</td>\n",
       "      <td>311.000000</td>\n",
       "    </tr>\n",
       "    <tr>\n",
       "      <th>Albumin</th>\n",
       "      <td>48509.0</td>\n",
       "      <td>-3.093583e-16</td>\n",
       "      <td>1.000000</td>\n",
       "      <td>-2.904170</td>\n",
       "      <td>-0.760930</td>\n",
       "      <td>0.004513</td>\n",
       "      <td>0.616867</td>\n",
       "      <td>6.281144</td>\n",
       "    </tr>\n",
       "    <tr>\n",
       "      <th>...</th>\n",
       "      <td>...</td>\n",
       "      <td>...</td>\n",
       "      <td>...</td>\n",
       "      <td>...</td>\n",
       "      <td>...</td>\n",
       "      <td>...</td>\n",
       "      <td>...</td>\n",
       "      <td>...</td>\n",
       "    </tr>\n",
       "    <tr>\n",
       "      <th>Vasopressin</th>\n",
       "      <td>123050.0</td>\n",
       "      <td>8.113064e-17</td>\n",
       "      <td>1.000000</td>\n",
       "      <td>-0.759247</td>\n",
       "      <td>-0.365571</td>\n",
       "      <td>0.027001</td>\n",
       "      <td>0.027001</td>\n",
       "      <td>128.971756</td>\n",
       "    </tr>\n",
       "    <tr>\n",
       "      <th>WBC</th>\n",
       "      <td>287957.0</td>\n",
       "      <td>9.899733e-17</td>\n",
       "      <td>1.000000</td>\n",
       "      <td>-1.358214</td>\n",
       "      <td>-0.496552</td>\n",
       "      <td>-0.154096</td>\n",
       "      <td>0.276735</td>\n",
       "      <td>72.170319</td>\n",
       "    </tr>\n",
       "    <tr>\n",
       "      <th>Weight</th>\n",
       "      <td>1907928.0</td>\n",
       "      <td>-1.558784e-16</td>\n",
       "      <td>1.000000</td>\n",
       "      <td>-3.314522</td>\n",
       "      <td>-0.647189</td>\n",
       "      <td>-0.164005</td>\n",
       "      <td>0.495954</td>\n",
       "      <td>8.470455</td>\n",
       "    </tr>\n",
       "    <tr>\n",
       "      <th>pH Blood</th>\n",
       "      <td>437719.0</td>\n",
       "      <td>-1.210321e-15</td>\n",
       "      <td>1.000000</td>\n",
       "      <td>-89.514052</td>\n",
       "      <td>-0.536327</td>\n",
       "      <td>0.069789</td>\n",
       "      <td>0.675904</td>\n",
       "      <td>7.343172</td>\n",
       "    </tr>\n",
       "    <tr>\n",
       "      <th>pH Urine</th>\n",
       "      <td>46661.0</td>\n",
       "      <td>2.223254e-17</td>\n",
       "      <td>1.000000</td>\n",
       "      <td>-5.003822</td>\n",
       "      <td>-0.800959</td>\n",
       "      <td>-0.275601</td>\n",
       "      <td>0.775115</td>\n",
       "      <td>4.452621</td>\n",
       "    </tr>\n",
       "  </tbody>\n",
       "</table>\n",
       "<p>131 rows × 8 columns</p>\n",
       "</div>"
      ],
      "text/plain": [
       "                 count          mean        std        min        25%  \\\n",
       "variable                                                                \n",
       "ALP            70669.0 -8.043614e-18   1.000000  -0.880152  -0.487400   \n",
       "ALT            72082.0  8.674532e-18   1.000000  -0.313620  -0.286748   \n",
       "AST            72069.0 -1.261978e-17   1.000000  -0.276758  -0.251438   \n",
       "Age            52871.0  7.480590e+01  54.748198  18.000000  53.000000   \n",
       "Albumin        48509.0 -3.093583e-16   1.000000  -2.904170  -0.760930   \n",
       "...                ...           ...        ...        ...        ...   \n",
       "Vasopressin   123050.0  8.113064e-17   1.000000  -0.759247  -0.365571   \n",
       "WBC           287957.0  9.899733e-17   1.000000  -1.358214  -0.496552   \n",
       "Weight       1907928.0 -1.558784e-16   1.000000  -3.314522  -0.647189   \n",
       "pH Blood      437719.0 -1.210321e-15   1.000000 -89.514052  -0.536327   \n",
       "pH Urine       46661.0  2.223254e-17   1.000000  -5.003822  -0.800959   \n",
       "\n",
       "                   50%        75%         max  \n",
       "variable                                       \n",
       "ALP          -0.305254   0.076114   21.495328  \n",
       "ALT          -0.259875  -0.169020   13.666560  \n",
       "AST          -0.227864  -0.158889   18.896536  \n",
       "Age          66.000000  78.000000  311.000000  \n",
       "Albumin       0.004513   0.616867    6.281144  \n",
       "...                ...        ...         ...  \n",
       "Vasopressin   0.027001   0.027001  128.971756  \n",
       "WBC          -0.154096   0.276735   72.170319  \n",
       "Weight       -0.164005   0.495954    8.470455  \n",
       "pH Blood      0.069789   0.675904    7.343172  \n",
       "pH Urine     -0.275601   0.775115    4.452621  \n",
       "\n",
       "[131 rows x 8 columns]"
      ]
     },
     "execution_count": 150,
     "metadata": {},
     "output_type": "execute_result"
    }
   ],
   "source": [
    "data.groupby(by=['variable'])['value'].describe()"
   ]
  },
  {
   "cell_type": "code",
   "execution_count": 191,
   "metadata": {},
   "outputs": [
    {
     "data": {
      "text/html": [
       "<div>\n",
       "<style scoped>\n",
       "    .dataframe tbody tr th:only-of-type {\n",
       "        vertical-align: middle;\n",
       "    }\n",
       "\n",
       "    .dataframe tbody tr th {\n",
       "        vertical-align: top;\n",
       "    }\n",
       "\n",
       "    .dataframe thead th {\n",
       "        text-align: right;\n",
       "    }\n",
       "</style>\n",
       "<table border=\"1\" class=\"dataframe\">\n",
       "  <thead>\n",
       "    <tr style=\"text-align: right;\">\n",
       "      <th></th>\n",
       "      <th>ts_ind</th>\n",
       "      <th>HADM_ID</th>\n",
       "      <th>SUBJECT_ID</th>\n",
       "      <th>in_hospital_mortality</th>\n",
       "    </tr>\n",
       "  </thead>\n",
       "  <tbody>\n",
       "    <tr>\n",
       "      <th>32437</th>\n",
       "      <td>27706</td>\n",
       "      <td>177711</td>\n",
       "      <td>49750</td>\n",
       "      <td>0</td>\n",
       "    </tr>\n",
       "  </tbody>\n",
       "</table>\n",
       "</div>"
      ],
      "text/plain": [
       "       ts_ind  HADM_ID  SUBJECT_ID  in_hospital_mortality\n",
       "32437   27706   177711       49750                      0"
      ]
     },
     "execution_count": 191,
     "metadata": {},
     "output_type": "execute_result"
    }
   ],
   "source": [
    "oc[oc['SUBJECT_ID']==49750]"
   ]
  },
  {
   "cell_type": "code",
   "execution_count": 138,
   "metadata": {},
   "outputs": [
    {
     "data": {
      "text/html": [
       "<div>\n",
       "<style scoped>\n",
       "    .dataframe tbody tr th:only-of-type {\n",
       "        vertical-align: middle;\n",
       "    }\n",
       "\n",
       "    .dataframe tbody tr th {\n",
       "        vertical-align: top;\n",
       "    }\n",
       "\n",
       "    .dataframe thead th {\n",
       "        text-align: right;\n",
       "    }\n",
       "</style>\n",
       "<table border=\"1\" class=\"dataframe\">\n",
       "  <thead>\n",
       "    <tr style=\"text-align: right;\">\n",
       "      <th></th>\n",
       "      <th>ts_ind</th>\n",
       "      <th>HADM_ID</th>\n",
       "      <th>SUBJECT_ID</th>\n",
       "      <th>in_hospital_mortality</th>\n",
       "    </tr>\n",
       "  </thead>\n",
       "  <tbody>\n",
       "    <tr>\n",
       "      <th>0</th>\n",
       "      <td>0</td>\n",
       "      <td>110404</td>\n",
       "      <td>268</td>\n",
       "      <td>1</td>\n",
       "    </tr>\n",
       "    <tr>\n",
       "      <th>1</th>\n",
       "      <td>1</td>\n",
       "      <td>106296</td>\n",
       "      <td>269</td>\n",
       "      <td>0</td>\n",
       "    </tr>\n",
       "    <tr>\n",
       "      <th>2</th>\n",
       "      <td>2</td>\n",
       "      <td>188028</td>\n",
       "      <td>270</td>\n",
       "      <td>0</td>\n",
       "    </tr>\n",
       "    <tr>\n",
       "      <th>3</th>\n",
       "      <td>3</td>\n",
       "      <td>173727</td>\n",
       "      <td>271</td>\n",
       "      <td>0</td>\n",
       "    </tr>\n",
       "    <tr>\n",
       "      <th>4</th>\n",
       "      <td>4</td>\n",
       "      <td>164716</td>\n",
       "      <td>272</td>\n",
       "      <td>0</td>\n",
       "    </tr>\n",
       "  </tbody>\n",
       "</table>\n",
       "</div>"
      ],
      "text/plain": [
       "   ts_ind  HADM_ID  SUBJECT_ID  in_hospital_mortality\n",
       "0       0   110404         268                      1\n",
       "1       1   106296         269                      0\n",
       "2       2   188028         270                      0\n",
       "3       3   173727         271                      0\n",
       "4       4   164716         272                      0"
      ]
     },
     "execution_count": 138,
     "metadata": {},
     "output_type": "execute_result"
    }
   ],
   "source": [
    "oc.head()"
   ]
  },
  {
   "cell_type": "code",
   "execution_count": 139,
   "metadata": {},
   "outputs": [],
   "source": [
    "# data = data[data['ts_ind']<1000]\n",
    "# oc = oc[oc['ts_ind']<1000]"
   ]
  },
  {
   "cell_type": "code",
   "execution_count": 115,
   "metadata": {},
   "outputs": [],
   "source": [
    "# Filter labeled data in first 24h.\n",
    "data = data.loc[data.ts_ind.isin(np.concatenate((train_ind, valid_ind, test_ind), axis=-1))]\n",
    "data = data.loc[(data.hour>=0)&(data.hour<=24)]\n",
    "oc = oc.loc[oc.ts_ind.isin(np.concatenate((train_ind, valid_ind, test_ind), axis=-1))]"
   ]
  },
  {
   "cell_type": "code",
   "execution_count": 116,
   "metadata": {},
   "outputs": [],
   "source": [
    "# Fix age.\n",
    "data.loc[(data.variable=='Age')&(data.value>200), 'value'] = 91.4"
   ]
  },
  {
   "cell_type": "code",
   "execution_count": 117,
   "metadata": {},
   "outputs": [],
   "source": [
    "# Get y and N.\n",
    "y = np.array(oc.sort_values(by='ts_ind')['in_hospital_mortality']).astype('float32')\n",
    "N = data.ts_ind.max() + 1"
   ]
  },
  {
   "cell_type": "code",
   "execution_count": 118,
   "metadata": {},
   "outputs": [],
   "source": [
    "# Get static data with mean fill and missingness indicator.\n",
    "static_varis = ['Age', 'Gender']\n",
    "ii = data.variable.isin(static_varis)\n",
    "static_data = data.loc[ii]\n",
    "# data without static data\n",
    "data = data.loc[~ii]\n",
    "def inv_list(l, start=0):\n",
    "    d = {}\n",
    "    for i in range(len(l)):\n",
    "        d[l[i]] = i+start\n",
    "    return d\n",
    "# Encoding of static variable `static_var_to_ind = {'Age': 0, 'Gender': 1}`\n",
    "static_var_to_ind = inv_list(static_varis)\n",
    "D = len(static_varis)"
   ]
  },
  {
   "cell_type": "code",
   "execution_count": 119,
   "metadata": {},
   "outputs": [
    {
     "name": "stderr",
     "output_type": "stream",
     "text": [
      "89624it [00:00, 739330.36it/s]\n"
     ]
    }
   ],
   "source": [
    "# 2d array of shape (# of samples , # of static variables)\n",
    "demo = np.zeros((N, D))\n",
    "for row in tqdm(static_data.itertuples()):\n",
    "    # Each cell will have the value of the static variable. Eg. demo[1,1] = Gender of patient ts_ind=1\n",
    "    demo[row.ts_ind, static_var_to_ind[row.variable]] = row.value\n",
    "# Patients with no static variable available will default to 0"
   ]
  },
  {
   "cell_type": "code",
   "execution_count": 120,
   "metadata": {},
   "outputs": [],
   "source": [
    "# Normalize static data.\n",
    "means = demo.mean(axis=0, keepdims=True)\n",
    "stds = demo.std(axis=0, keepdims=True)\n",
    "stds = (stds==0)*1 + (stds!=0)*stds\n",
    "demo = (demo-means)/stds"
   ]
  },
  {
   "cell_type": "code",
   "execution_count": 121,
   "metadata": {},
   "outputs": [
    {
     "data": {
      "text/plain": [
       "(44812, 2)"
      ]
     },
     "execution_count": 121,
     "metadata": {},
     "output_type": "execute_result"
    }
   ],
   "source": [
    "demo.shape"
   ]
  },
  {
   "cell_type": "code",
   "execution_count": 122,
   "metadata": {},
   "outputs": [],
   "source": [
    "# Trim to max len.\n",
    "# Not sure why they included this line? For testing?\n",
    "data = data.sample(frac=1)\n",
    "# Trim to 880 variables for every patient. Such that it is same length for all patient to fit into transformer\n",
    "data = data.groupby('ts_ind').head(880)"
   ]
  },
  {
   "cell_type": "code",
   "execution_count": 123,
   "metadata": {},
   "outputs": [],
   "source": [
    "# Get N, V, var_to_ind.\n",
    "N = data.ts_ind.max() + 1\n",
    "varis = sorted(list(set(data.variable)))\n",
    "V = len(varis)\n",
    "def inv_list(l, start=0):\n",
    "    d = {}\n",
    "    for i in range(len(l)):\n",
    "        d[l[i]] = i+start\n",
    "    return d\n",
    "# Encoding of variables \n",
    "var_to_ind = inv_list(varis, start=1)"
   ]
  },
  {
   "cell_type": "code",
   "execution_count": 124,
   "metadata": {},
   "outputs": [],
   "source": [
    "data['vind'] = data.variable.map(var_to_ind)\n",
    "data = data[['ts_ind', 'vind', 'hour', 'value']].sort_values(by=['ts_ind', 'vind', 'hour'])"
   ]
  },
  {
   "cell_type": "code",
   "execution_count": 125,
   "metadata": {},
   "outputs": [],
   "source": [
    "# Add obs index.\n",
    "data = data.sort_values(by=['ts_ind']).reset_index(drop=True)\n",
    "data = data.reset_index().rename(columns={'index':'obs_ind'})\n",
    "data = data.merge(data.groupby('ts_ind').agg({'obs_ind':'min'}).reset_index().rename(columns={ \\\n",
    "                                                            'obs_ind':'first_obs_ind'}), on='ts_ind')\n",
    "data['obs_ind'] = data['obs_ind'] - data['first_obs_ind']"
   ]
  },
  {
   "cell_type": "code",
   "execution_count": 126,
   "metadata": {},
   "outputs": [
    {
     "data": {
      "text/html": [
       "<div>\n",
       "<style scoped>\n",
       "    .dataframe tbody tr th:only-of-type {\n",
       "        vertical-align: middle;\n",
       "    }\n",
       "\n",
       "    .dataframe tbody tr th {\n",
       "        vertical-align: top;\n",
       "    }\n",
       "\n",
       "    .dataframe thead th {\n",
       "        text-align: right;\n",
       "    }\n",
       "</style>\n",
       "<table border=\"1\" class=\"dataframe\">\n",
       "  <thead>\n",
       "    <tr style=\"text-align: right;\">\n",
       "      <th></th>\n",
       "      <th>obs_ind</th>\n",
       "      <th>ts_ind</th>\n",
       "      <th>vind</th>\n",
       "      <th>hour</th>\n",
       "      <th>value</th>\n",
       "      <th>first_obs_ind</th>\n",
       "    </tr>\n",
       "  </thead>\n",
       "  <tbody>\n",
       "    <tr>\n",
       "      <th>17468774</th>\n",
       "      <td>627</td>\n",
       "      <td>44811</td>\n",
       "      <td>69</td>\n",
       "      <td>4.383333</td>\n",
       "      <td>-0.063892</td>\n",
       "      <td>17468147</td>\n",
       "    </tr>\n",
       "    <tr>\n",
       "      <th>17468775</th>\n",
       "      <td>628</td>\n",
       "      <td>44811</td>\n",
       "      <td>69</td>\n",
       "      <td>4.533333</td>\n",
       "      <td>1.587654</td>\n",
       "      <td>17468147</td>\n",
       "    </tr>\n",
       "    <tr>\n",
       "      <th>17468776</th>\n",
       "      <td>629</td>\n",
       "      <td>44811</td>\n",
       "      <td>69</td>\n",
       "      <td>5.133333</td>\n",
       "      <td>-0.063892</td>\n",
       "      <td>17468147</td>\n",
       "    </tr>\n",
       "    <tr>\n",
       "      <th>17468777</th>\n",
       "      <td>630</td>\n",
       "      <td>44811</td>\n",
       "      <td>69</td>\n",
       "      <td>2.383333</td>\n",
       "      <td>-0.063892</td>\n",
       "      <td>17468147</td>\n",
       "    </tr>\n",
       "    <tr>\n",
       "      <th>17468778</th>\n",
       "      <td>631</td>\n",
       "      <td>44811</td>\n",
       "      <td>128</td>\n",
       "      <td>21.333333</td>\n",
       "      <td>0.433458</td>\n",
       "      <td>17468147</td>\n",
       "    </tr>\n",
       "  </tbody>\n",
       "</table>\n",
       "</div>"
      ],
      "text/plain": [
       "          obs_ind  ts_ind  vind       hour     value  first_obs_ind\n",
       "17468774      627   44811    69   4.383333 -0.063892       17468147\n",
       "17468775      628   44811    69   4.533333  1.587654       17468147\n",
       "17468776      629   44811    69   5.133333 -0.063892       17468147\n",
       "17468777      630   44811    69   2.383333 -0.063892       17468147\n",
       "17468778      631   44811   128  21.333333  0.433458       17468147"
      ]
     },
     "execution_count": 126,
     "metadata": {},
     "output_type": "execute_result"
    }
   ],
   "source": [
    "data.tail()"
   ]
  },
  {
   "cell_type": "code",
   "execution_count": 127,
   "metadata": {},
   "outputs": [
    {
     "name": "stdout",
     "output_type": "stream",
     "text": [
      "max_len 880\n"
     ]
    }
   ],
   "source": [
    "# Find max_len.\n",
    "max_len = data.obs_ind.max()+1\n",
    "print ('max_len', max_len)"
   ]
  },
  {
   "cell_type": "code",
   "execution_count": 128,
   "metadata": {},
   "outputs": [],
   "source": [
    "# Generate times_ip and values_ip matrices.\n",
    "times_inp = np.zeros((N, max_len), dtype='float32')\n",
    "values_inp = np.zeros((N, max_len), dtype='float32')\n",
    "varis_inp = np.zeros((N, max_len), dtype='int32')"
   ]
  },
  {
   "cell_type": "code",
   "execution_count": 129,
   "metadata": {},
   "outputs": [
    {
     "name": "stderr",
     "output_type": "stream",
     "text": [
      "17468779it [00:27, 636993.92it/s]\n"
     ]
    }
   ],
   "source": [
    "for row in tqdm(data.itertuples()):\n",
    "    ts_ind = row.ts_ind\n",
    "    l = row.obs_ind\n",
    "    # ts_ind represent the patietn\n",
    "    # l represent the observation index \n",
    "    times_inp[ts_ind, l] = row.hour\n",
    "    values_inp[ts_ind, l] = row.value\n",
    "    varis_inp[ts_ind, l] = row.vind\n",
    "data.drop(columns=['obs_ind', 'first_obs_ind'], inplace=True)"
   ]
  },
  {
   "cell_type": "code",
   "execution_count": 130,
   "metadata": {},
   "outputs": [],
   "source": [
    "# Generate 3 sets of inputs and outputs.\n",
    "train_ip = [ip[train_ind] for ip in [demo, times_inp, values_inp, varis_inp]]\n",
    "valid_ip = [ip[valid_ind] for ip in [demo, times_inp, values_inp, varis_inp]]\n",
    "test_ip = [ip[test_ind] for ip in [demo, times_inp, values_inp, varis_inp]]\n",
    "del times_inp, values_inp, varis_inp\n",
    "train_op = y[train_ind]\n",
    "valid_op = y[valid_ind]\n",
    "test_op = y[test_ind]\n",
    "del y"
   ]
  },
  {
   "cell_type": "code",
   "execution_count": 145,
   "metadata": {},
   "outputs": [
    {
     "data": {
      "text/plain": [
       "(28790, 880)"
      ]
     },
     "execution_count": 145,
     "metadata": {},
     "output_type": "execute_result"
    }
   ],
   "source": [
    "train_ip[2].shape"
   ]
  },
  {
   "cell_type": "code",
   "execution_count": 148,
   "metadata": {},
   "outputs": [
    {
     "data": {
      "text/plain": [
       "array([ 7.18153222e-03,  7.60831824e-03,  8.39058310e-03, -1.39544148e-03,\n",
       "        4.65909997e-03, -3.63272266e-04, -5.81754325e-03,  2.49860575e-03,\n",
       "       -1.88899552e-03,  3.76272760e-03, -3.72506841e-03,  2.35903263e-03,\n",
       "        5.49702626e-03,  8.17467365e-03,  2.41228584e-02,  1.70477536e-02,\n",
       "        1.11522805e-02,  1.76167656e-02,  7.10581662e-03,  3.93562578e-03,\n",
       "       -2.08682800e-03,  1.35587249e-03, -1.18615001e-03,  8.35474289e-04,\n",
       "       -7.22189620e-03, -9.45465919e-03, -1.41321560e-02, -1.75802372e-02,\n",
       "       -1.56119643e-02, -1.50559032e-02, -1.97005942e-02, -1.44071495e-02,\n",
       "       -1.50286769e-02, -3.63209881e-02, -3.30420136e-02, -2.80426294e-02,\n",
       "       -2.19849981e-02, -1.61494985e-02, -2.32368764e-02, -2.06331369e-02,\n",
       "       -1.31021030e-02, -1.62418503e-02, -1.86051298e-02, -5.71578089e-03,\n",
       "       -1.36550888e-02, -4.31562541e-03,  2.31708260e-03, -6.72449591e-03,\n",
       "       -6.68677269e-03, -4.27733362e-03, -1.09116714e-02, -1.13089355e-02,\n",
       "       -7.84109754e-04,  6.16436265e-03,  4.52475809e-03,  3.71758523e-03,\n",
       "        1.38229039e-02,  1.26717817e-02,  2.24875268e-02,  1.83301717e-02,\n",
       "        1.65414084e-02,  1.84345935e-02,  1.94815677e-02,  2.14277860e-02,\n",
       "        2.37567425e-02,  2.82993186e-02,  1.99190173e-02,  3.35997865e-02,\n",
       "        1.87401567e-02,  2.42630225e-02,  2.77049299e-02,  3.71686965e-02,\n",
       "        3.45472507e-02,  2.83557884e-02,  3.92963104e-02,  4.69876565e-02,\n",
       "        5.08117490e-02,  3.66233774e-02,  2.73212139e-02,  2.75104512e-02,\n",
       "        2.17571147e-02,  2.27872543e-02,  3.28595936e-02,  3.53248157e-02,\n",
       "        1.20541276e-02,  3.20845060e-02,  2.04098430e-02,  3.09776384e-02,\n",
       "        2.47931015e-02,  2.79050153e-02,  1.60986390e-02,  1.29596721e-02,\n",
       "        1.22551844e-02,  9.68360808e-03,  7.79667869e-03,  1.07090287e-02,\n",
       "        1.51858544e-02,  2.17122734e-02,  8.09220411e-03,  9.20697954e-03,\n",
       "        2.76581291e-03,  4.43384098e-03,  1.28782596e-02,  1.36778271e-02,\n",
       "        4.46598884e-03,  2.02576891e-02,  1.82593223e-02,  7.15573225e-03,\n",
       "        1.41960522e-02, -3.37424484e-04, -3.42207123e-03,  1.15274116e-02,\n",
       "        1.39824376e-02,  7.85698183e-03,  9.37646721e-04,  1.04687074e-02,\n",
       "        7.25965900e-03,  7.98049755e-03,  4.15134476e-03,  1.13971969e-02,\n",
       "        1.49573311e-02,  1.06840134e-02,  3.55365686e-03,  5.12392633e-03,\n",
       "        1.71398334e-02,  6.78948360e-03,  2.57377345e-02,  2.08025556e-02,\n",
       "        2.77364161e-02,  2.00824626e-02,  1.34114176e-02,  1.39976786e-02,\n",
       "        2.09107511e-02,  1.61648765e-02,  1.49106150e-02,  1.69293415e-02,\n",
       "        3.61182168e-02,  3.48846950e-02,  2.92065833e-02,  2.35635880e-02,\n",
       "        2.79111210e-02,  2.31423434e-02,  1.87718999e-02,  2.59931050e-02,\n",
       "        2.45744567e-02,  4.13180068e-02,  4.17097099e-02,  3.11439000e-02,\n",
       "        3.99787836e-02,  4.08889018e-02,  4.64295261e-02,  3.86829786e-02,\n",
       "        3.54219936e-02,  4.19164896e-02,  3.87561359e-02,  4.46712337e-02,\n",
       "        4.16682996e-02,  3.67287956e-02,  4.20683250e-02,  3.89937311e-02,\n",
       "        3.36759388e-02,  3.55010852e-02,  2.75967717e-02,  3.94829623e-02,\n",
       "        3.85730229e-02,  3.35624591e-02,  4.24151011e-02,  3.38054150e-02,\n",
       "        4.06544395e-02,  4.81708571e-02,  4.58563417e-02,  4.93922979e-02,\n",
       "        4.03394997e-02,  3.99839133e-02,  3.69322039e-02,  2.72383615e-02,\n",
       "        2.93081477e-02,  2.75168102e-02,  2.37701274e-02,  3.75797302e-02,\n",
       "        3.91316712e-02,  3.78119275e-02,  2.29346361e-02,  2.47028712e-02,\n",
       "        2.19447445e-02,  3.03459894e-02,  2.30053272e-02,  1.69235505e-02,\n",
       "        1.59209780e-02,  1.59536488e-02,  1.70337111e-02,  1.70320403e-02,\n",
       "        1.66435819e-02,  2.02000327e-02,  1.36997905e-02,  9.16840229e-03,\n",
       "       -2.38433015e-04,  6.42845780e-03,  8.77852365e-03,  2.32719188e-03,\n",
       "       -9.77810821e-04, -7.15511013e-03,  4.35064454e-03, -4.86487988e-03,\n",
       "       -9.91389249e-03, -6.86927745e-03, -4.61351825e-03, -5.77689009e-03,\n",
       "       -1.00331558e-02, -7.54078897e-03, -1.18653970e-02, -1.11249564e-02,\n",
       "       -3.88006354e-03, -8.92813038e-03, -8.77735578e-03, -5.81174903e-03,\n",
       "       -1.25701893e-02, -5.13726147e-03, -1.10659041e-02, -1.20752379e-02,\n",
       "       -6.31562807e-03, -1.16821621e-02, -1.20863207e-02, -9.68941767e-03,\n",
       "       -7.95789436e-03, -1.61593612e-02, -1.66617576e-02, -1.64632238e-02,\n",
       "       -9.16846097e-03, -2.78485082e-02, -2.40361709e-02, -3.04371044e-02,\n",
       "       -2.37902068e-02, -9.17336252e-03, -2.69505717e-02, -1.89525783e-02,\n",
       "       -2.98702475e-02, -2.21056566e-02, -3.29828784e-02, -3.67582887e-02,\n",
       "       -3.88478749e-02, -4.66763787e-02, -2.59709191e-02, -3.27142589e-02,\n",
       "       -3.25894505e-02, -2.55385377e-02, -1.59810856e-02, -2.85434537e-02,\n",
       "       -3.11081037e-02, -3.52248698e-02, -2.99448650e-02, -3.65527235e-02,\n",
       "       -3.38566527e-02, -3.53646129e-02, -3.42488773e-02, -4.20227759e-02,\n",
       "       -3.85327861e-02, -2.86933873e-02, -3.02809849e-02, -3.16124931e-02,\n",
       "       -2.95441709e-02, -2.48965584e-02, -3.52407359e-02, -2.93349307e-02,\n",
       "       -3.62218767e-02, -3.10296323e-02, -2.72809472e-02, -3.21883224e-02,\n",
       "       -3.02415248e-02, -2.95424927e-02, -2.91765202e-02, -2.51001306e-02,\n",
       "       -2.20594779e-02, -2.31711436e-02, -3.03443111e-02, -2.36625057e-02,\n",
       "       -2.39564609e-02, -2.99264323e-02, -2.77425591e-02, -2.33733337e-02,\n",
       "       -3.41180079e-02, -2.91216597e-02, -3.26177701e-02, -2.96617001e-02,\n",
       "       -3.44213024e-02, -2.91860458e-02, -2.68908031e-02, -2.68254839e-02,\n",
       "       -2.97288019e-02, -3.29839215e-02, -3.62188667e-02, -3.17755118e-02,\n",
       "       -3.12199797e-02, -2.54052263e-02, -2.33373363e-02, -2.25362424e-02,\n",
       "       -2.50501297e-02, -1.94381326e-02, -2.84078978e-02, -2.73182821e-02,\n",
       "       -2.00899690e-02, -3.40301506e-02, -2.12065503e-02, -2.28675585e-02,\n",
       "       -2.52018832e-02, -3.15954015e-02, -3.03140506e-02, -2.70277821e-02,\n",
       "       -2.21324526e-02, -2.59260871e-02, -2.69416049e-02, -2.49665920e-02,\n",
       "       -3.04549932e-02, -2.38990821e-02, -2.98818704e-02, -2.25851759e-02,\n",
       "       -2.11411789e-02, -1.84682943e-02, -1.55301327e-02, -2.41513122e-02,\n",
       "       -2.46336889e-02, -2.55035665e-02, -1.62567068e-02, -1.89034641e-02,\n",
       "       -2.11821701e-02, -2.45563798e-02, -2.93301456e-02, -2.46423017e-02,\n",
       "       -2.18349714e-02, -2.21840646e-02, -1.83509365e-02, -2.55010892e-02,\n",
       "       -2.51584519e-02, -2.58202646e-02, -1.80689562e-02, -2.41707675e-02,\n",
       "       -3.12835462e-02, -2.73911115e-02, -2.55836453e-02, -2.15149820e-02,\n",
       "       -2.43444834e-02, -2.68638637e-02, -2.22653672e-02, -2.80531906e-02,\n",
       "       -3.08605507e-02, -2.63899919e-02, -2.37274300e-02, -2.21231245e-02,\n",
       "       -2.46710591e-02, -1.92777403e-02, -2.61237286e-02, -1.90622974e-02,\n",
       "       -2.22241264e-02, -1.93168093e-02, -1.96354780e-02, -2.47303490e-02,\n",
       "       -2.18498316e-02, -1.37715265e-02, -2.01081429e-02, -1.38794901e-02,\n",
       "       -1.61193591e-02, -2.22743936e-02, -2.03720443e-02, -2.35337354e-02,\n",
       "       -2.38450971e-02, -2.07342952e-02, -2.52367202e-02, -2.67506316e-02,\n",
       "       -2.67681573e-02, -2.01568380e-02, -2.14637984e-02, -2.45906897e-02,\n",
       "       -2.53282059e-02, -2.04121768e-02, -2.45080274e-02, -2.23184675e-02,\n",
       "       -1.73137337e-02, -1.32371644e-02, -1.66615192e-02, -1.62172336e-02,\n",
       "       -2.16759387e-02, -1.81657635e-02, -1.83908530e-02, -2.19255649e-02,\n",
       "       -2.66351290e-02, -2.16074437e-02, -1.49905505e-02, -1.95981562e-02,\n",
       "       -1.65951662e-02, -2.00691652e-02, -2.01939158e-02, -1.95022356e-02,\n",
       "       -1.44805824e-02, -1.60561260e-02, -1.62378978e-02, -1.84225161e-02,\n",
       "       -1.62616335e-02, -1.76422335e-02, -2.33976357e-02, -1.95256639e-02,\n",
       "       -1.24312919e-02, -1.42121231e-02, -1.82780959e-02, -1.83909107e-02,\n",
       "       -1.46063697e-02, -1.72963515e-02, -1.83888283e-02, -1.79330483e-02,\n",
       "       -4.37161885e-03, -1.93033554e-02, -1.68982744e-02, -1.38141019e-02,\n",
       "       -1.78205129e-02, -2.07045432e-02, -2.13248841e-02, -1.63736325e-02,\n",
       "       -1.88999679e-02, -1.61083695e-02, -1.69873107e-02, -1.59923434e-02,\n",
       "       -1.82086043e-02, -1.80329923e-02, -1.73930917e-02, -2.02249791e-02,\n",
       "       -1.28469048e-02, -1.36760101e-02, -1.91159043e-02, -1.88303534e-02,\n",
       "       -1.53484829e-02, -1.20137194e-02, -1.44452006e-02, -1.37309600e-02,\n",
       "       -9.71225183e-03, -1.79826450e-02, -1.28547354e-02, -1.56437699e-02,\n",
       "       -1.57432649e-02, -1.58557370e-02, -1.41521674e-02, -9.74656828e-03,\n",
       "       -1.10755395e-02, -1.18859494e-02, -1.13454740e-02, -1.31753776e-02,\n",
       "       -9.94226243e-03, -1.10216727e-02, -1.32231023e-02, -1.40609946e-02,\n",
       "       -1.74878277e-02, -1.56031176e-02, -1.44893844e-02, -1.10659394e-02,\n",
       "       -8.18259455e-03, -1.21994829e-02, -9.66621004e-03, -9.70969629e-03,\n",
       "       -7.45498762e-03, -9.20126587e-03, -6.21520123e-03, -1.08670173e-02,\n",
       "       -1.28558474e-02, -8.11037328e-03, -7.59340078e-03, -1.53138051e-02,\n",
       "       -1.25272460e-02, -7.32383970e-03, -8.42726603e-03, -1.09692868e-02,\n",
       "       -1.08191157e-02, -1.10604344e-02, -1.11030694e-02, -1.29305124e-02,\n",
       "       -1.69026181e-02, -1.29536511e-02, -9.80959833e-03, -6.83340337e-03,\n",
       "       -7.33217550e-03, -1.15951691e-02, -1.15641542e-02, -5.28293289e-03,\n",
       "       -5.00327954e-03, -8.70836433e-03, -4.60859854e-03, -5.63139748e-03,\n",
       "       -5.31649217e-03, -8.56445730e-03, -4.63877991e-03, -6.68165321e-03,\n",
       "       -1.20036509e-02, -1.15841497e-02, -1.05302148e-02, -7.96656031e-03,\n",
       "       -1.14620524e-02, -7.42436433e-03, -9.43876710e-03, -9.85112321e-03,\n",
       "       -1.26907798e-02, -8.87901895e-03, -6.84611127e-03, -8.12405907e-03,\n",
       "       -6.09070901e-03, -6.74619386e-03, -7.78455753e-03, -7.03409361e-03,\n",
       "       -5.86867984e-03, -3.57665308e-03, -2.26809969e-03, -7.90013000e-03,\n",
       "       -4.92419070e-03, -8.72182939e-03, -7.48090027e-03, -6.27774466e-03,\n",
       "       -6.02010777e-03, -7.99077563e-03, -1.65995932e-03, -4.95496811e-03,\n",
       "       -4.22711950e-03, -3.62335442e-04, -2.50242581e-03, -5.95066650e-03,\n",
       "       -5.58626931e-03, -9.47369542e-03, -5.45169692e-03, -3.11409705e-03,\n",
       "       -5.45858173e-03, -7.33578019e-03, -3.45916697e-03, -1.00594191e-02,\n",
       "       -5.36996825e-03, -8.80298205e-03, -4.45392495e-03, -8.83467868e-03,\n",
       "       -3.73922288e-03, -7.76874647e-03, -6.89792866e-03, -7.87670352e-03,\n",
       "       -8.79261922e-03, -5.86665794e-03, -7.01996824e-03, -4.94642369e-03,\n",
       "       -1.01566529e-02, -5.40092075e-03, -1.02475248e-02, -7.08546629e-03,\n",
       "       -6.68165274e-03, -6.87064510e-03, -6.56830193e-03, -6.92586368e-03,\n",
       "       -9.66855045e-03, -1.11109894e-02, -1.09833237e-02, -1.60710700e-02,\n",
       "       -1.21953217e-02, -6.02892740e-03, -6.47449587e-03, -6.18206896e-03,\n",
       "       -6.25103479e-03, -3.84231168e-03, -3.21864337e-03, -2.37817294e-03,\n",
       "       -1.05967338e-03, -4.82610660e-03, -3.93869821e-03, -4.19327011e-03,\n",
       "       -5.87762985e-03, -5.20498119e-03, -6.54466730e-03, -5.93419652e-03,\n",
       "       -6.24066917e-03, -2.13315850e-03, -3.22063832e-04, -3.62928188e-03,\n",
       "       -5.89407887e-03, -6.17733877e-03, -4.32098331e-03, -5.21269394e-03,\n",
       "       -8.40367191e-03, -7.48618878e-03, -3.59615474e-03, -6.96718460e-03,\n",
       "       -7.41484715e-03, -3.54758953e-03, -7.34598492e-04, -6.65761472e-04,\n",
       "       -1.55483058e-03, -3.65182263e-04, -3.49218957e-03, -3.79803195e-03,\n",
       "       -1.92707602e-03,  2.22787392e-04,  9.34934127e-04, -3.54082766e-03,\n",
       "       -2.43585627e-03, -7.20601017e-03, -2.17006169e-03, -7.08164228e-03,\n",
       "       -7.12050404e-03, -7.85117690e-03, -6.70285989e-03, -4.85562440e-03,\n",
       "       -7.98496231e-03, -7.56859314e-03, -4.08381503e-03, -5.40126208e-03,\n",
       "       -3.09019466e-03, -2.29351572e-03, -3.73620144e-03, -2.61564390e-03,\n",
       "       -2.51341169e-03, -6.10760832e-03, -2.79348157e-03, -3.31252883e-03,\n",
       "       -3.58389388e-03, -2.72551668e-03, -1.10746187e-03, -2.43665348e-03,\n",
       "       -2.04170443e-04, -1.64567518e-05,  8.52254045e-04, -7.48530205e-04,\n",
       "       -4.03349433e-04, -1.89366331e-03, -2.81771412e-03, -3.41904676e-03,\n",
       "       -4.82521392e-03, -9.65332263e-04, -2.08780379e-03, -2.77775154e-03,\n",
       "       -2.04623374e-03, -2.29459302e-03, -2.72140047e-03, -3.01668537e-03,\n",
       "        9.52441478e-04, -2.13734852e-03,  1.72591710e-03, -1.55653129e-03,\n",
       "       -1.13849819e-03, -1.24900870e-03, -3.35712382e-03, -2.60325195e-03,\n",
       "       -2.72598444e-03,  9.13200842e-04,  1.88522844e-03,  1.69951480e-03,\n",
       "       -2.51175906e-03,  1.86354760e-03, -2.93795695e-03, -5.53951191e-04,\n",
       "        2.68631175e-05, -2.00967491e-03, -3.40161636e-03, -5.50322409e-04,\n",
       "       -2.90652504e-03, -2.63238931e-03,  1.21007244e-04, -7.75953173e-04,\n",
       "        7.47857091e-04, -8.19887500e-04, -1.90583651e-03,  1.60339510e-03,\n",
       "        1.84584002e-04, -2.80494383e-03, -2.10462371e-03, -2.45307502e-03,\n",
       "       -3.60522373e-03, -3.67287570e-03, -1.01338410e-04, -2.62149912e-03,\n",
       "       -2.72456044e-03, -1.99588831e-03, -5.66656061e-04,  1.13366536e-04,\n",
       "        5.54095546e-04, -4.70360654e-04, -1.28118624e-03,  5.73754602e-04,\n",
       "       -3.15792917e-04, -1.31821900e-03,  1.26998709e-03,  1.23952655e-03,\n",
       "       -6.14760444e-04,  2.56524235e-03,  2.03286787e-03,  2.09464226e-03,\n",
       "       -7.78966642e-04,  2.31711613e-03,  1.29250635e-03,  1.41360972e-03,\n",
       "        1.03480369e-03,  2.43989308e-03,  2.44864076e-03,  3.61769064e-03,\n",
       "        4.69187368e-03,  3.95207293e-03,  2.94978521e-03,  1.94590352e-03,\n",
       "       -1.32889336e-05,  1.52680193e-04,  1.62737083e-03,  2.97935301e-04,\n",
       "        2.88580335e-03,  1.40804623e-03,  1.35551346e-03,  1.12638937e-03,\n",
       "       -4.17220581e-04, -1.99230533e-04,  1.20631768e-04,  2.33244064e-04,\n",
       "        2.48856406e-04,  8.43896763e-04, -1.43447297e-03, -1.65263307e-03,\n",
       "        9.83844395e-04,  8.20882342e-05, -5.24254690e-04, -3.70507245e-04,\n",
       "       -7.32191314e-04, -1.40589880e-04,  2.51947250e-03,  4.15145041e-04,\n",
       "        6.04329747e-04,  4.21847729e-03,  1.84716680e-03,  2.96278996e-03,\n",
       "        1.12695131e-03, -5.03394753e-04,  2.22818414e-03,  3.69716971e-03,\n",
       "        4.18197690e-03,  1.78289565e-03,  9.98849166e-04,  1.66198891e-03,\n",
       "        3.61900288e-03,  2.13302067e-03,  3.03408480e-03,  4.08649398e-03,\n",
       "        2.51005893e-03,  2.35177530e-03,  3.91801680e-03,  2.60848226e-03,\n",
       "        3.26046976e-03,  2.65676179e-03,  2.81682122e-03,  1.99603615e-03,\n",
       "        1.58358854e-03,  1.74364657e-03,  1.02903508e-03,  3.78950150e-04,\n",
       "       -6.73767412e-04,  1.02308765e-03,  2.59927940e-03,  2.76291859e-03,\n",
       "        1.06483570e-03,  8.87720671e-04,  1.12928345e-03,  1.68174459e-03,\n",
       "        1.92913983e-03, -2.65598181e-04,  1.28528615e-03,  1.04917120e-03,\n",
       "        1.31307158e-03,  1.20160356e-03, -7.63501972e-04,  4.01508150e-05,\n",
       "        1.52816973e-03,  1.12898892e-03,  4.21180797e-04, -7.69678038e-04,\n",
       "        9.96025163e-04, -1.76269549e-03,  1.51456241e-03,  1.57238927e-03,\n",
       "        1.83419057e-03,  1.64502335e-03,  6.63921121e-04,  2.44338624e-03,\n",
       "        9.16665653e-04,  1.57415133e-03,  2.59761326e-03,  2.21732957e-03,\n",
       "        2.71682837e-03,  1.97527721e-03,  2.17341911e-03,  1.51249964e-03,\n",
       "        1.87801523e-03,  1.90870184e-03,  1.21388328e-03,  3.04380036e-03,\n",
       "        1.96899706e-03,  4.71349078e-04,  8.57939769e-04,  5.18016110e-04,\n",
       "        1.15053297e-03,  1.28886208e-03,  4.86761041e-04,  1.13301433e-03,\n",
       "        1.23093638e-03,  2.15926324e-03,  2.25478504e-03,  1.51585543e-03,\n",
       "        2.29915604e-03,  2.46666535e-03,  2.61689327e-03,  2.71712244e-03,\n",
       "        2.41186353e-03,  1.49915717e-03,  1.28139555e-03,  1.10498653e-03,\n",
       "        1.51970424e-03,  8.70669086e-04,  1.87477539e-03,  9.40551865e-04,\n",
       "        2.10782280e-03,  2.94741150e-03,  2.35210592e-03,  2.48695421e-03,\n",
       "        3.14787356e-03,  2.73339008e-03,  3.00445082e-03,  2.55794846e-03,\n",
       "        2.47417903e-03,  3.12586967e-03,  2.36389018e-03,  2.62663024e-03,\n",
       "        3.00662150e-03, -1.36931223e-04,  1.75154547e-03,  1.31493108e-03,\n",
       "        1.06081752e-04,  3.44921282e-04,  4.05666971e-04,  7.97337969e-04,\n",
       "        4.76702378e-04,  6.73229748e-04,  5.78803301e-04,  9.48147906e-04,\n",
       "        1.39766000e-03,  1.34142826e-03,  1.18838239e-03,  5.43856469e-04,\n",
       "        2.87437509e-03,  3.20085278e-03,  1.65183400e-03,  1.39824860e-03,\n",
       "        1.65085599e-03,  1.83308066e-03,  1.16864312e-03,  9.30022215e-04,\n",
       "        7.87190918e-04,  1.97192002e-03, -1.04169718e-04,  1.91154634e-03,\n",
       "        2.53555318e-03,  1.63776893e-03,  4.42987890e-04,  1.64176209e-03,\n",
       "        6.81569683e-04,  1.55289483e-04,  4.79403301e-04,  8.15010513e-04,\n",
       "        6.43826614e-04,  4.34513349e-04,  5.33860002e-04,  7.01194629e-04,\n",
       "        1.45766104e-03,  5.56559535e-04,  1.06835156e-03,  1.91576511e-03,\n",
       "        2.15390068e-03,  1.36053143e-03,  7.01587560e-05,  6.34319091e-04,\n",
       "        1.08071510e-03,  8.76858307e-04,  4.27939201e-04, -1.85828001e-04,\n",
       "       -3.80393583e-04,  1.16446805e-04,  2.04335211e-05, -1.81988187e-04],\n",
       "      dtype=float32)"
      ]
     },
     "execution_count": 148,
     "metadata": {},
     "output_type": "execute_result"
    }
   ],
   "source": [
    "train_ip[2].mean(axis=0)"
   ]
  },
  {
   "cell_type": "markdown",
   "metadata": {},
   "source": [
    "# New Mimic 3"
   ]
  },
  {
   "cell_type": "code",
   "execution_count": 195,
   "metadata": {},
   "outputs": [],
   "source": [
    "data_dir = './STraTS_torch/mortality_mimic_3_benchmark'\n",
    "with gzip.GzipFile(f'{data_dir}/val_times.npy.gz', 'r') as f:\n",
    "    s_val_times = np.load(f)\n",
    "with gzip.GzipFile(f'{data_dir}/val_values.npy.gz', 'r') as f:\n",
    "    s_val_values = np.load(f)\n",
    "with gzip.GzipFile(f'{data_dir}/val_varis.npy.gz', 'r') as f:\n",
    "    s_val_varis = np.load(f)\n",
    "with gzip.GzipFile(f'{data_dir}/val_y.npy.gz', 'r') as f:\n",
    "    s_val_y = np.load(f)      "
   ]
  },
  {
   "cell_type": "code",
   "execution_count": 193,
   "metadata": {},
   "outputs": [
    {
     "data": {
      "text/plain": [
       "(11689, 500)"
      ]
     },
     "execution_count": 193,
     "metadata": {},
     "output_type": "execute_result"
    }
   ],
   "source": [
    "s_val_times.shape"
   ]
  },
  {
   "cell_type": "code",
   "execution_count": 188,
   "metadata": {},
   "outputs": [
    {
     "data": {
      "text/plain": [
       "(2553, 500)"
      ]
     },
     "execution_count": 188,
     "metadata": {},
     "output_type": "execute_result"
    }
   ],
   "source": [
    "s_val_varis.shape"
   ]
  },
  {
   "cell_type": "code",
   "execution_count": 189,
   "metadata": {},
   "outputs": [
    {
     "data": {
      "text/plain": [
       "array([[17, 17, 14, ...,  0,  0,  0],\n",
       "       [ 2,  6,  7, ...,  0,  0,  0],\n",
       "       [ 2, 14, 13, ...,  5, 11,  2],\n",
       "       ...,\n",
       "       [ 2, 12,  9, ...,  0,  0,  0],\n",
       "       [13,  9, 11, ...,  0,  0,  0],\n",
       "       [ 8, 17,  8, ...,  2,  9, 15]], dtype=int32)"
      ]
     },
     "execution_count": 189,
     "metadata": {},
     "output_type": "execute_result"
    }
   ],
   "source": [
    "s_val_varis"
   ]
  },
  {
   "cell_type": "code",
   "execution_count": 190,
   "metadata": {},
   "outputs": [
    {
     "data": {
      "text/plain": [
       "array([ 0,  1,  2,  3,  4,  5,  6,  7,  8,  9, 10, 11, 12, 13, 14, 15, 16,\n",
       "       17], dtype=int32)"
      ]
     },
     "execution_count": 190,
     "metadata": {},
     "output_type": "execute_result"
    }
   ],
   "source": [
    "np.unique(s_val_varis)"
   ]
  },
  {
   "cell_type": "code",
   "execution_count": 74,
   "metadata": {
    "scrolled": true
   },
   "outputs": [
    {
     "data": {
      "text/plain": [
       "array([  7.37    ,   7.37    , 154.      , 107.      ,  91.      ,\n",
       "       107.      ,  32.      ,  99.      ,  29.      ,  36.055557,\n",
       "        99.      ,   4.      ,   6.      , 105.      ,   5.      ,\n",
       "        66.3     , 102.      ,  26.      ,  98.      , 103.      ,\n",
       "        31.      ,  99.      , 109.      , 154.      ,  92.      ,\n",
       "        97.      , 138.      ,   0.7     ,  32.      ,  99.      ,\n",
       "        97.      ,  87.      ,  99.      , 103.      ,  24.      ,\n",
       "       167.      ,  89.      , 104.      ,  37.11111 ,  31.      ,\n",
       "        75.      ,  88.      ,   5.      ,   4.      ,   6.      ,\n",
       "        99.      , 127.      , 101.      ,  91.      ,  32.      ,\n",
       "        72.      ,  81.      ,  99.      , 107.      ,  99.      ,\n",
       "        96.      , 117.      ,  72.      ,  35.      ,  82.      ,\n",
       "       133.      ,  92.      , 107.      , 107.      , 151.      ,\n",
       "        99.      ,  34.      ,   4.      ,   5.      ,   6.      ,\n",
       "        65.      ,  51.      , 104.      ,  98.      ,  15.      ,\n",
       "        96.      ,  28.      ,  95.      ,  98.      ,  67.      ,\n",
       "        58.      ,  98.      ,  96.      ,  94.      ,  21.      ,\n",
       "        37.27778 ,   0.5     ,  97.      ,  84.      , 100.      ,\n",
       "        66.      ,  74.      ,  21.      ,  98.      ,  26.      ,\n",
       "        82.      ,  66.17907 , 150.      ,  86.      , 101.      ,\n",
       "        69.      ,  24.      ,  77.      ,  98.      ,  25.      ,\n",
       "         0.5     ,  97.      ,  36.38889 ,  96.      ,  66.      ,\n",
       "        75.      , 103.      ,  50.      ,  27.      ,   6.      ,\n",
       "        53.      ,   5.      ,  94.      ,   4.      ,  96.      ,\n",
       "       113.      ,  97.      , 125.      ,  28.      ,  69.      ,\n",
       "        83.      ,  96.      ,   0.35    ,  99.      ,  72.      ,\n",
       "        81.      , 110.      ,  30.      ,  36.555557,  90.      ,\n",
       "        91.      ,  74.      ,  99.      ,  84.      ,  37.      ,\n",
       "       123.      ,  68.      ,  54.      ,  97.      ,   5.      ,\n",
       "         4.      ,  25.      ,   6.      ,  98.      ,   0.35    ,\n",
       "       111.      ,   7.28    ,  76.      ,  97.      ,  66.      ,\n",
       "        25.      , 107.      ,  92.      ,   7.28    ,  77.      ,\n",
       "        25.      , 123.      , 110.      ,  98.      ,  64.      ,\n",
       "        37.      ,   7.41    ,  19.      , 105.      ,  99.      ,\n",
       "        79.      ,  68.      , 117.      , 181.      ,   7.41    ,\n",
       "        98.      ,  20.      ,  68.      ,   6.      ,   5.      ,\n",
       "       105.      ,  83.      , 126.      ,   3.      , 181.      ,\n",
       "        79.      , 107.      , 126.      ,  90.      ,  23.      ,\n",
       "        95.      ,  23.      ,  71.      , 104.      ,  92.      ,\n",
       "        97.      ,  60.      ,  99.      ,  98.      ,  75.      ,\n",
       "       121.      ,  27.      ,  84.      , 171.      ,   4.      ,\n",
       "         6.      ,  24.      ,  98.      ,  78.      ,  72.      ,\n",
       "        90.      ,   5.      ,  95.      ,  36.38889 , 120.      ,\n",
       "         0.35    ,  23.      ,  93.      ,  97.      ,  75.      ,\n",
       "        58.      , 120.      ,  67.      ,  27.      , 102.      ,\n",
       "        98.      ,  75.      ,  27.      ,  80.      ,  94.      ,\n",
       "        97.      ,  76.      , 101.      , 117.      ,  99.      ,\n",
       "         0.35    ,   6.      , 106.      ,  37.      ,   4.      ,\n",
       "        77.      ,   5.      ,  68.      ,  24.      , 101.      ,\n",
       "        22.      ,  98.      ,  70.      , 115.      ,  72.      ,\n",
       "        28.      ,  75.      , 142.      ,  87.      ,   0.5     ,\n",
       "        94.      , 127.      ,  95.      ,  29.      ,  81.      ,\n",
       "        67.      , 108.      ,  99.      ,  77.      ,  22.      ,\n",
       "        85.      ,   4.      ,  36.555557,   6.      , 114.      ,\n",
       "         5.      ,  66.      ,  78.      ,  94.      , 111.      ,\n",
       "        80.      ,  72.      ,  24.      ,  77.      ,  94.      ,\n",
       "        72.      , 113.      ,  17.      ,  81.      ,  95.      ,\n",
       "        82.      ,  96.      ,  20.      ,  97.      , 130.      ,\n",
       "        88.      , 106.      ,  91.      , 159.      ,  36.27778 ,\n",
       "        93.      ,  20.      ,  98.      , 112.      ,  90.      ,\n",
       "         4.      ,   6.      ,   5.      ,  77.      ,  35.      ,\n",
       "        98.      ,  55.      , 114.      ,  71.      , 103.      ,\n",
       "        74.      ,  24.      ,  65.      ,  97.      ,  71.      ,\n",
       "        86.      ,  97.      ,  77.      , 112.      ,  19.      ,\n",
       "        98.      ,  83.      ,  97.      ,  36.333332,  24.      ,\n",
       "        69.      , 102.      ,  59.      ,   5.      ,   6.      ,\n",
       "         4.      , 116.      ,  85.      ,  75.      ,  99.      ,\n",
       "        23.      ,  74.      ,  21.      ,  71.      ,  97.      ,\n",
       "        74.      , 113.      ,  83.      , 127.      ,  87.      ,\n",
       "        78.      ,  36.666668, 100.      ,  76.      , 120.      ,\n",
       "        17.      , 127.      ,  75.      , 114.      ,  96.      ,\n",
       "        65.      ,  85.      ,  24.      , 145.      ,  22.      ,\n",
       "        95.      , 102.      ,  94.      ,  86.      ,  26.      ,\n",
       "        96.      ,  98.      ,  93.      ,  83.      , 141.      ,\n",
       "        89.      ,  86.      ,  30.      , 124.      ,  99.      ,\n",
       "        78.      ,   0.      ,   0.      ,   0.      ,   0.      ,\n",
       "         0.      ,   0.      ,   0.      ,   0.      ,   0.      ,\n",
       "         0.      ,   0.      ,   0.      ,   0.      ,   0.      ,\n",
       "         0.      ,   0.      ,   0.      ,   0.      ,   0.      ,\n",
       "         0.      ,   0.      ,   0.      ,   0.      ,   0.      ,\n",
       "         0.      ,   0.      ,   0.      ,   0.      ,   0.      ,\n",
       "         0.      ,   0.      ,   0.      ,   0.      ,   0.      ,\n",
       "         0.      ,   0.      ,   0.      ,   0.      ,   0.      ,\n",
       "         0.      ,   0.      ,   0.      ,   0.      ,   0.      ,\n",
       "         0.      ,   0.      ,   0.      ,   0.      ,   0.      ,\n",
       "         0.      ,   0.      ,   0.      ,   0.      ,   0.      ,\n",
       "         0.      ,   0.      ,   0.      ,   0.      ,   0.      ,\n",
       "         0.      ,   0.      ,   0.      ,   0.      ,   0.      ,\n",
       "         0.      ,   0.      ,   0.      ,   0.      ,   0.      ,\n",
       "         0.      ,   0.      ,   0.      ,   0.      ,   0.      ,\n",
       "         0.      ,   0.      ,   0.      ,   0.      ,   0.      ,\n",
       "         0.      ,   0.      ,   0.      ,   0.      ,   0.      ,\n",
       "         0.      ,   0.      ,   0.      ,   0.      ,   0.      ,\n",
       "         0.      ,   0.      ,   0.      ,   0.      ,   0.      ,\n",
       "         0.      ,   0.      ,   0.      ,   0.      ,   0.      ,\n",
       "         0.      ,   0.      ,   0.      ,   0.      ,   0.      ,\n",
       "         0.      ,   0.      ,   0.      ,   0.      ,   0.      ,\n",
       "         0.      ,   0.      ,   0.      ,   0.      ,   0.      ,\n",
       "         0.      ,   0.      ,   0.      ,   0.      ,   0.      ,\n",
       "         0.      ,   0.      ,   0.      ,   0.      ,   0.      ],\n",
       "      dtype=float32)"
      ]
     },
     "execution_count": 74,
     "metadata": {},
     "output_type": "execute_result"
    }
   ],
   "source": [
    "s_val_values[0]"
   ]
  },
  {
   "cell_type": "code",
   "execution_count": 196,
   "metadata": {},
   "outputs": [
    {
     "name": "stdout",
     "output_type": "stream",
     "text": [
      "Mean: 0.009999999776482582, std: 1.0099999904632568\n",
      "Mean: -0.0, std: 0.8700000047683716\n",
      "Mean: 0.029999999329447746, std: 1.0299999713897705\n",
      "Mean: -0.019999999552965164, std: 1.0099999904632568\n",
      "Mean: -0.009999999776482582, std: 1.0\n",
      "Mean: -0.03999999910593033, std: 1.0099999904632568\n",
      "Mean: -0.0, std: 1.0\n",
      "Mean: 0.019999999552965164, std: 0.949999988079071\n",
      "Mean: 0.009999999776482582, std: 0.8999999761581421\n",
      "Mean: 0.019999999552965164, std: 1.1699999570846558\n",
      "Mean: 0.0, std: 2.7899999618530273\n",
      "Mean: -0.0, std: 0.0\n",
      "Mean: -0.0, std: 0.0\n",
      "Mean: 0.0, std: 0.7200000286102295\n",
      "Mean: 0.019999999552965164, std: 1.649999976158142\n",
      "Mean: 69.58000183105469, std: 4626.60009765625\n",
      "Mean: 0.019999999552965164, std: 1.850000023841858\n"
     ]
    }
   ],
   "source": [
    "for i in range(1,18):\n",
    "    print(f'Mean: {round(s_val_values[s_val_varis==i].mean(),2)}, std: {round(s_val_values[s_val_varis==i].std(),2)}')"
   ]
  },
  {
   "cell_type": "code",
   "execution_count": 154,
   "metadata": {
    "scrolled": true
   },
   "outputs": [
    {
     "data": {
      "text/plain": [
       "(2553, 500)"
      ]
     },
     "execution_count": 154,
     "metadata": {},
     "output_type": "execute_result"
    }
   ],
   "source": [
    "s_val_values.shape"
   ]
  },
  {
   "cell_type": "code",
   "execution_count": 158,
   "metadata": {},
   "outputs": [
    {
     "data": {
      "text/plain": [
       "array([ 0,  1,  2,  3,  4,  5,  6,  7,  8,  9, 10, 11, 12, 13, 14, 15, 16],\n",
       "      dtype=int32)"
      ]
     },
     "execution_count": 158,
     "metadata": {},
     "output_type": "execute_result"
    }
   ],
   "source": [
    "np.unique(s_val_varis)"
   ]
  },
  {
   "cell_type": "code",
   "execution_count": 163,
   "metadata": {},
   "outputs": [
    {
     "data": {
      "text/plain": [
       "array([[16, 16, 13, ...,  0,  0,  0],\n",
       "       [ 1,  5,  6, ...,  0,  0,  0],\n",
       "       [ 1, 13, 12, ...,  4, 10,  1],\n",
       "       ...,\n",
       "       [ 1, 11,  8, ...,  0,  0,  0],\n",
       "       [12,  8, 10, ...,  0,  0,  0],\n",
       "       [ 7, 16,  7, ...,  1,  8, 14]], dtype=int32)"
      ]
     },
     "execution_count": 163,
     "metadata": {},
     "output_type": "execute_result"
    }
   ],
   "source": [
    "s_val_varis"
   ]
  },
  {
   "cell_type": "code",
   "execution_count": 169,
   "metadata": {},
   "outputs": [
    {
     "data": {
      "text/plain": [
       "array([[  7.37,   7.37, 154.  , ...,   0.  ,   0.  ,   0.  ],\n",
       "       [ 49.  ,  15.  ,   5.  , ...,   0.  ,   0.  ,   0.  ],\n",
       "       [ 71.  , 194.  ,  15.  , ...,   4.  ,  75.  ,  55.  ],\n",
       "       ...,\n",
       "       [ 78.  ,  96.  , 134.  , ...,   0.  ,   0.  ,   0.  ],\n",
       "       [ 18.  ,  85.  ,  68.  , ...,   0.  ,   0.  ,   0.  ],\n",
       "       [ 52.  ,   7.42, 108.  , ...,  54.  , 106.  ,  38.3 ]],\n",
       "      dtype=float32)"
      ]
     },
     "execution_count": 169,
     "metadata": {},
     "output_type": "execute_result"
    }
   ],
   "source": [
    "s_val_values"
   ]
  },
  {
   "cell_type": "code",
   "execution_count": 173,
   "metadata": {
    "scrolled": true
   },
   "outputs": [
    {
     "data": {
      "text/plain": [
       "225386"
      ]
     },
     "execution_count": 173,
     "metadata": {},
     "output_type": "execute_result"
    }
   ],
   "source": [
    "(s_val_varis==0).sum()"
   ]
  },
  {
   "cell_type": "code",
   "execution_count": 174,
   "metadata": {},
   "outputs": [
    {
     "data": {
      "text/plain": [
       "(225386,)"
      ]
     },
     "execution_count": 174,
     "metadata": {},
     "output_type": "execute_result"
    }
   ],
   "source": [
    "s_val_values[s_val_varis==0].shape"
   ]
  },
  {
   "cell_type": "code",
   "execution_count": 184,
   "metadata": {},
   "outputs": [
    {
     "data": {
      "text/plain": [
       "array([[-1,  2,  3],\n",
       "       [ 1,  2,  1],\n",
       "       [ 1,  0,  3]])"
      ]
     },
     "execution_count": 184,
     "metadata": {},
     "output_type": "execute_result"
    }
   ],
   "source": [
    "a = np.array([[1,2,3],[3,2,1], [2,1,3]])\n",
    "b = np.array([[1,2,3], [1,2,3], [1,2,3]])\n",
    "\n",
    "mean_1 = b[a==1].mean()\n",
    "std_1 = b[a==1].std()\n",
    "\n",
    "b[a==1] = b[a==1]-mean_1\n",
    "\n",
    "b"
   ]
  },
  {
   "cell_type": "code",
   "execution_count": 175,
   "metadata": {},
   "outputs": [
    {
     "data": {
      "text/plain": [
       "0.0139707755"
      ]
     },
     "execution_count": 175,
     "metadata": {},
     "output_type": "execute_result"
    }
   ],
   "source": [
    "s_val_values[s_val_varis==0].std()"
   ]
  },
  {
   "cell_type": "code",
   "execution_count": 171,
   "metadata": {},
   "outputs": [
    {
     "data": {
      "text/plain": [
       "61.58082"
      ]
     },
     "execution_count": 171,
     "metadata": {},
     "output_type": "execute_result"
    }
   ],
   "source": [
    "s_val_values.mean()"
   ]
  },
  {
   "cell_type": "code",
   "execution_count": 167,
   "metadata": {},
   "outputs": [
    {
     "data": {
      "text/plain": [
       "(array([   0,    0,    0, ..., 2551, 2551, 2551]),\n",
       " array([376, 377, 378, ..., 497, 498, 499]))"
      ]
     },
     "execution_count": 167,
     "metadata": {},
     "output_type": "execute_result"
    }
   ],
   "source": [
    "np.where(s_val_varis == 0)"
   ]
  },
  {
   "cell_type": "code",
   "execution_count": null,
   "metadata": {},
   "outputs": [],
   "source": [
    "mean = np.zeros((17))"
   ]
  },
  {
   "cell_type": "code",
   "execution_count": 210,
   "metadata": {},
   "outputs": [],
   "source": [
    "import torch"
   ]
  },
  {
   "cell_type": "code",
   "execution_count": 213,
   "metadata": {},
   "outputs": [
    {
     "data": {
      "text/plain": [
       "tensor([0.0000, 0.0213, 0.0426, 0.0638, 0.0851, 0.1064, 0.1277, 0.1489, 0.1702,\n",
       "        0.1915, 0.2128, 0.2340, 0.2553, 0.2766, 0.2979, 0.3191, 0.3404, 0.3617,\n",
       "        0.3830, 0.4043, 0.4255, 0.4468, 0.4681, 0.4894, 0.5106, 0.5319, 0.5532,\n",
       "        0.5745, 0.5957, 0.6170, 0.6383, 0.6596, 0.6809, 0.7021, 0.7234, 0.7447,\n",
       "        0.7660, 0.7872, 0.8085, 0.8298, 0.8511, 0.8723, 0.8936, 0.9149, 0.9362,\n",
       "        0.9574, 0.9787, 1.0000])"
      ]
     },
     "execution_count": 213,
     "metadata": {},
     "output_type": "execute_result"
    }
   ],
   "source": [
    "torch.linspace(0, 1., 48)"
   ]
  },
  {
   "cell_type": "code",
   "execution_count": 218,
   "metadata": {},
   "outputs": [
    {
     "data": {
      "text/plain": [
       "tensor([[[1, 2, 3, 4, 5, 6],\n",
       "         [3, 2, 1, 4, 5, 6]]])"
      ]
     },
     "execution_count": 218,
     "metadata": {},
     "output_type": "execute_result"
    }
   ],
   "source": [
    "torch.cat((torch.tensor([[[1,2,3],[3,2,1]]]),torch.tensor([[[4,5,6],[4,5,6]]])),2)"
   ]
  },
  {
   "cell_type": "markdown",
   "metadata": {},
   "source": [
    "# Results"
   ]
  },
  {
   "cell_type": "code",
   "execution_count": 1,
   "metadata": {},
   "outputs": [],
   "source": [
    "import pickle"
   ]
  },
  {
   "cell_type": "code",
   "execution_count": 8,
   "metadata": {},
   "outputs": [],
   "source": [
    "with open('./MultimodalMIMIC/run/TS/ihm/TS/TS_48/Atten/layer3/batch_seq_feature/irregular_TS_64/irregular_Text_64/0.0004_20_8_128_1_4/result.pkl', \"rb\") as f:\n",
    "    results = pickle.load(f)"
   ]
  },
  {
   "cell_type": "code",
   "execution_count": 5,
   "metadata": {},
   "outputs": [
    {
     "data": {
      "text/plain": [
       "{42: {'auc': {'val': 0.8278205621871391, 'test': 0.8432079231129863},\n",
       "  'auprc': {'val': 0.4826476642756666, 'test': 0.48514806595578813},\n",
       "  'f1': {'val': 0.46919431279620855, 'test': 0.4576271186440678}}}"
      ]
     },
     "execution_count": 5,
     "metadata": {},
     "output_type": "execute_result"
    }
   ],
   "source": [
    "results"
   ]
  },
  {
   "cell_type": "code",
   "execution_count": 9,
   "metadata": {},
   "outputs": [
    {
     "data": {
      "text/plain": [
       "{42: {'auc': {'val': 0.826881979206777, 'test': 0.8420710267229254},\n",
       "  'auprc': {'val': 0.4822337256119204, 'test': 0.4851173219491775},\n",
       "  'f1': {'val': 0.4755244755244755, 'test': 0.457983193277311}}}"
      ]
     },
     "execution_count": 9,
     "metadata": {},
     "output_type": "execute_result"
    }
   ],
   "source": [
    "results"
   ]
  },
  {
   "cell_type": "code",
   "execution_count": null,
   "metadata": {},
   "outputs": [],
   "source": []
  }
 ],
 "metadata": {
  "kernelspec": {
   "display_name": "Python 3",
   "language": "python",
   "name": "python3"
  },
  "language_info": {
   "codemirror_mode": {
    "name": "ipython",
    "version": 3
   },
   "file_extension": ".py",
   "mimetype": "text/x-python",
   "name": "python",
   "nbconvert_exporter": "python",
   "pygments_lexer": "ipython3",
   "version": "3.8.12"
  }
 },
 "nbformat": 4,
 "nbformat_minor": 2
}
