{
 "cells": [
  {
   "cell_type": "code",
   "execution_count": 1,
   "id": "4286fca9",
   "metadata": {},
   "outputs": [],
   "source": [
    "from utils import *\n",
    "from data import *\n",
    "from model import STraTS\n",
    "\n",
    "import warnings\n",
    "import time\n",
    "import logging\n",
    "logger = logging.getLogger(__name__)\n",
    "from datetime import datetime\n",
    "import os\n",
    "from tqdm import tqdm\n",
    "import torch\n",
    "import torch.nn\n",
    "from torch.utils.data import DataLoader"
   ]
  },
  {
   "cell_type": "code",
   "execution_count": 2,
   "id": "75fb57c0",
   "metadata": {},
   "outputs": [],
   "source": [
    "data_dir = './mortality_datasets'\n",
    "fp16 = True\n",
    "cpu = True\n",
    "train_batch_size, eval_batch_size = 32, 32\n",
    "d,N, he, dropout = 50, 2, 4, 0.2\n",
    "learning_rate = 0.0005\n",
    "forecast_model_weights = './logs/20231019_2121/best_forecasting_model.pth'"
   ]
  },
  {
   "cell_type": "code",
   "execution_count": 3,
   "id": "bcd0ef6a",
   "metadata": {},
   "outputs": [],
   "source": [
    "train_dataset, val_dataset, test_dataset, V, D = load_mortality_dataset(data_dir)"
   ]
  },
  {
   "cell_type": "code",
   "execution_count": 4,
   "id": "537dbc71",
   "metadata": {},
   "outputs": [
    {
     "name": "stdout",
     "output_type": "stream",
     "text": [
      "varis_stack: 6500\n",
      "values_stack: 364\n",
      "times_stack: 364\n",
      "cont_stack: 39508\n",
      "attn_stack: 5200\n",
      "demo_stack: 5350\n",
      "output_stack: 101\n",
      "Total Parameters: 57387\n"
     ]
    }
   ],
   "source": [
    "model = STraTS(\n",
    "    # No. of Demographics features\n",
    "    D=D,\n",
    "    # No. of Variable Embedding Size\n",
    "    V=V,\n",
    "    d=d,\n",
    "    N=N,\n",
    "    he=he,\n",
    "    dropout=dropout,\n",
    "    forecast=False\n",
    ")"
   ]
  },
  {
   "cell_type": "code",
   "execution_count": 5,
   "id": "37ed8ad6",
   "metadata": {
    "scrolled": true
   },
   "outputs": [
    {
     "data": {
      "text/plain": [
       "STraTS(\n",
       "  (varis_stack): Embedding(130, 50)\n",
       "  (values_stack): CVE(\n",
       "    (stack): Sequential(\n",
       "      (0): Linear(in_features=1, out_features=7, bias=True)\n",
       "      (1): Tanh()\n",
       "      (2): Linear(in_features=7, out_features=50, bias=False)\n",
       "    )\n",
       "  )\n",
       "  (times_stack): CVE(\n",
       "    (stack): Sequential(\n",
       "      (0): Linear(in_features=1, out_features=7, bias=True)\n",
       "      (1): Tanh()\n",
       "      (2): Linear(in_features=7, out_features=50, bias=False)\n",
       "    )\n",
       "  )\n",
       "  (cont_stack): Transformer(\n",
       "    (dropout_layer): Dropout(p=0.2, inplace=False)\n",
       "    (identity): Identity()\n",
       "  )\n",
       "  (attn_stack): Attention(\n",
       "    (stack): Sequential(\n",
       "      (0): Linear(in_features=50, out_features=100, bias=True)\n",
       "      (1): Tanh()\n",
       "      (2): Linear(in_features=100, out_features=1, bias=False)\n",
       "    )\n",
       "    (softmax): Softmax(dim=-2)\n",
       "  )\n",
       "  (demo_stack): Sequential(\n",
       "    (0): Linear(in_features=2, out_features=100, bias=True)\n",
       "    (1): Tanh()\n",
       "    (2): Linear(in_features=100, out_features=50, bias=True)\n",
       "    (3): Tanh()\n",
       "  )\n",
       "  (output_stack): Sequential(\n",
       "    (0): Linear(in_features=100, out_features=1, bias=True)\n",
       "    (1): Sigmoid()\n",
       "    (2): Flatten(start_dim=0, end_dim=-1)\n",
       "  )\n",
       ")"
      ]
     },
     "execution_count": 5,
     "metadata": {},
     "output_type": "execute_result"
    }
   ],
   "source": [
    "model"
   ]
  },
  {
   "cell_type": "code",
   "execution_count": 6,
   "id": "bdf7af39",
   "metadata": {},
   "outputs": [],
   "source": [
    "forecast_weights = torch.load(forecast_model_weights, map_location=torch.device('cpu'))"
   ]
  },
  {
   "cell_type": "code",
   "execution_count": 7,
   "id": "52c0f98c",
   "metadata": {},
   "outputs": [],
   "source": [
    "for k in list(forecast_weights.keys()):\n",
    "    if k.startswith('output_stack'):\n",
    "        del forecast_weights[k]"
   ]
  },
  {
   "cell_type": "code",
   "execution_count": 8,
   "id": "0849601f",
   "metadata": {},
   "outputs": [
    {
     "data": {
      "text/plain": [
       "<All keys matched successfully>"
      ]
     },
     "execution_count": 8,
     "metadata": {},
     "output_type": "execute_result"
    }
   ],
   "source": [
    "model_dict = model.state_dict()\n",
    "model_dict.update(forecast_weights)\n",
    "model.load_state_dict(model_dict)"
   ]
  },
  {
   "cell_type": "code",
   "execution_count": 9,
   "id": "e7e942f1",
   "metadata": {
    "scrolled": true
   },
   "outputs": [],
   "source": [
    "test_dataloader = DataLoader(test_dataset, batch_size=5)"
   ]
  },
  {
   "cell_type": "code",
   "execution_count": 10,
   "id": "f38fe745",
   "metadata": {},
   "outputs": [],
   "source": [
    "batch = next(iter(test_dataloader))\n",
    "X_demos, X_times, X_values, X_varis, Y = batch"
   ]
  },
  {
   "cell_type": "code",
   "execution_count": 11,
   "id": "09b1c56c",
   "metadata": {},
   "outputs": [],
   "source": [
    "Y_pred = model(X_demos, X_times, X_values, X_varis)"
   ]
  },
  {
   "cell_type": "code",
   "execution_count": 12,
   "id": "6709ab92",
   "metadata": {},
   "outputs": [
    {
     "data": {
      "text/plain": [
       "tensor([0.5275, 0.6058, 0.5104, 0.4966, 0.4790], grad_fn=<ViewBackward>)"
      ]
     },
     "execution_count": 12,
     "metadata": {},
     "output_type": "execute_result"
    }
   ],
   "source": [
    "Y_pred"
   ]
  },
  {
   "cell_type": "code",
   "execution_count": 13,
   "id": "34dce0fc",
   "metadata": {},
   "outputs": [
    {
     "data": {
      "text/plain": [
       "tensor([1., 0., 0., 0., 0.])"
      ]
     },
     "execution_count": 13,
     "metadata": {},
     "output_type": "execute_result"
    }
   ],
   "source": [
    "Y"
   ]
  },
  {
   "cell_type": "code",
   "execution_count": 14,
   "id": "b1c2b660",
   "metadata": {
    "scrolled": true
   },
   "outputs": [
    {
     "data": {
      "text/plain": [
       "tensor(0.7246, grad_fn=<BinaryCrossEntropyBackward>)"
      ]
     },
     "execution_count": 14,
     "metadata": {},
     "output_type": "execute_result"
    }
   ],
   "source": [
    "mortality_loss(Y, Y_pred)"
   ]
  },
  {
   "cell_type": "code",
   "execution_count": null,
   "id": "d3afe126",
   "metadata": {},
   "outputs": [],
   "source": [
    "m = nn.Sigmoid()\n",
    "loss = nn.BCELoss()\n",
    "input = torch.randn(3, requires_grad=True)\n",
    "target = torch.empty(3).random_(2)\n",
    "output = loss(m(input), target)"
   ]
  }
 ],
 "metadata": {
  "kernelspec": {
   "display_name": "Python [conda env:.conda-fyp_multi_modal] *",
   "language": "python",
   "name": "conda-env-.conda-fyp_multi_modal-py"
  },
  "language_info": {
   "codemirror_mode": {
    "name": "ipython",
    "version": 3
   },
   "file_extension": ".py",
   "mimetype": "text/x-python",
   "name": "python",
   "nbconvert_exporter": "python",
   "pygments_lexer": "ipython3",
   "version": "3.8.12"
  }
 },
 "nbformat": 4,
 "nbformat_minor": 5
}
